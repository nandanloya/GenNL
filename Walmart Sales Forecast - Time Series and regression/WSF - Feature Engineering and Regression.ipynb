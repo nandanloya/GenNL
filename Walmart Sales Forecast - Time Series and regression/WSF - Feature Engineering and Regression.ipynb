{
 "cells": [
  {
   "cell_type": "code",
   "execution_count": 1,
   "id": "alternate-contemporary",
   "metadata": {},
   "outputs": [],
   "source": [
    "import numpy as np\n",
    "import pandas as pd\n",
    "import matplotlib.pyplot as plt\n",
    "import seaborn as sns\n",
    "import warnings\n",
    "warnings.filterwarnings('ignore')"
   ]
  },
  {
   "cell_type": "code",
   "execution_count": 2,
   "id": "round-devil",
   "metadata": {},
   "outputs": [],
   "source": [
    "#Datetime\n",
    "import datetime as dt\n",
    "\n",
    "#Sklearn\n",
    "import sklearn\n",
    "from sklearn.model_selection import train_test_split,cross_val_score,GridSearchCV,KFold\n",
    "from sklearn.linear_model import LinearRegression,SGDRegressor,Lasso,Ridge,ElasticNet\n",
    "from sklearn.ensemble import RandomForestRegressor,GradientBoostingRegressor,AdaBoostRegressor,BaggingRegressor\n",
    "from sklearn.tree import DecisionTreeRegressor\n",
    "from sklearn.decomposition import PCA\n",
    "from xgboost import XGBRegressor,XGBRFRegressor\n",
    "from sklearn.svm import SVR\n",
    "from sklearn.neighbors import KNeighborsRegressor\n",
    "\n",
    "from sklearn.metrics import mean_squared_error,mean_absolute_error\n",
    "from sklearn.preprocessing import StandardScaler,PowerTransformer,PolynomialFeatures,power_transform\n",
    "from sklearn.pipeline import Pipeline\n",
    "from sklearn.feature_selection import RFE,RFECV\n",
    "from mlxtend.feature_selection import SequentialFeatureSelector\n",
    "\n",
    "#Statsmodels\n",
    "import statsmodels.api as sm\n",
    "import scipy.stats as stats\n",
    "from statsmodels.stats.outliers_influence import variance_inflation_factor"
   ]
  },
  {
   "cell_type": "code",
   "execution_count": 3,
   "id": "handed-theology",
   "metadata": {},
   "outputs": [
    {
     "data": {
      "text/html": [
       "<div>\n",
       "<style scoped>\n",
       "    .dataframe tbody tr th:only-of-type {\n",
       "        vertical-align: middle;\n",
       "    }\n",
       "\n",
       "    .dataframe tbody tr th {\n",
       "        vertical-align: top;\n",
       "    }\n",
       "\n",
       "    .dataframe thead th {\n",
       "        text-align: right;\n",
       "    }\n",
       "</style>\n",
       "<table border=\"1\" class=\"dataframe\">\n",
       "  <thead>\n",
       "    <tr style=\"text-align: right;\">\n",
       "      <th></th>\n",
       "      <th>Year</th>\n",
       "      <th>MonthDate</th>\n",
       "      <th>Event</th>\n",
       "      <th>DayCategory</th>\n",
       "    </tr>\n",
       "  </thead>\n",
       "  <tbody>\n",
       "    <tr>\n",
       "      <th>0</th>\n",
       "      <td>2009</td>\n",
       "      <td>2001-01-01</td>\n",
       "      <td>New Year's Day</td>\n",
       "      <td>Federal Holiday</td>\n",
       "    </tr>\n",
       "    <tr>\n",
       "      <th>1</th>\n",
       "      <td>2009</td>\n",
       "      <td>2019-01-01</td>\n",
       "      <td>Martin Luther King Jr. Day</td>\n",
       "      <td>Federal Holiday</td>\n",
       "    </tr>\n",
       "    <tr>\n",
       "      <th>2</th>\n",
       "      <td>2009</td>\n",
       "      <td>2014-02-01</td>\n",
       "      <td>Valentine's Day</td>\n",
       "      <td>Event</td>\n",
       "    </tr>\n",
       "    <tr>\n",
       "      <th>3</th>\n",
       "      <td>2009</td>\n",
       "      <td>2016-02-01</td>\n",
       "      <td>Presidents' Day</td>\n",
       "      <td>Federal Holiday</td>\n",
       "    </tr>\n",
       "    <tr>\n",
       "      <th>4</th>\n",
       "      <td>2009</td>\n",
       "      <td>2012-04-01</td>\n",
       "      <td>Easter Sunday</td>\n",
       "      <td>Event</td>\n",
       "    </tr>\n",
       "  </tbody>\n",
       "</table>\n",
       "</div>"
      ],
      "text/plain": [
       "   Year  MonthDate                       Event      DayCategory\n",
       "0  2009 2001-01-01              New Year's Day  Federal Holiday\n",
       "1  2009 2019-01-01  Martin Luther King Jr. Day  Federal Holiday\n",
       "2  2009 2014-02-01             Valentine's Day            Event\n",
       "3  2009 2016-02-01             Presidents' Day  Federal Holiday\n",
       "4  2009 2012-04-01               Easter Sunday            Event"
      ]
     },
     "execution_count": 3,
     "metadata": {},
     "output_type": "execute_result"
    }
   ],
   "source": [
    "holidays = pd.read_excel(\"Events_HolidaysData.xlsx\")\n",
    "holidays.head()"
   ]
  },
  {
   "cell_type": "code",
   "execution_count": 4,
   "id": "respected-stadium",
   "metadata": {},
   "outputs": [
    {
     "name": "stdout",
     "output_type": "stream",
     "text": [
      "(150, 4)\n"
     ]
    }
   ],
   "source": [
    "print(holidays.shape)"
   ]
  },
  {
   "cell_type": "code",
   "execution_count": 5,
   "id": "organized-intelligence",
   "metadata": {},
   "outputs": [
    {
     "data": {
      "text/html": [
       "<div>\n",
       "<style scoped>\n",
       "    .dataframe tbody tr th:only-of-type {\n",
       "        vertical-align: middle;\n",
       "    }\n",
       "\n",
       "    .dataframe tbody tr th {\n",
       "        vertical-align: top;\n",
       "    }\n",
       "\n",
       "    .dataframe thead th {\n",
       "        text-align: right;\n",
       "    }\n",
       "</style>\n",
       "<table border=\"1\" class=\"dataframe\">\n",
       "  <thead>\n",
       "    <tr style=\"text-align: right;\">\n",
       "      <th></th>\n",
       "      <th>Year-Month</th>\n",
       "      <th>Monthly Nominal GDP Index (inMillion$)</th>\n",
       "      <th>Monthly Real GDP Index (inMillion$)</th>\n",
       "      <th>CPI</th>\n",
       "      <th>PartyInPower</th>\n",
       "      <th>unemployment rate</th>\n",
       "      <th>CommercialBankInterestRateonCreditCardPlans</th>\n",
       "      <th>Finance Rate on Personal Loans at Commercial Banks, 24 Month Loan</th>\n",
       "      <th>Earnings or wages  in dollars per hour</th>\n",
       "      <th>AdvertisingExpenses (in Thousand Dollars)</th>\n",
       "      <th>Cotton Monthly Price - US cents per Pound(lbs)</th>\n",
       "      <th>Change(in%)</th>\n",
       "      <th>Average upland planted(million acres)</th>\n",
       "      <th>Average upland harvested(million acres)</th>\n",
       "      <th>yieldperharvested acre</th>\n",
       "      <th>Production (in  480-lb netweright in million bales)</th>\n",
       "      <th>Mill use  (in  480-lb netweright in million bales)</th>\n",
       "      <th>Exports</th>\n",
       "    </tr>\n",
       "  </thead>\n",
       "  <tbody>\n",
       "    <tr>\n",
       "      <th>0</th>\n",
       "      <td>2009 - Jan</td>\n",
       "      <td>14421.752895</td>\n",
       "      <td>14407.053343</td>\n",
       "      <td>233.402</td>\n",
       "      <td>Democrats</td>\n",
       "      <td>7.8</td>\n",
       "      <td>12.03</td>\n",
       "      <td>11.44</td>\n",
       "      <td>22.05</td>\n",
       "      <td>137</td>\n",
       "      <td>57.70</td>\n",
       "      <td>4.02</td>\n",
       "      <td>9.296</td>\n",
       "      <td>7.559</td>\n",
       "      <td>799</td>\n",
       "      <td>12.589</td>\n",
       "      <td>4.17</td>\n",
       "      <td>11.550</td>\n",
       "    </tr>\n",
       "    <tr>\n",
       "      <th>1</th>\n",
       "      <td>2009 - Feb</td>\n",
       "      <td>14389.200466</td>\n",
       "      <td>14366.176571</td>\n",
       "      <td>234.663</td>\n",
       "      <td>Democrats</td>\n",
       "      <td>8.3</td>\n",
       "      <td>12.97</td>\n",
       "      <td>11.05</td>\n",
       "      <td>22.22</td>\n",
       "      <td>200</td>\n",
       "      <td>55.21</td>\n",
       "      <td>-4.32</td>\n",
       "      <td>9.296</td>\n",
       "      <td>7.559</td>\n",
       "      <td>799</td>\n",
       "      <td>12.589</td>\n",
       "      <td>3.87</td>\n",
       "      <td>11.100</td>\n",
       "    </tr>\n",
       "    <tr>\n",
       "      <th>2</th>\n",
       "      <td>2009 - Mar</td>\n",
       "      <td>14340.701639</td>\n",
       "      <td>14351.786822</td>\n",
       "      <td>235.067</td>\n",
       "      <td>Democrats</td>\n",
       "      <td>8.7</td>\n",
       "      <td>12.97</td>\n",
       "      <td>11.05</td>\n",
       "      <td>22.22</td>\n",
       "      <td>?</td>\n",
       "      <td>51.50</td>\n",
       "      <td>-6.72</td>\n",
       "      <td>9.296</td>\n",
       "      <td>7.559</td>\n",
       "      <td>799</td>\n",
       "      <td>12.589</td>\n",
       "      <td>3.72</td>\n",
       "      <td>11.650</td>\n",
       "    </tr>\n",
       "    <tr>\n",
       "      <th>3</th>\n",
       "      <td>2009 - Apr</td>\n",
       "      <td>14326.815525</td>\n",
       "      <td>14351.601731</td>\n",
       "      <td>235.582</td>\n",
       "      <td>Democrats</td>\n",
       "      <td>9.0</td>\n",
       "      <td>12.97</td>\n",
       "      <td>11.05</td>\n",
       "      <td>22.13</td>\n",
       "      <td>214</td>\n",
       "      <td>56.78</td>\n",
       "      <td>10.25</td>\n",
       "      <td>9.296</td>\n",
       "      <td>7.559</td>\n",
       "      <td>787</td>\n",
       "      <td>12.400</td>\n",
       "      <td>3.62</td>\n",
       "      <td>12.225</td>\n",
       "    </tr>\n",
       "    <tr>\n",
       "      <th>4</th>\n",
       "      <td>2009 - May</td>\n",
       "      <td>14345.904809</td>\n",
       "      <td>14368.123959</td>\n",
       "      <td>235.975</td>\n",
       "      <td>Democrats</td>\n",
       "      <td>9.4</td>\n",
       "      <td>13.32</td>\n",
       "      <td>11.25</td>\n",
       "      <td>22.04</td>\n",
       "      <td>?</td>\n",
       "      <td>61.95</td>\n",
       "      <td>9.11</td>\n",
       "      <td>9.297</td>\n",
       "      <td>7.400</td>\n",
       "      <td>803</td>\n",
       "      <td>12.384</td>\n",
       "      <td>3.52</td>\n",
       "      <td>12.300</td>\n",
       "    </tr>\n",
       "  </tbody>\n",
       "</table>\n",
       "</div>"
      ],
      "text/plain": [
       "   Year-Month  Monthly Nominal GDP Index (inMillion$)  \\\n",
       "0  2009 - Jan                            14421.752895   \n",
       "1  2009 - Feb                            14389.200466   \n",
       "2  2009 - Mar                            14340.701639   \n",
       "3  2009 - Apr                            14326.815525   \n",
       "4  2009 - May                            14345.904809   \n",
       "\n",
       "   Monthly Real GDP Index (inMillion$)      CPI PartyInPower  \\\n",
       "0                         14407.053343  233.402    Democrats   \n",
       "1                         14366.176571  234.663    Democrats   \n",
       "2                         14351.786822  235.067    Democrats   \n",
       "3                         14351.601731  235.582    Democrats   \n",
       "4                         14368.123959  235.975    Democrats   \n",
       "\n",
       "   unemployment rate  CommercialBankInterestRateonCreditCardPlans  \\\n",
       "0                7.8                                        12.03   \n",
       "1                8.3                                        12.97   \n",
       "2                8.7                                        12.97   \n",
       "3                9.0                                        12.97   \n",
       "4                9.4                                        13.32   \n",
       "\n",
       "   Finance Rate on Personal Loans at Commercial Banks, 24 Month Loan  \\\n",
       "0                                              11.44                   \n",
       "1                                              11.05                   \n",
       "2                                              11.05                   \n",
       "3                                              11.05                   \n",
       "4                                              11.25                   \n",
       "\n",
       "   Earnings or wages  in dollars per hour  \\\n",
       "0                                   22.05   \n",
       "1                                   22.22   \n",
       "2                                   22.22   \n",
       "3                                   22.13   \n",
       "4                                   22.04   \n",
       "\n",
       "  AdvertisingExpenses (in Thousand Dollars)  \\\n",
       "0                                       137   \n",
       "1                                       200   \n",
       "2                                         ?   \n",
       "3                                       214   \n",
       "4                                         ?   \n",
       "\n",
       "   Cotton Monthly Price - US cents per Pound(lbs)  Change(in%)  \\\n",
       "0                                           57.70         4.02   \n",
       "1                                           55.21        -4.32   \n",
       "2                                           51.50        -6.72   \n",
       "3                                           56.78        10.25   \n",
       "4                                           61.95         9.11   \n",
       "\n",
       "   Average upland planted(million acres)  \\\n",
       "0                                  9.296   \n",
       "1                                  9.296   \n",
       "2                                  9.296   \n",
       "3                                  9.296   \n",
       "4                                  9.297   \n",
       "\n",
       "   Average upland harvested(million acres)  yieldperharvested acre  \\\n",
       "0                                    7.559                     799   \n",
       "1                                    7.559                     799   \n",
       "2                                    7.559                     799   \n",
       "3                                    7.559                     787   \n",
       "4                                    7.400                     803   \n",
       "\n",
       "   Production (in  480-lb netweright in million bales)  \\\n",
       "0                                             12.589     \n",
       "1                                             12.589     \n",
       "2                                             12.589     \n",
       "3                                             12.400     \n",
       "4                                             12.384     \n",
       "\n",
       "   Mill use  (in  480-lb netweright in million bales)  Exports  \n",
       "0                                               4.17    11.550  \n",
       "1                                               3.87    11.100  \n",
       "2                                               3.72    11.650  \n",
       "3                                               3.62    12.225  \n",
       "4                                               3.52    12.300  "
      ]
     },
     "execution_count": 5,
     "metadata": {},
     "output_type": "execute_result"
    }
   ],
   "source": [
    "macro_economic = pd.read_excel(\"macro_economic.xlsx\")\n",
    "macro_economic.head()"
   ]
  },
  {
   "cell_type": "code",
   "execution_count": 6,
   "id": "julian-sleeping",
   "metadata": {},
   "outputs": [],
   "source": [
    "weather09 = pd.read_excel('WeatherData.xlsx',sheet_name='2009')\n",
    "weather10 = pd.read_excel('WeatherData.xlsx',sheet_name='2010')\n",
    "weather11 = pd.read_excel('WeatherData.xlsx',sheet_name='2011')\n",
    "weather12 = pd.read_excel('WeatherData.xlsx',sheet_name='2012')\n",
    "weather13 = pd.read_excel('WeatherData.xlsx',sheet_name='2013')\n",
    "\n",
    "#Output year\n",
    "weather14 = pd.read_excel('WeatherData.xlsx',sheet_name='2014')"
   ]
  },
  {
   "cell_type": "code",
   "execution_count": 7,
   "id": "usual-gather",
   "metadata": {},
   "outputs": [
    {
     "data": {
      "text/html": [
       "<div>\n",
       "<style scoped>\n",
       "    .dataframe tbody tr th:only-of-type {\n",
       "        vertical-align: middle;\n",
       "    }\n",
       "\n",
       "    .dataframe tbody tr th {\n",
       "        vertical-align: top;\n",
       "    }\n",
       "\n",
       "    .dataframe thead th {\n",
       "        text-align: right;\n",
       "    }\n",
       "</style>\n",
       "<table border=\"1\" class=\"dataframe\">\n",
       "  <thead>\n",
       "    <tr style=\"text-align: right;\">\n",
       "      <th></th>\n",
       "      <th>Year</th>\n",
       "      <th>Month</th>\n",
       "      <th>ProductCategory</th>\n",
       "      <th>Sales(In ThousandDollars)</th>\n",
       "    </tr>\n",
       "  </thead>\n",
       "  <tbody>\n",
       "    <tr>\n",
       "      <th>0</th>\n",
       "      <td>2009</td>\n",
       "      <td>1</td>\n",
       "      <td>WomenClothing</td>\n",
       "      <td>1755.0</td>\n",
       "    </tr>\n",
       "    <tr>\n",
       "      <th>1</th>\n",
       "      <td>2009</td>\n",
       "      <td>1</td>\n",
       "      <td>MenClothing</td>\n",
       "      <td>524.0</td>\n",
       "    </tr>\n",
       "    <tr>\n",
       "      <th>2</th>\n",
       "      <td>2009</td>\n",
       "      <td>1</td>\n",
       "      <td>OtherClothing</td>\n",
       "      <td>936.0</td>\n",
       "    </tr>\n",
       "    <tr>\n",
       "      <th>3</th>\n",
       "      <td>2009</td>\n",
       "      <td>2</td>\n",
       "      <td>WomenClothing</td>\n",
       "      <td>1729.0</td>\n",
       "    </tr>\n",
       "    <tr>\n",
       "      <th>4</th>\n",
       "      <td>2009</td>\n",
       "      <td>2</td>\n",
       "      <td>MenClothing</td>\n",
       "      <td>496.0</td>\n",
       "    </tr>\n",
       "  </tbody>\n",
       "</table>\n",
       "</div>"
      ],
      "text/plain": [
       "   Year  Month ProductCategory  Sales(In ThousandDollars)\n",
       "0  2009      1   WomenClothing                     1755.0\n",
       "1  2009      1     MenClothing                      524.0\n",
       "2  2009      1   OtherClothing                      936.0\n",
       "3  2009      2   WomenClothing                     1729.0\n",
       "4  2009      2     MenClothing                      496.0"
      ]
     },
     "execution_count": 7,
     "metadata": {},
     "output_type": "execute_result"
    }
   ],
   "source": [
    "sales = pd.read_csv('train.csv')\n",
    "sales.head()"
   ]
  },
  {
   "cell_type": "markdown",
   "id": "regulated-observation",
   "metadata": {},
   "source": [
    "# Data Preparation of Macro_economic data"
   ]
  },
  {
   "cell_type": "code",
   "execution_count": 8,
   "id": "reasonable-binding",
   "metadata": {},
   "outputs": [],
   "source": [
    "macro_economic.insert(loc=0,column='Year',value=macro_economic['Year-Month'].str.split(expand=True)[0].astype('int64'))\n",
    "macro_economic.insert(loc=1,column='Month',value=macro_economic['Year-Month'].str.split(expand=True)[2])"
   ]
  },
  {
   "cell_type": "code",
   "execution_count": 9,
   "id": "floppy-upset",
   "metadata": {},
   "outputs": [],
   "source": [
    "macro_economic.drop('Year-Month',axis=1,inplace=True)"
   ]
  },
  {
   "cell_type": "code",
   "execution_count": 10,
   "id": "strategic-project",
   "metadata": {},
   "outputs": [],
   "source": [
    "macro_economic.drop('PartyInPower',axis=1,inplace=True)"
   ]
  },
  {
   "cell_type": "code",
   "execution_count": 11,
   "id": "intense-beginning",
   "metadata": {},
   "outputs": [],
   "source": [
    "macro_economic.drop('AdvertisingExpenses (in Thousand Dollars)',axis=1, inplace=True)"
   ]
  },
  {
   "cell_type": "code",
   "execution_count": 12,
   "id": "clinical-african",
   "metadata": {},
   "outputs": [
    {
     "data": {
      "text/html": [
       "<div>\n",
       "<style scoped>\n",
       "    .dataframe tbody tr th:only-of-type {\n",
       "        vertical-align: middle;\n",
       "    }\n",
       "\n",
       "    .dataframe tbody tr th {\n",
       "        vertical-align: top;\n",
       "    }\n",
       "\n",
       "    .dataframe thead th {\n",
       "        text-align: right;\n",
       "    }\n",
       "</style>\n",
       "<table border=\"1\" class=\"dataframe\">\n",
       "  <thead>\n",
       "    <tr style=\"text-align: right;\">\n",
       "      <th></th>\n",
       "      <th>Year</th>\n",
       "      <th>Month</th>\n",
       "      <th>Monthly Nominal GDP Index (inMillion$)</th>\n",
       "      <th>Monthly Real GDP Index (inMillion$)</th>\n",
       "      <th>CPI</th>\n",
       "      <th>unemployment rate</th>\n",
       "      <th>CommercialBankInterestRateonCreditCardPlans</th>\n",
       "      <th>Finance Rate on Personal Loans at Commercial Banks, 24 Month Loan</th>\n",
       "      <th>Earnings or wages  in dollars per hour</th>\n",
       "      <th>Cotton Monthly Price - US cents per Pound(lbs)</th>\n",
       "      <th>Change(in%)</th>\n",
       "      <th>Average upland planted(million acres)</th>\n",
       "      <th>Average upland harvested(million acres)</th>\n",
       "      <th>yieldperharvested acre</th>\n",
       "      <th>Production (in  480-lb netweright in million bales)</th>\n",
       "      <th>Mill use  (in  480-lb netweright in million bales)</th>\n",
       "      <th>Exports</th>\n",
       "    </tr>\n",
       "  </thead>\n",
       "  <tbody>\n",
       "    <tr>\n",
       "      <th>0</th>\n",
       "      <td>2009</td>\n",
       "      <td>Jan</td>\n",
       "      <td>14421.752895</td>\n",
       "      <td>14407.053343</td>\n",
       "      <td>233.402</td>\n",
       "      <td>7.8</td>\n",
       "      <td>12.03</td>\n",
       "      <td>11.44</td>\n",
       "      <td>22.05</td>\n",
       "      <td>57.70</td>\n",
       "      <td>4.02</td>\n",
       "      <td>9.296</td>\n",
       "      <td>7.559</td>\n",
       "      <td>799</td>\n",
       "      <td>12.589</td>\n",
       "      <td>4.170</td>\n",
       "      <td>11.550</td>\n",
       "    </tr>\n",
       "    <tr>\n",
       "      <th>1</th>\n",
       "      <td>2009</td>\n",
       "      <td>Feb</td>\n",
       "      <td>14389.200466</td>\n",
       "      <td>14366.176571</td>\n",
       "      <td>234.663</td>\n",
       "      <td>8.3</td>\n",
       "      <td>12.97</td>\n",
       "      <td>11.05</td>\n",
       "      <td>22.22</td>\n",
       "      <td>55.21</td>\n",
       "      <td>-4.32</td>\n",
       "      <td>9.296</td>\n",
       "      <td>7.559</td>\n",
       "      <td>799</td>\n",
       "      <td>12.589</td>\n",
       "      <td>3.870</td>\n",
       "      <td>11.100</td>\n",
       "    </tr>\n",
       "    <tr>\n",
       "      <th>2</th>\n",
       "      <td>2009</td>\n",
       "      <td>Mar</td>\n",
       "      <td>14340.701639</td>\n",
       "      <td>14351.786822</td>\n",
       "      <td>235.067</td>\n",
       "      <td>8.7</td>\n",
       "      <td>12.97</td>\n",
       "      <td>11.05</td>\n",
       "      <td>22.22</td>\n",
       "      <td>51.50</td>\n",
       "      <td>-6.72</td>\n",
       "      <td>9.296</td>\n",
       "      <td>7.559</td>\n",
       "      <td>799</td>\n",
       "      <td>12.589</td>\n",
       "      <td>3.720</td>\n",
       "      <td>11.650</td>\n",
       "    </tr>\n",
       "    <tr>\n",
       "      <th>3</th>\n",
       "      <td>2009</td>\n",
       "      <td>Apr</td>\n",
       "      <td>14326.815525</td>\n",
       "      <td>14351.601731</td>\n",
       "      <td>235.582</td>\n",
       "      <td>9.0</td>\n",
       "      <td>12.97</td>\n",
       "      <td>11.05</td>\n",
       "      <td>22.13</td>\n",
       "      <td>56.78</td>\n",
       "      <td>10.25</td>\n",
       "      <td>9.296</td>\n",
       "      <td>7.559</td>\n",
       "      <td>787</td>\n",
       "      <td>12.400</td>\n",
       "      <td>3.620</td>\n",
       "      <td>12.225</td>\n",
       "    </tr>\n",
       "    <tr>\n",
       "      <th>4</th>\n",
       "      <td>2009</td>\n",
       "      <td>May</td>\n",
       "      <td>14345.904809</td>\n",
       "      <td>14368.123959</td>\n",
       "      <td>235.975</td>\n",
       "      <td>9.4</td>\n",
       "      <td>13.32</td>\n",
       "      <td>11.25</td>\n",
       "      <td>22.04</td>\n",
       "      <td>61.95</td>\n",
       "      <td>9.11</td>\n",
       "      <td>9.297</td>\n",
       "      <td>7.400</td>\n",
       "      <td>803</td>\n",
       "      <td>12.384</td>\n",
       "      <td>3.520</td>\n",
       "      <td>12.300</td>\n",
       "    </tr>\n",
       "    <tr>\n",
       "      <th>...</th>\n",
       "      <td>...</td>\n",
       "      <td>...</td>\n",
       "      <td>...</td>\n",
       "      <td>...</td>\n",
       "      <td>...</td>\n",
       "      <td>...</td>\n",
       "      <td>...</td>\n",
       "      <td>...</td>\n",
       "      <td>...</td>\n",
       "      <td>...</td>\n",
       "      <td>...</td>\n",
       "      <td>...</td>\n",
       "      <td>...</td>\n",
       "      <td>...</td>\n",
       "      <td>...</td>\n",
       "      <td>...</td>\n",
       "      <td>...</td>\n",
       "    </tr>\n",
       "    <tr>\n",
       "      <th>91</th>\n",
       "      <td>2016</td>\n",
       "      <td>Aug</td>\n",
       "      <td>18741.599947</td>\n",
       "      <td>16797.206610</td>\n",
       "      <td>264.160</td>\n",
       "      <td>4.9</td>\n",
       "      <td>12.51</td>\n",
       "      <td>9.64</td>\n",
       "      <td>25.52</td>\n",
       "      <td>80.26</td>\n",
       "      <td>-0.99</td>\n",
       "      <td>9.824</td>\n",
       "      <td>9.340</td>\n",
       "      <td>787</td>\n",
       "      <td>15.314</td>\n",
       "      <td>3.575</td>\n",
       "      <td>10.950</td>\n",
       "    </tr>\n",
       "    <tr>\n",
       "      <th>92</th>\n",
       "      <td>2016</td>\n",
       "      <td>Sep</td>\n",
       "      <td>18840.309646</td>\n",
       "      <td>16852.562745</td>\n",
       "      <td>264.602</td>\n",
       "      <td>4.9</td>\n",
       "      <td>12.51</td>\n",
       "      <td>9.64</td>\n",
       "      <td>25.74</td>\n",
       "      <td>77.86</td>\n",
       "      <td>-2.99</td>\n",
       "      <td>9.950</td>\n",
       "      <td>9.464</td>\n",
       "      <td>790</td>\n",
       "      <td>15.580</td>\n",
       "      <td>3.475</td>\n",
       "      <td>10.950</td>\n",
       "    </tr>\n",
       "    <tr>\n",
       "      <th>93</th>\n",
       "      <td>2016</td>\n",
       "      <td>Oct</td>\n",
       "      <td>18740.780023</td>\n",
       "      <td>16725.460098</td>\n",
       "      <td>264.738</td>\n",
       "      <td>4.8</td>\n",
       "      <td>12.51</td>\n",
       "      <td>9.64</td>\n",
       "      <td>26.04</td>\n",
       "      <td>78.52</td>\n",
       "      <td>0.85</td>\n",
       "      <td>9.950</td>\n",
       "      <td>9.464</td>\n",
       "      <td>785</td>\n",
       "      <td>15.472</td>\n",
       "      <td>3.475</td>\n",
       "      <td>11.425</td>\n",
       "    </tr>\n",
       "    <tr>\n",
       "      <th>94</th>\n",
       "      <td>2016</td>\n",
       "      <td>Nov</td>\n",
       "      <td>18960.461568</td>\n",
       "      <td>16910.896330</td>\n",
       "      <td>265.203</td>\n",
       "      <td>4.6</td>\n",
       "      <td>12.41</td>\n",
       "      <td>9.45</td>\n",
       "      <td>25.87</td>\n",
       "      <td>78.92</td>\n",
       "      <td>0.51</td>\n",
       "      <td>9.950</td>\n",
       "      <td>9.464</td>\n",
       "      <td>791</td>\n",
       "      <td>15.600</td>\n",
       "      <td>3.475</td>\n",
       "      <td>11.425</td>\n",
       "    </tr>\n",
       "    <tr>\n",
       "      <th>95</th>\n",
       "      <td>2016</td>\n",
       "      <td>Dec</td>\n",
       "      <td>19015.393408</td>\n",
       "      <td>16918.050624</td>\n",
       "      <td>265.421</td>\n",
       "      <td>4.7</td>\n",
       "      <td>12.41</td>\n",
       "      <td>9.45</td>\n",
       "      <td>25.90</td>\n",
       "      <td>79.50</td>\n",
       "      <td>0.73</td>\n",
       "      <td>9.950</td>\n",
       "      <td>9.464</td>\n",
       "      <td>810</td>\n",
       "      <td>15.962</td>\n",
       "      <td>3.275</td>\n",
       "      <td>11.600</td>\n",
       "    </tr>\n",
       "  </tbody>\n",
       "</table>\n",
       "<p>96 rows × 17 columns</p>\n",
       "</div>"
      ],
      "text/plain": [
       "    Year Month  Monthly Nominal GDP Index (inMillion$)  \\\n",
       "0   2009   Jan                            14421.752895   \n",
       "1   2009   Feb                            14389.200466   \n",
       "2   2009   Mar                            14340.701639   \n",
       "3   2009   Apr                            14326.815525   \n",
       "4   2009   May                            14345.904809   \n",
       "..   ...   ...                                     ...   \n",
       "91  2016   Aug                            18741.599947   \n",
       "92  2016   Sep                            18840.309646   \n",
       "93  2016   Oct                            18740.780023   \n",
       "94  2016   Nov                            18960.461568   \n",
       "95  2016   Dec                            19015.393408   \n",
       "\n",
       "    Monthly Real GDP Index (inMillion$)      CPI  unemployment rate  \\\n",
       "0                          14407.053343  233.402                7.8   \n",
       "1                          14366.176571  234.663                8.3   \n",
       "2                          14351.786822  235.067                8.7   \n",
       "3                          14351.601731  235.582                9.0   \n",
       "4                          14368.123959  235.975                9.4   \n",
       "..                                  ...      ...                ...   \n",
       "91                         16797.206610  264.160                4.9   \n",
       "92                         16852.562745  264.602                4.9   \n",
       "93                         16725.460098  264.738                4.8   \n",
       "94                         16910.896330  265.203                4.6   \n",
       "95                         16918.050624  265.421                4.7   \n",
       "\n",
       "    CommercialBankInterestRateonCreditCardPlans  \\\n",
       "0                                         12.03   \n",
       "1                                         12.97   \n",
       "2                                         12.97   \n",
       "3                                         12.97   \n",
       "4                                         13.32   \n",
       "..                                          ...   \n",
       "91                                        12.51   \n",
       "92                                        12.51   \n",
       "93                                        12.51   \n",
       "94                                        12.41   \n",
       "95                                        12.41   \n",
       "\n",
       "    Finance Rate on Personal Loans at Commercial Banks, 24 Month Loan  \\\n",
       "0                                               11.44                   \n",
       "1                                               11.05                   \n",
       "2                                               11.05                   \n",
       "3                                               11.05                   \n",
       "4                                               11.25                   \n",
       "..                                                ...                   \n",
       "91                                               9.64                   \n",
       "92                                               9.64                   \n",
       "93                                               9.64                   \n",
       "94                                               9.45                   \n",
       "95                                               9.45                   \n",
       "\n",
       "    Earnings or wages  in dollars per hour  \\\n",
       "0                                    22.05   \n",
       "1                                    22.22   \n",
       "2                                    22.22   \n",
       "3                                    22.13   \n",
       "4                                    22.04   \n",
       "..                                     ...   \n",
       "91                                   25.52   \n",
       "92                                   25.74   \n",
       "93                                   26.04   \n",
       "94                                   25.87   \n",
       "95                                   25.90   \n",
       "\n",
       "    Cotton Monthly Price - US cents per Pound(lbs)  Change(in%)  \\\n",
       "0                                            57.70         4.02   \n",
       "1                                            55.21        -4.32   \n",
       "2                                            51.50        -6.72   \n",
       "3                                            56.78        10.25   \n",
       "4                                            61.95         9.11   \n",
       "..                                             ...          ...   \n",
       "91                                           80.26        -0.99   \n",
       "92                                           77.86        -2.99   \n",
       "93                                           78.52         0.85   \n",
       "94                                           78.92         0.51   \n",
       "95                                           79.50         0.73   \n",
       "\n",
       "    Average upland planted(million acres)  \\\n",
       "0                                   9.296   \n",
       "1                                   9.296   \n",
       "2                                   9.296   \n",
       "3                                   9.296   \n",
       "4                                   9.297   \n",
       "..                                    ...   \n",
       "91                                  9.824   \n",
       "92                                  9.950   \n",
       "93                                  9.950   \n",
       "94                                  9.950   \n",
       "95                                  9.950   \n",
       "\n",
       "    Average upland harvested(million acres)  yieldperharvested acre  \\\n",
       "0                                     7.559                     799   \n",
       "1                                     7.559                     799   \n",
       "2                                     7.559                     799   \n",
       "3                                     7.559                     787   \n",
       "4                                     7.400                     803   \n",
       "..                                      ...                     ...   \n",
       "91                                    9.340                     787   \n",
       "92                                    9.464                     790   \n",
       "93                                    9.464                     785   \n",
       "94                                    9.464                     791   \n",
       "95                                    9.464                     810   \n",
       "\n",
       "    Production (in  480-lb netweright in million bales)  \\\n",
       "0                                              12.589     \n",
       "1                                              12.589     \n",
       "2                                              12.589     \n",
       "3                                              12.400     \n",
       "4                                              12.384     \n",
       "..                                                ...     \n",
       "91                                             15.314     \n",
       "92                                             15.580     \n",
       "93                                             15.472     \n",
       "94                                             15.600     \n",
       "95                                             15.962     \n",
       "\n",
       "    Mill use  (in  480-lb netweright in million bales)  Exports  \n",
       "0                                               4.170    11.550  \n",
       "1                                               3.870    11.100  \n",
       "2                                               3.720    11.650  \n",
       "3                                               3.620    12.225  \n",
       "4                                               3.520    12.300  \n",
       "..                                                ...       ...  \n",
       "91                                              3.575    10.950  \n",
       "92                                              3.475    10.950  \n",
       "93                                              3.475    11.425  \n",
       "94                                              3.475    11.425  \n",
       "95                                              3.275    11.600  \n",
       "\n",
       "[96 rows x 17 columns]"
      ]
     },
     "execution_count": 12,
     "metadata": {},
     "output_type": "execute_result"
    }
   ],
   "source": [
    "macro_economic"
   ]
  },
  {
   "cell_type": "code",
   "execution_count": 13,
   "id": "regular-python",
   "metadata": {},
   "outputs": [],
   "source": [
    "macro_economic['Month'].unique()\n",
    "macro_economic['Month'].replace({'Jan':1, 'Feb':2, 'Mar':3, 'Apr':4, 'May':5, 'Jun':6, 'Jul':7, 'Aug':8, 'Sep':9,\n",
    "       'Oct':10, 'Nov':11, 'Dec':12},inplace=True)"
   ]
  },
  {
   "cell_type": "code",
   "execution_count": 14,
   "id": "funded-hurricane",
   "metadata": {},
   "outputs": [
    {
     "name": "stdout",
     "output_type": "stream",
     "text": [
      "0    2009\n",
      "1    2009\n",
      "Name: Year, dtype: int64\n",
      "58    2013\n",
      "59    2013\n",
      "Name: Year, dtype: int64\n"
     ]
    }
   ],
   "source": [
    "# 5 years\n",
    "economic09_13 = macro_economic[macro_economic['Year'].between(2009,2013)]\n",
    "print(economic09_13.head(2)['Year'])\n",
    "print(economic09_13.tail(2)['Year'])\n",
    "\n",
    "\n",
    "# 1 year 2014 (Output)\n",
    "economic14 = macro_economic[macro_economic['Year']==2014]"
   ]
  },
  {
   "cell_type": "markdown",
   "id": "diagnostic-platinum",
   "metadata": {},
   "source": [
    "# Data Preparation for weather patterns dataset"
   ]
  },
  {
   "cell_type": "code",
   "execution_count": 15,
   "id": "enabling-circulation",
   "metadata": {},
   "outputs": [],
   "source": [
    "weather09['Month'].replace({'Jan':1, 'Feb':2, 'Mar':3, 'Apr':4, 'May':5, 'Jun':6, 'Jul':7, 'Aug':8, 'Sep':9,\n",
    "       'Oct':10, 'Nov':11, 'Dec':12}, inplace=True)\n",
    "temp = weather09.groupby(['Year','Month']).median().reset_index()\n",
    "we09 = pd.merge(left=temp,right=weather09.groupby(['Month']).count()['WeatherEvent'].reset_index(), how='inner',on='Month')"
   ]
  },
  {
   "cell_type": "code",
   "execution_count": 16,
   "id": "ongoing-olympus",
   "metadata": {},
   "outputs": [],
   "source": [
    "for i in weather12.columns:\n",
    "    weather12.loc[:,i].replace({'-':-1},inplace=True)\n",
    "for i in weather13.columns:\n",
    "    weather13.loc[:,i].replace({'-':-1},inplace=True)\n",
    "for i in weather14.columns:\n",
    "    weather14.loc[:,i].replace({'-':-1},inplace=True)\n",
    "for i in weather14.columns:\n",
    "    weather14.loc[:,i].replace({'-':-1},inplace=True)"
   ]
  },
  {
   "cell_type": "code",
   "execution_count": 17,
   "id": "entertaining-sequence",
   "metadata": {},
   "outputs": [],
   "source": [
    "weather09.iloc[:,-2].replace({'T':np.nan},inplace=True)\n",
    "weather09.iloc[:,-2].fillna(weather09.iloc[:,-2].mean(),inplace=True)\n",
    "\n",
    "weather10.iloc[:,-2].replace({'T':np.nan},inplace=True)\n",
    "weather10.iloc[:,-2].fillna(weather10.iloc[:,-2].mean(),inplace=True)\n",
    "\n",
    "weather11.iloc[:,-2].replace({'T':np.nan},inplace=True)\n",
    "weather11.iloc[:,-2].fillna(weather11.iloc[:,-2].mean(),inplace=True)\n",
    "\n",
    "weather12.iloc[:,-2].replace({'T':np.nan},inplace=True)\n",
    "weather12.iloc[:,-2].fillna(weather12.iloc[:,-2].mean(),inplace=True)\n",
    "\n",
    "weather13.iloc[:,-2].replace({'T':np.nan},inplace=True)\n",
    "weather13.iloc[:,-2].fillna(weather13.iloc[:,-2].mean(),inplace=True)\n",
    "\n",
    "weather14.iloc[:,-2].replace({'T':np.nan},inplace=True)\n",
    "weather14.iloc[:,-2].fillna(weather14.iloc[:,-2].mean(),inplace=True)"
   ]
  },
  {
   "cell_type": "code",
   "execution_count": 18,
   "id": "funky-elizabeth",
   "metadata": {},
   "outputs": [],
   "source": [
    "weather14['Month'].replace({'Jan':1, 'Feb':2, 'Mar':3, 'Apr':4, 'May':5, 'Jun':6, 'Jul':7, 'Aug':8, 'Sep':9,\n",
    "       'Oct':10, 'Nov':11, 'Dec':12}, inplace=True)"
   ]
  },
  {
   "cell_type": "code",
   "execution_count": 19,
   "id": "honest-garage",
   "metadata": {},
   "outputs": [],
   "source": [
    "yt= 2010\n",
    "for number in range(10,15):\n",
    "    vars()['weather'+str(number)]['Year'] = yt\n",
    "    yt += 1\n",
    "    vars()['weather'+str(number)]['Month'].replace({'Jan':1, 'Feb':2, 'Mar':3, 'Apr':4, 'May':5, 'Jun':6, 'Jul':7, 'Aug':8, 'Sep':9,\n",
    "       'Oct':10, 'Nov':11, 'Dec':12}, inplace=True)\n",
    "    temp = vars()['weather'+str(number)].groupby(['Year','Month']).median().reset_index()\n",
    "    vars()['we'+str(number)] = pd.merge(left=temp,right=vars()['weather'+str(number)].groupby(['Month']).count()['WeatherEvent'].reset_index(), how='inner',on='Month')"
   ]
  },
  {
   "cell_type": "code",
   "execution_count": 20,
   "id": "warming-highlight",
   "metadata": {},
   "outputs": [
    {
     "data": {
      "text/plain": [
       "((12, 19), (12, 22), (12, 22), (12, 23), (12, 23))"
      ]
     },
     "execution_count": 20,
     "metadata": {},
     "output_type": "execute_result"
    }
   ],
   "source": [
    "we09.shape,we10.shape,we11.shape,we12.shape,we13.shape,"
   ]
  },
  {
   "cell_type": "code",
   "execution_count": 21,
   "id": "unavailable-judgment",
   "metadata": {},
   "outputs": [
    {
     "data": {
      "text/plain": [
       "Index(['Year', 'Month', 'Day', 'Temp avg (°C)', 'Dew Point avg (°C)',\n",
       "       'Humidity (%) avg', 'Visibility (km) avg', 'WeatherEvent'],\n",
       "      dtype='object')"
      ]
     },
     "execution_count": 21,
     "metadata": {},
     "output_type": "execute_result"
    }
   ],
   "source": [
    "we14.iloc[:,[0,1,2,4,7,10,16,-1]].columns\n",
    "#Using these columns only"
   ]
  },
  {
   "cell_type": "code",
   "execution_count": 22,
   "id": "mounted-router",
   "metadata": {},
   "outputs": [],
   "source": [
    "w09 = we09.iloc[:,[0,1,2,4,7,10,16,-1]]\n",
    "for i in range(10,14):\n",
    "    vars()['w'+str(i)] = vars()['we'+str(i)].iloc[:,[0,1,2,4,7,10,16,-1]]"
   ]
  },
  {
   "cell_type": "code",
   "execution_count": 23,
   "id": "catholic-collapse",
   "metadata": {},
   "outputs": [
    {
     "data": {
      "text/html": [
       "<div>\n",
       "<style scoped>\n",
       "    .dataframe tbody tr th:only-of-type {\n",
       "        vertical-align: middle;\n",
       "    }\n",
       "\n",
       "    .dataframe tbody tr th {\n",
       "        vertical-align: top;\n",
       "    }\n",
       "\n",
       "    .dataframe thead th {\n",
       "        text-align: right;\n",
       "    }\n",
       "</style>\n",
       "<table border=\"1\" class=\"dataframe\">\n",
       "  <thead>\n",
       "    <tr style=\"text-align: right;\">\n",
       "      <th></th>\n",
       "      <th>Year</th>\n",
       "      <th>Month</th>\n",
       "      <th>Day</th>\n",
       "      <th>Temp avg (°C)</th>\n",
       "      <th>Dew Point avg (°C)</th>\n",
       "      <th>Humidity (%) avg</th>\n",
       "      <th>Visibility (km) avg</th>\n",
       "      <th>WeatherEvent</th>\n",
       "    </tr>\n",
       "  </thead>\n",
       "  <tbody>\n",
       "    <tr>\n",
       "      <th>0</th>\n",
       "      <td>2009</td>\n",
       "      <td>1</td>\n",
       "      <td>16.0</td>\n",
       "      <td>-2.0</td>\n",
       "      <td>-10.0</td>\n",
       "      <td>54.0</td>\n",
       "      <td>16.0</td>\n",
       "      <td>10</td>\n",
       "    </tr>\n",
       "    <tr>\n",
       "      <th>1</th>\n",
       "      <td>2009</td>\n",
       "      <td>2</td>\n",
       "      <td>14.5</td>\n",
       "      <td>3.0</td>\n",
       "      <td>-6.5</td>\n",
       "      <td>50.0</td>\n",
       "      <td>16.0</td>\n",
       "      <td>6</td>\n",
       "    </tr>\n",
       "    <tr>\n",
       "      <th>2</th>\n",
       "      <td>2009</td>\n",
       "      <td>3</td>\n",
       "      <td>16.0</td>\n",
       "      <td>7.0</td>\n",
       "      <td>-1.0</td>\n",
       "      <td>56.0</td>\n",
       "      <td>16.0</td>\n",
       "      <td>10</td>\n",
       "    </tr>\n",
       "    <tr>\n",
       "      <th>3</th>\n",
       "      <td>2009</td>\n",
       "      <td>4</td>\n",
       "      <td>15.5</td>\n",
       "      <td>11.5</td>\n",
       "      <td>2.5</td>\n",
       "      <td>54.5</td>\n",
       "      <td>16.0</td>\n",
       "      <td>12</td>\n",
       "    </tr>\n",
       "    <tr>\n",
       "      <th>4</th>\n",
       "      <td>2009</td>\n",
       "      <td>5</td>\n",
       "      <td>16.0</td>\n",
       "      <td>17.0</td>\n",
       "      <td>11.0</td>\n",
       "      <td>69.0</td>\n",
       "      <td>15.0</td>\n",
       "      <td>14</td>\n",
       "    </tr>\n",
       "  </tbody>\n",
       "</table>\n",
       "</div>"
      ],
      "text/plain": [
       "   Year  Month   Day  Temp avg (°C)  Dew Point avg (°C)  Humidity (%) avg  \\\n",
       "0  2009      1  16.0           -2.0               -10.0              54.0   \n",
       "1  2009      2  14.5            3.0                -6.5              50.0   \n",
       "2  2009      3  16.0            7.0                -1.0              56.0   \n",
       "3  2009      4  15.5           11.5                 2.5              54.5   \n",
       "4  2009      5  16.0           17.0                11.0              69.0   \n",
       "\n",
       "   Visibility (km) avg  WeatherEvent  \n",
       "0                 16.0            10  \n",
       "1                 16.0             6  \n",
       "2                 16.0            10  \n",
       "3                 16.0            12  \n",
       "4                 15.0            14  "
      ]
     },
     "execution_count": 23,
     "metadata": {},
     "output_type": "execute_result"
    }
   ],
   "source": [
    "weather5yrs = w09.append([w10,w11,w12,w13],ignore_index=True)\n",
    "weather5yrs.head()"
   ]
  },
  {
   "cell_type": "code",
   "execution_count": 24,
   "id": "sealed-outreach",
   "metadata": {},
   "outputs": [
    {
     "data": {
      "text/plain": [
       "(60, 8)"
      ]
     },
     "execution_count": 24,
     "metadata": {},
     "output_type": "execute_result"
    }
   ],
   "source": [
    "weather5yrs.shape"
   ]
  },
  {
   "cell_type": "code",
   "execution_count": 25,
   "id": "novel-handle",
   "metadata": {},
   "outputs": [
    {
     "data": {
      "text/plain": [
       "(12, 8)"
      ]
     },
     "execution_count": 25,
     "metadata": {},
     "output_type": "execute_result"
    }
   ],
   "source": [
    "weather1yr = we14.iloc[:,[0,1,2,4,7,10,16,-1]]\n",
    "weather1yr.shape"
   ]
  },
  {
   "cell_type": "markdown",
   "id": "adaptive-voice",
   "metadata": {},
   "source": [
    "# Data Preparation of holidays data"
   ]
  },
  {
   "cell_type": "code",
   "execution_count": 26,
   "id": "above-north",
   "metadata": {},
   "outputs": [
    {
     "data": {
      "text/html": [
       "<div>\n",
       "<style scoped>\n",
       "    .dataframe tbody tr th:only-of-type {\n",
       "        vertical-align: middle;\n",
       "    }\n",
       "\n",
       "    .dataframe tbody tr th {\n",
       "        vertical-align: top;\n",
       "    }\n",
       "\n",
       "    .dataframe thead th {\n",
       "        text-align: right;\n",
       "    }\n",
       "</style>\n",
       "<table border=\"1\" class=\"dataframe\">\n",
       "  <thead>\n",
       "    <tr style=\"text-align: right;\">\n",
       "      <th></th>\n",
       "      <th>Year</th>\n",
       "      <th>MonthDate</th>\n",
       "      <th>Event</th>\n",
       "      <th>DayCategory</th>\n",
       "    </tr>\n",
       "  </thead>\n",
       "  <tbody>\n",
       "    <tr>\n",
       "      <th>0</th>\n",
       "      <td>2009</td>\n",
       "      <td>2001-01-01</td>\n",
       "      <td>New Year's Day</td>\n",
       "      <td>Federal Holiday</td>\n",
       "    </tr>\n",
       "    <tr>\n",
       "      <th>1</th>\n",
       "      <td>2009</td>\n",
       "      <td>2019-01-01</td>\n",
       "      <td>Martin Luther King Jr. Day</td>\n",
       "      <td>Federal Holiday</td>\n",
       "    </tr>\n",
       "    <tr>\n",
       "      <th>2</th>\n",
       "      <td>2009</td>\n",
       "      <td>2014-02-01</td>\n",
       "      <td>Valentine's Day</td>\n",
       "      <td>Event</td>\n",
       "    </tr>\n",
       "    <tr>\n",
       "      <th>3</th>\n",
       "      <td>2009</td>\n",
       "      <td>2016-02-01</td>\n",
       "      <td>Presidents' Day</td>\n",
       "      <td>Federal Holiday</td>\n",
       "    </tr>\n",
       "    <tr>\n",
       "      <th>4</th>\n",
       "      <td>2009</td>\n",
       "      <td>2012-04-01</td>\n",
       "      <td>Easter Sunday</td>\n",
       "      <td>Event</td>\n",
       "    </tr>\n",
       "    <tr>\n",
       "      <th>...</th>\n",
       "      <td>...</td>\n",
       "      <td>...</td>\n",
       "      <td>...</td>\n",
       "      <td>...</td>\n",
       "    </tr>\n",
       "    <tr>\n",
       "      <th>145</th>\n",
       "      <td>2016</td>\n",
       "      <td>2024-11-01</td>\n",
       "      <td>Thanksgiving Day</td>\n",
       "      <td>Federal Holiday</td>\n",
       "    </tr>\n",
       "    <tr>\n",
       "      <th>146</th>\n",
       "      <td>2016</td>\n",
       "      <td>2024-12-01</td>\n",
       "      <td>Christmas Eve</td>\n",
       "      <td>Event</td>\n",
       "    </tr>\n",
       "    <tr>\n",
       "      <th>147</th>\n",
       "      <td>2016</td>\n",
       "      <td>2025-12-01</td>\n",
       "      <td>Christmas Day</td>\n",
       "      <td>Federal Holiday</td>\n",
       "    </tr>\n",
       "    <tr>\n",
       "      <th>148</th>\n",
       "      <td>2016</td>\n",
       "      <td>2026-12-01</td>\n",
       "      <td>'Christmas Day' observed</td>\n",
       "      <td>Federal Holiday</td>\n",
       "    </tr>\n",
       "    <tr>\n",
       "      <th>149</th>\n",
       "      <td>2016</td>\n",
       "      <td>1931-12-01</td>\n",
       "      <td>New Year's Eve</td>\n",
       "      <td>Event</td>\n",
       "    </tr>\n",
       "  </tbody>\n",
       "</table>\n",
       "<p>150 rows × 4 columns</p>\n",
       "</div>"
      ],
      "text/plain": [
       "     Year  MonthDate                       Event      DayCategory\n",
       "0    2009 2001-01-01              New Year's Day  Federal Holiday\n",
       "1    2009 2019-01-01  Martin Luther King Jr. Day  Federal Holiday\n",
       "2    2009 2014-02-01             Valentine's Day            Event\n",
       "3    2009 2016-02-01             Presidents' Day  Federal Holiday\n",
       "4    2009 2012-04-01               Easter Sunday            Event\n",
       "..    ...        ...                         ...              ...\n",
       "145  2016 2024-11-01            Thanksgiving Day  Federal Holiday\n",
       "146  2016 2024-12-01               Christmas Eve            Event\n",
       "147  2016 2025-12-01               Christmas Day  Federal Holiday\n",
       "148  2016 2026-12-01    'Christmas Day' observed  Federal Holiday\n",
       "149  2016 1931-12-01              New Year's Eve            Event\n",
       "\n",
       "[150 rows x 4 columns]"
      ]
     },
     "execution_count": 26,
     "metadata": {},
     "output_type": "execute_result"
    }
   ],
   "source": [
    "holidays"
   ]
  },
  {
   "cell_type": "code",
   "execution_count": 27,
   "id": "continent-impression",
   "metadata": {},
   "outputs": [
    {
     "data": {
      "text/html": [
       "<div>\n",
       "<style scoped>\n",
       "    .dataframe tbody tr th:only-of-type {\n",
       "        vertical-align: middle;\n",
       "    }\n",
       "\n",
       "    .dataframe tbody tr th {\n",
       "        vertical-align: top;\n",
       "    }\n",
       "\n",
       "    .dataframe thead th {\n",
       "        text-align: right;\n",
       "    }\n",
       "</style>\n",
       "<table border=\"1\" class=\"dataframe\">\n",
       "  <thead>\n",
       "    <tr style=\"text-align: right;\">\n",
       "      <th></th>\n",
       "      <th>Year</th>\n",
       "      <th>MonthDate</th>\n",
       "      <th>Event</th>\n",
       "      <th>DayCategory</th>\n",
       "      <th>Month</th>\n",
       "    </tr>\n",
       "  </thead>\n",
       "  <tbody>\n",
       "    <tr>\n",
       "      <th>0</th>\n",
       "      <td>2009</td>\n",
       "      <td>2001-01-01</td>\n",
       "      <td>New Year's Day</td>\n",
       "      <td>Federal Holiday</td>\n",
       "      <td>1</td>\n",
       "    </tr>\n",
       "    <tr>\n",
       "      <th>1</th>\n",
       "      <td>2009</td>\n",
       "      <td>2019-01-01</td>\n",
       "      <td>Martin Luther King Jr. Day</td>\n",
       "      <td>Federal Holiday</td>\n",
       "      <td>1</td>\n",
       "    </tr>\n",
       "    <tr>\n",
       "      <th>2</th>\n",
       "      <td>2009</td>\n",
       "      <td>2014-02-01</td>\n",
       "      <td>Valentine's Day</td>\n",
       "      <td>Event</td>\n",
       "      <td>2</td>\n",
       "    </tr>\n",
       "    <tr>\n",
       "      <th>3</th>\n",
       "      <td>2009</td>\n",
       "      <td>2016-02-01</td>\n",
       "      <td>Presidents' Day</td>\n",
       "      <td>Federal Holiday</td>\n",
       "      <td>2</td>\n",
       "    </tr>\n",
       "    <tr>\n",
       "      <th>4</th>\n",
       "      <td>2009</td>\n",
       "      <td>2012-04-01</td>\n",
       "      <td>Easter Sunday</td>\n",
       "      <td>Event</td>\n",
       "      <td>4</td>\n",
       "    </tr>\n",
       "    <tr>\n",
       "      <th>...</th>\n",
       "      <td>...</td>\n",
       "      <td>...</td>\n",
       "      <td>...</td>\n",
       "      <td>...</td>\n",
       "      <td>...</td>\n",
       "    </tr>\n",
       "    <tr>\n",
       "      <th>145</th>\n",
       "      <td>2016</td>\n",
       "      <td>2024-11-01</td>\n",
       "      <td>Thanksgiving Day</td>\n",
       "      <td>Federal Holiday</td>\n",
       "      <td>11</td>\n",
       "    </tr>\n",
       "    <tr>\n",
       "      <th>146</th>\n",
       "      <td>2016</td>\n",
       "      <td>2024-12-01</td>\n",
       "      <td>Christmas Eve</td>\n",
       "      <td>Event</td>\n",
       "      <td>12</td>\n",
       "    </tr>\n",
       "    <tr>\n",
       "      <th>147</th>\n",
       "      <td>2016</td>\n",
       "      <td>2025-12-01</td>\n",
       "      <td>Christmas Day</td>\n",
       "      <td>Federal Holiday</td>\n",
       "      <td>12</td>\n",
       "    </tr>\n",
       "    <tr>\n",
       "      <th>148</th>\n",
       "      <td>2016</td>\n",
       "      <td>2026-12-01</td>\n",
       "      <td>'Christmas Day' observed</td>\n",
       "      <td>Federal Holiday</td>\n",
       "      <td>12</td>\n",
       "    </tr>\n",
       "    <tr>\n",
       "      <th>149</th>\n",
       "      <td>2016</td>\n",
       "      <td>1931-12-01</td>\n",
       "      <td>New Year's Eve</td>\n",
       "      <td>Event</td>\n",
       "      <td>12</td>\n",
       "    </tr>\n",
       "  </tbody>\n",
       "</table>\n",
       "<p>150 rows × 5 columns</p>\n",
       "</div>"
      ],
      "text/plain": [
       "     Year  MonthDate                       Event      DayCategory  Month\n",
       "0    2009 2001-01-01              New Year's Day  Federal Holiday      1\n",
       "1    2009 2019-01-01  Martin Luther King Jr. Day  Federal Holiday      1\n",
       "2    2009 2014-02-01             Valentine's Day            Event      2\n",
       "3    2009 2016-02-01             Presidents' Day  Federal Holiday      2\n",
       "4    2009 2012-04-01               Easter Sunday            Event      4\n",
       "..    ...        ...                         ...              ...    ...\n",
       "145  2016 2024-11-01            Thanksgiving Day  Federal Holiday     11\n",
       "146  2016 2024-12-01               Christmas Eve            Event     12\n",
       "147  2016 2025-12-01               Christmas Day  Federal Holiday     12\n",
       "148  2016 2026-12-01    'Christmas Day' observed  Federal Holiday     12\n",
       "149  2016 1931-12-01              New Year's Eve            Event     12\n",
       "\n",
       "[150 rows x 5 columns]"
      ]
     },
     "execution_count": 27,
     "metadata": {},
     "output_type": "execute_result"
    }
   ],
   "source": [
    "holidays['Month'] = holidays['MonthDate'].dt.month\n",
    "holidays"
   ]
  },
  {
   "cell_type": "code",
   "execution_count": 28,
   "id": "respected-possession",
   "metadata": {},
   "outputs": [
    {
     "data": {
      "text/plain": [
       "array([\"New Year's Day\", 'Martin Luther King Jr. Day', \"Valentine's Day\",\n",
       "       \"Presidents' Day\", 'Easter Sunday', \"Mother's Day\", 'Memorial Day',\n",
       "       \"Father's Day\", \"'Independence Day' observed\", 'Independence Day',\n",
       "       'Labor Day', 'Columbus Day (Most regions)', 'Halloween',\n",
       "       'Veterans Day', 'Thanksgiving Day', 'Christmas Eve',\n",
       "       'Christmas Day', \"New Year's Eve\", \"'Christmas Day' observed\",\n",
       "       \"'New Year's Day' observed\", 'Election Day',\n",
       "       \"Thomas Jefferson's Birthday\", 'Day After Christmas Day'],\n",
       "      dtype=object)"
      ]
     },
     "execution_count": 28,
     "metadata": {},
     "output_type": "execute_result"
    }
   ],
   "source": [
    "holidays['Event'].unique()"
   ]
  },
  {
   "cell_type": "code",
   "execution_count": 30,
   "id": "limited-alaska",
   "metadata": {},
   "outputs": [
    {
     "data": {
      "text/html": [
       "<div>\n",
       "<style scoped>\n",
       "    .dataframe tbody tr th:only-of-type {\n",
       "        vertical-align: middle;\n",
       "    }\n",
       "\n",
       "    .dataframe tbody tr th {\n",
       "        vertical-align: top;\n",
       "    }\n",
       "\n",
       "    .dataframe thead th {\n",
       "        text-align: right;\n",
       "    }\n",
       "</style>\n",
       "<table border=\"1\" class=\"dataframe\">\n",
       "  <thead>\n",
       "    <tr style=\"text-align: right;\">\n",
       "      <th></th>\n",
       "      <th>Year</th>\n",
       "      <th>Month</th>\n",
       "      <th>Event</th>\n",
       "    </tr>\n",
       "  </thead>\n",
       "  <tbody>\n",
       "    <tr>\n",
       "      <th>0</th>\n",
       "      <td>2009</td>\n",
       "      <td>1</td>\n",
       "      <td>2</td>\n",
       "    </tr>\n",
       "    <tr>\n",
       "      <th>1</th>\n",
       "      <td>2009</td>\n",
       "      <td>2</td>\n",
       "      <td>2</td>\n",
       "    </tr>\n",
       "  </tbody>\n",
       "</table>\n",
       "</div>"
      ],
      "text/plain": [
       "   Year  Month  Event\n",
       "0  2009      1      2\n",
       "1  2009      2      2"
      ]
     },
     "execution_count": 30,
     "metadata": {},
     "output_type": "execute_result"
    }
   ],
   "source": [
    "temp = holidays.groupby(['Year','Month']).count()['Event'].reset_index()\n",
    "temp914 = temp[temp['Year'].between(2009,2014)]\n",
    "temp914.head(2)"
   ]
  },
  {
   "cell_type": "code",
   "execution_count": 331,
   "id": "common-czech",
   "metadata": {},
   "outputs": [
    {
     "data": {
      "text/plain": [
       "60"
      ]
     },
     "execution_count": 331,
     "metadata": {},
     "output_type": "execute_result"
    }
   ],
   "source": [
    "len(temp914)"
   ]
  },
  {
   "cell_type": "code",
   "execution_count": 31,
   "id": "proper-router",
   "metadata": {},
   "outputs": [
    {
     "data": {
      "text/plain": [
       "72"
      ]
     },
     "execution_count": 31,
     "metadata": {},
     "output_type": "execute_result"
    }
   ],
   "source": [
    "#Encoding missing Months holidays\n",
    "for i in range(2009,2015):\n",
    "    temp914=temp914.append(other={'Year':i, 'Month':3,'Event': 0},ignore_index=True)\n",
    "    temp914=temp914.append(other={'Year':i, 'Month':8,'Event': 0},ignore_index=True)\n",
    "temp914.sort_values(by=['Year','Month'],ignore_index=True,inplace=True)\n",
    "len(temp914)"
   ]
  },
  {
   "cell_type": "code",
   "execution_count": 32,
   "id": "painted-principal",
   "metadata": {},
   "outputs": [],
   "source": [
    "holiday9_13 = temp914[temp914['Year'].between(2009,2013)]\n",
    "holiday14 = temp914[temp914['Year']==2014]"
   ]
  },
  {
   "cell_type": "code",
   "execution_count": 33,
   "id": "floral-assessment",
   "metadata": {},
   "outputs": [
    {
     "data": {
      "text/plain": [
       "((60, 3), (12, 3))"
      ]
     },
     "execution_count": 33,
     "metadata": {},
     "output_type": "execute_result"
    }
   ],
   "source": [
    "holiday9_13.shape, holiday14.shape"
   ]
  },
  {
   "cell_type": "markdown",
   "id": "found-prison",
   "metadata": {},
   "source": [
    "# Merging of DATAFRAMES"
   ]
  },
  {
   "cell_type": "code",
   "execution_count": 34,
   "id": "deluxe-battle",
   "metadata": {},
   "outputs": [
    {
     "data": {
      "text/plain": [
       "(180, 4)"
      ]
     },
     "execution_count": 34,
     "metadata": {},
     "output_type": "execute_result"
    }
   ],
   "source": [
    "#Matching Granularity\n",
    "sales.shape"
   ]
  },
  {
   "cell_type": "code",
   "execution_count": 35,
   "id": "imperial-repeat",
   "metadata": {},
   "outputs": [
    {
     "data": {
      "text/html": [
       "<div>\n",
       "<style scoped>\n",
       "    .dataframe tbody tr th:only-of-type {\n",
       "        vertical-align: middle;\n",
       "    }\n",
       "\n",
       "    .dataframe tbody tr th {\n",
       "        vertical-align: top;\n",
       "    }\n",
       "\n",
       "    .dataframe thead th {\n",
       "        text-align: right;\n",
       "    }\n",
       "</style>\n",
       "<table border=\"1\" class=\"dataframe\">\n",
       "  <thead>\n",
       "    <tr style=\"text-align: right;\">\n",
       "      <th></th>\n",
       "      <th>Year</th>\n",
       "      <th>Month</th>\n",
       "      <th>ProductCategory</th>\n",
       "      <th>Sales(In ThousandDollars)</th>\n",
       "    </tr>\n",
       "  </thead>\n",
       "  <tbody>\n",
       "    <tr>\n",
       "      <th>0</th>\n",
       "      <td>2009</td>\n",
       "      <td>1</td>\n",
       "      <td>WomenClothing</td>\n",
       "      <td>1755.0</td>\n",
       "    </tr>\n",
       "    <tr>\n",
       "      <th>1</th>\n",
       "      <td>2009</td>\n",
       "      <td>1</td>\n",
       "      <td>MenClothing</td>\n",
       "      <td>524.0</td>\n",
       "    </tr>\n",
       "  </tbody>\n",
       "</table>\n",
       "</div>"
      ],
      "text/plain": [
       "   Year  Month ProductCategory  Sales(In ThousandDollars)\n",
       "0  2009      1   WomenClothing                     1755.0\n",
       "1  2009      1     MenClothing                      524.0"
      ]
     },
     "execution_count": 35,
     "metadata": {},
     "output_type": "execute_result"
    }
   ],
   "source": [
    "sales.head(2)"
   ]
  },
  {
   "cell_type": "code",
   "execution_count": 36,
   "id": "digital-robertson",
   "metadata": {},
   "outputs": [
    {
     "data": {
      "text/plain": [
       "(36, 5)"
      ]
     },
     "execution_count": 36,
     "metadata": {},
     "output_type": "execute_result"
    }
   ],
   "source": [
    "train = pd.read_csv(\"submission.csv\")\n",
    "train.shape"
   ]
  },
  {
   "cell_type": "code",
   "execution_count": 37,
   "id": "enhanced-nepal",
   "metadata": {},
   "outputs": [
    {
     "data": {
      "text/html": [
       "<div>\n",
       "<style scoped>\n",
       "    .dataframe tbody tr th:only-of-type {\n",
       "        vertical-align: middle;\n",
       "    }\n",
       "\n",
       "    .dataframe tbody tr th {\n",
       "        vertical-align: top;\n",
       "    }\n",
       "\n",
       "    .dataframe thead th {\n",
       "        text-align: right;\n",
       "    }\n",
       "</style>\n",
       "<table border=\"1\" class=\"dataframe\">\n",
       "  <thead>\n",
       "    <tr style=\"text-align: right;\">\n",
       "      <th></th>\n",
       "      <th>Year</th>\n",
       "      <th>Month</th>\n",
       "      <th>ProductCategory</th>\n",
       "    </tr>\n",
       "  </thead>\n",
       "  <tbody>\n",
       "    <tr>\n",
       "      <th>0</th>\n",
       "      <td>2014</td>\n",
       "      <td>1</td>\n",
       "      <td>WomenClothing</td>\n",
       "    </tr>\n",
       "    <tr>\n",
       "      <th>1</th>\n",
       "      <td>2014</td>\n",
       "      <td>1</td>\n",
       "      <td>MenClothing</td>\n",
       "    </tr>\n",
       "    <tr>\n",
       "      <th>2</th>\n",
       "      <td>2014</td>\n",
       "      <td>1</td>\n",
       "      <td>OtherClothing</td>\n",
       "    </tr>\n",
       "    <tr>\n",
       "      <th>3</th>\n",
       "      <td>2014</td>\n",
       "      <td>2</td>\n",
       "      <td>WomenClothing</td>\n",
       "    </tr>\n",
       "    <tr>\n",
       "      <th>4</th>\n",
       "      <td>2014</td>\n",
       "      <td>2</td>\n",
       "      <td>MenClothing</td>\n",
       "    </tr>\n",
       "  </tbody>\n",
       "</table>\n",
       "</div>"
      ],
      "text/plain": [
       "   Year  Month ProductCategory\n",
       "0  2014      1   WomenClothing\n",
       "1  2014      1     MenClothing\n",
       "2  2014      1   OtherClothing\n",
       "3  2014      2   WomenClothing\n",
       "4  2014      2     MenClothing"
      ]
     },
     "execution_count": 37,
     "metadata": {},
     "output_type": "execute_result"
    }
   ],
   "source": [
    "#train['ProductCategory'].replace({'MenClothing':1,'OtherClothing':2,'WomenClothing':3},inplace=True)\n",
    "test = train.drop(['Unnamed: 3','Sales(In ThousandDollars)'],axis=1)\n",
    "test.head()"
   ]
  },
  {
   "cell_type": "code",
   "execution_count": 38,
   "id": "processed-titanium",
   "metadata": {},
   "outputs": [
    {
     "data": {
      "text/plain": [
       "((12, 3), (12, 8), (12, 17))"
      ]
     },
     "execution_count": 38,
     "metadata": {},
     "output_type": "execute_result"
    }
   ],
   "source": [
    "holiday14.shape,weather1yr.shape,economic14.shape"
   ]
  },
  {
   "cell_type": "code",
   "execution_count": 39,
   "id": "controversial-chicken",
   "metadata": {},
   "outputs": [],
   "source": [
    "#YEAR 14\n",
    "\n",
    "#holidays and sales\n",
    "merge14_1 = pd.merge(left=test,right=holiday14,how='inner',left_on=['Year','Month'],right_on=['Year','Month'])\n",
    "\n",
    "#holiday,sales and Weather\n",
    "merge14_2 = pd.merge(left=merge14_1, right=weather1yr, how='inner')\n",
    "\n",
    "#holiday,sales, Weather and macroeconomic\n",
    "merge14_3 = pd.merge(left=merge14_2, right=economic14, how='inner')"
   ]
  },
  {
   "cell_type": "code",
   "execution_count": 40,
   "id": "human-robertson",
   "metadata": {},
   "outputs": [],
   "source": [
    "sales_data_14 = merge14_3.copy()"
   ]
  },
  {
   "cell_type": "code",
   "execution_count": 41,
   "id": "material-mechanics",
   "metadata": {},
   "outputs": [],
   "source": [
    "sales_data_14['Year'].replace({2014:6},inplace=True)\n",
    "#s14 = pd.get_dummies(data=sales_data_14, columns=['ProductCategory'])"
   ]
  },
  {
   "cell_type": "code",
   "execution_count": 42,
   "id": "settled-pressure",
   "metadata": {},
   "outputs": [
    {
     "data": {
      "text/plain": [
       "((60, 3), (60, 8), (60, 17))"
      ]
     },
     "execution_count": 42,
     "metadata": {},
     "output_type": "execute_result"
    }
   ],
   "source": [
    "holiday9_13.shape,weather5yrs.shape,economic09_13.shape"
   ]
  },
  {
   "cell_type": "code",
   "execution_count": 43,
   "id": "toxic-directory",
   "metadata": {},
   "outputs": [
    {
     "data": {
      "text/plain": [
       "(36, 25)"
      ]
     },
     "execution_count": 43,
     "metadata": {},
     "output_type": "execute_result"
    }
   ],
   "source": [
    "sales_data_14.shape"
   ]
  },
  {
   "cell_type": "code",
   "execution_count": 44,
   "id": "strategic-flexibility",
   "metadata": {},
   "outputs": [],
   "source": [
    "#YEAR 09 - 13\n",
    "\n",
    "\n",
    "#holidays and sales\n",
    "merge1 = pd.merge(left=sales,right=holiday9_13,how='inner',left_on=['Year','Month'],right_on=['Year','Month'])\n",
    "\n",
    "#holiday,sales and Weather\n",
    "merge2 = pd.merge(left=merge1, right=weather5yrs, how='inner')\n",
    "\n",
    "#holiday,sales, Weather and macroeconomic\n",
    "merge3 = pd.merge(left=merge2, right=economic09_13, how='inner')"
   ]
  },
  {
   "cell_type": "code",
   "execution_count": 45,
   "id": "resistant-creativity",
   "metadata": {},
   "outputs": [],
   "source": [
    "sales_data_09_13 = merge3.copy()"
   ]
  },
  {
   "cell_type": "code",
   "execution_count": 46,
   "id": "legal-gilbert",
   "metadata": {},
   "outputs": [
    {
     "data": {
      "text/plain": [
       "Year                                                                  0\n",
       "Month                                                                 0\n",
       "ProductCategory                                                       0\n",
       "Sales(In ThousandDollars)                                            10\n",
       "Event                                                                 0\n",
       "Day                                                                   0\n",
       "Temp avg (°C)                                                         0\n",
       "Dew Point avg (°C)                                                    0\n",
       "Humidity (%) avg                                                      0\n",
       "Visibility (km) avg                                                   0\n",
       "WeatherEvent                                                          0\n",
       "Monthly Nominal GDP Index (inMillion$)                                0\n",
       "Monthly Real GDP Index (inMillion$)                                   0\n",
       "CPI                                                                   0\n",
       "unemployment rate                                                     0\n",
       "CommercialBankInterestRateonCreditCardPlans                           0\n",
       "Finance Rate on Personal Loans at Commercial Banks, 24 Month Loan     0\n",
       "Earnings or wages  in dollars per hour                                0\n",
       "Cotton Monthly Price - US cents per Pound(lbs)                        0\n",
       "Change(in%)                                                           0\n",
       "Average upland planted(million acres)                                 0\n",
       "Average upland harvested(million acres)                               0\n",
       "yieldperharvested acre                                                0\n",
       "Production (in  480-lb netweright in million bales)                   0\n",
       "Mill use  (in  480-lb netweright in million bales)                    0\n",
       "Exports                                                               0\n",
       "dtype: int64"
      ]
     },
     "execution_count": 46,
     "metadata": {},
     "output_type": "execute_result"
    }
   ],
   "source": [
    "sales_data_09_13.isnull().sum()"
   ]
  },
  {
   "cell_type": "code",
   "execution_count": 47,
   "id": "purple-count",
   "metadata": {},
   "outputs": [],
   "source": [
    "#Dropping nan Values---Nan in sales (Output feature itself)\n",
    "sales_data_09_13.dropna(inplace=True)"
   ]
  },
  {
   "cell_type": "code",
   "execution_count": 48,
   "id": "fallen-shield",
   "metadata": {},
   "outputs": [
    {
     "data": {
      "text/plain": [
       "Index(['Year', 'Month', 'ProductCategory', 'Sales(In ThousandDollars)',\n",
       "       'Event', 'Day', 'Temp avg (°C)', 'Dew Point avg (°C)',\n",
       "       'Humidity (%) avg', 'Visibility (km) avg', 'WeatherEvent',\n",
       "       'Monthly Nominal GDP Index (inMillion$)',\n",
       "       'Monthly Real GDP Index (inMillion$)', 'CPI', 'unemployment rate',\n",
       "       'CommercialBankInterestRateonCreditCardPlans',\n",
       "       'Finance Rate on Personal Loans at Commercial Banks, 24 Month Loan',\n",
       "       'Earnings or wages  in dollars per hour',\n",
       "       'Cotton Monthly Price - US cents per Pound(lbs)', 'Change(in%)',\n",
       "       'Average upland planted(million acres)',\n",
       "       'Average upland harvested(million acres)', 'yieldperharvested acre',\n",
       "       'Production (in  480-lb netweright in million bales)',\n",
       "       'Mill use  (in  480-lb netweright in million bales)', 'Exports'],\n",
       "      dtype='object')"
      ]
     },
     "execution_count": 48,
     "metadata": {},
     "output_type": "execute_result"
    }
   ],
   "source": [
    "sales_data_09_13.columns"
   ]
  },
  {
   "cell_type": "code",
   "execution_count": 49,
   "id": "waiting-trouble",
   "metadata": {},
   "outputs": [],
   "source": [
    "sales_data_09_13['Year'].replace({2009:1,2010:2,2011:3, 2012:4, 2013:5},inplace=True)"
   ]
  },
  {
   "cell_type": "code",
   "execution_count": 51,
   "id": "suspected-routine",
   "metadata": {},
   "outputs": [
    {
     "data": {
      "text/plain": [
       "array(['WomenClothing', 'MenClothing', 'OtherClothing'], dtype=object)"
      ]
     },
     "execution_count": 51,
     "metadata": {},
     "output_type": "execute_result"
    }
   ],
   "source": [
    "sales['ProductCategory'].unique()"
   ]
  },
  {
   "cell_type": "markdown",
   "id": "circular-earthquake",
   "metadata": {},
   "source": [
    "# MODEL II ---> Creating separate Models for Product Categories"
   ]
  },
  {
   "cell_type": "code",
   "execution_count": 55,
   "id": "adopted-holmes",
   "metadata": {},
   "outputs": [],
   "source": [
    "#5yrs data\n",
    "sales_913_Women = sales_data_09_13[sales_data_09_13['ProductCategory']=='WomenClothing']\n",
    "sales_913_Men = sales_data_09_13[sales_data_09_13['ProductCategory']=='MenClothing']\n",
    "sales_913_Other = sales_data_09_13[sales_data_09_13['ProductCategory']=='OtherClothing']\n",
    "\n",
    "#1yrs data\n",
    "sales_14_Women = sales_data_14[sales_data_14['ProductCategory']=='WomenClothing']\n",
    "sales_14_Men = sales_data_14[sales_data_14['ProductCategory']=='MenClothing']\n",
    "sales_14_Other = sales_data_14[sales_data_14['ProductCategory']=='OtherClothing']"
   ]
  },
  {
   "cell_type": "code",
   "execution_count": 59,
   "id": "union-illness",
   "metadata": {},
   "outputs": [
    {
     "name": "stdout",
     "output_type": "stream",
     "text": [
      "(57, 26) (56, 26) (57, 26)\n",
      "(12, 25) (12, 25) (12, 25)\n"
     ]
    }
   ],
   "source": [
    "#The column dimensionality must be same\n",
    "print(sales_913_Men.shape,sales_913_Other.shape,sales_913_Women.shape)\n",
    "print(sales_14_Men.shape,sales_14_Other.shape,sales_14_Women.shape)"
   ]
  },
  {
   "cell_type": "code",
   "execution_count": 95,
   "id": "still-wholesale",
   "metadata": {},
   "outputs": [],
   "source": [
    "#5yr ----\n",
    "Xmen = sales_913_Men.drop(['Sales(In ThousandDollars)','ProductCategory','Day'],axis=1)\n",
    "ymen = sales_913_Men['Sales(In ThousandDollars)']\n",
    "\n",
    "Xwomen = sales_913_Women.drop(['Sales(In ThousandDollars)','ProductCategory','Day'],axis=1)\n",
    "ywomen = sales_913_Women['Sales(In ThousandDollars)']\n",
    "\n",
    "Xother = sales_913_Other.drop(['Sales(In ThousandDollars)','ProductCategory','Day'],axis=1)\n",
    "yother = sales_913_Other['Sales(In ThousandDollars)']"
   ]
  },
  {
   "cell_type": "code",
   "execution_count": 96,
   "id": "early-birth",
   "metadata": {},
   "outputs": [],
   "source": [
    "#men\n",
    "xtrain_men, xtest_men, ytrain_men, ytest_men = train_test_split(Xmen,ymen, test_size=0.3, random_state=50)\n",
    "#women\n",
    "xtrain_women, xtest_women, ytrain_women, ytest_women = train_test_split(Xwomen,ywomen, test_size=0.3, random_state=50)\n",
    "#other\n",
    "xtrain_other, xtest_other, ytrain_other, ytest_other = train_test_split(Xother,yother, test_size=0.3, random_state=50)"
   ]
  },
  {
   "cell_type": "code",
   "execution_count": 97,
   "id": "optimum-cream",
   "metadata": {},
   "outputs": [
    {
     "name": "stdout",
     "output_type": "stream",
     "text": [
      "Average Train R2    -3.2687651794848316\n",
      "Average Train RMSE  1321.7713384828053\n",
      "--------------------------------------------------\n",
      "Average Test R2    -20.012200064897726\n",
      "Average Test RMSE  1374.4553793984267\n",
      "0.8854553988568791\n"
     ]
    }
   ],
   "source": [
    "GradientBoostingRegressor()"
   ]
  },
  {
   "cell_type": "code",
   "execution_count": 109,
   "id": "spatial-accessory",
   "metadata": {},
   "outputs": [
    {
     "name": "stdout",
     "output_type": "stream",
     "text": [
      "Average Train R2    0.7255091630347885\n",
      "Average Train RMSE  62.78539680587713\n",
      "--------------------------------------------------\n",
      "Average Test R2    -0.392378228680271\n",
      "Average Test RMSE  157.05829628881042\n"
     ]
    }
   ],
   "source": [
    "GBoost=GradientBoostingRegressor(criterion= 'friedman_mse',max_depth= 2,min_samples_split= 3,n_estimators= 66, \n",
    "                                 learning_rate=0.5099999999999998,subsample= 0.9,random_state=208)\n",
    "kf = KFold(n_splits=2,shuffle=True,random_state=10)\n",
    "trainRMSEscore = cross_val_score(estimator=GBoost, X=xtrain_men, y=ytrain_men, scoring='neg_mean_squared_error', cv=kf)\n",
    "trainr2score = cross_val_score(estimator=GBoost, X=xtrain_men, y=ytrain_men, scoring='r2', cv=kf)\n",
    "\n",
    "print(\"Average Train R2   \",np.mean(trainr2score))\n",
    "print(\"Average Train RMSE \",np.mean(np.sqrt(abs(trainRMSEscore))))\n",
    "print(\"-\"*50)\n",
    "testRMSEscore = cross_val_score(estimator=GBoost, X=xtest_men, y=ytest_men, scoring='neg_mean_squared_error', cv=kf)\n",
    "testr2score = cross_val_score(estimator=GBoost, X=xtest_men, y=ytest_men, scoring='r2', cv=kf)\n",
    "\n",
    "print(\"Average Test R2   \",np.mean(testr2score))\n",
    "print(\"Average Test RMSE \",np.mean(np.sqrt(abs(testRMSEscore))))"
   ]
  },
  {
   "cell_type": "code",
   "execution_count": null,
   "id": "superb-rider",
   "metadata": {},
   "outputs": [],
   "source": []
  },
  {
   "cell_type": "code",
   "execution_count": null,
   "id": "spectacular-given",
   "metadata": {},
   "outputs": [],
   "source": []
  },
  {
   "cell_type": "code",
   "execution_count": null,
   "id": "figured-backing",
   "metadata": {},
   "outputs": [],
   "source": []
  },
  {
   "cell_type": "code",
   "execution_count": null,
   "id": "lucky-northeast",
   "metadata": {},
   "outputs": [],
   "source": []
  },
  {
   "cell_type": "code",
   "execution_count": null,
   "id": "present-purse",
   "metadata": {},
   "outputs": [],
   "source": []
  },
  {
   "cell_type": "code",
   "execution_count": null,
   "id": "periodic-greenhouse",
   "metadata": {},
   "outputs": [],
   "source": []
  },
  {
   "cell_type": "code",
   "execution_count": null,
   "id": "wicked-break",
   "metadata": {},
   "outputs": [],
   "source": []
  },
  {
   "cell_type": "code",
   "execution_count": 350,
   "id": "primary-consent",
   "metadata": {},
   "outputs": [],
   "source": [
    "#This LAbel encoding and Labelling ProductCategory as Ordinal won't help.\n",
    "#sales_data_09_13['ProductCategory'].replace({'MenClothing':1,'OtherClothing':2,'WomenClothing':3},inplace=True)"
   ]
  },
  {
   "cell_type": "code",
   "execution_count": 351,
   "id": "separate-glance",
   "metadata": {},
   "outputs": [],
   "source": [
    "#s913 = pd.get_dummies(data=sales_data_09_13, columns=['ProductCategory'])"
   ]
  },
  {
   "cell_type": "code",
   "execution_count": 110,
   "id": "saved-irish",
   "metadata": {},
   "outputs": [
    {
     "data": {
      "text/plain": [
       "<AxesSubplot:>"
      ]
     },
     "execution_count": 110,
     "metadata": {},
     "output_type": "execute_result"
    },
    {
     "data": {
      "image/png": "[encoded data removed]",
      "text/plain": [
       "<Figure size 1440x720 with 2 Axes>"
      ]
     },
     "metadata": {
      "needs_background": "light"
     },
     "output_type": "display_data"
    }
   ],
   "source": [
    "plt.figure(figsize=(20,10))\n",
    "sns.heatmap(s913.corr(),annot=True,vmin=-1,vmax=1, cmap='Dark2')"
   ]
  },
  {
   "cell_type": "code",
   "execution_count": 917,
   "id": "optional-divide",
   "metadata": {},
   "outputs": [],
   "source": [
    "s913.to_csv(\"s913.csv\",index=True)\n",
    "s14.to_csv('s14.csv',index=True)"
   ]
  },
  {
   "cell_type": "code",
   "execution_count": 924,
   "id": "destroyed-movement",
   "metadata": {},
   "outputs": [],
   "source": [
    "X = s913.drop('Sales(In ThousandDollars)',axis=1)\n",
    "y = s913['Sales(In ThousandDollars)']"
   ]
  },
  {
   "cell_type": "code",
   "execution_count": 353,
   "id": "plain-variable",
   "metadata": {},
   "outputs": [],
   "source": [
    "#X = sales_data_09_13.drop('Sales(In ThousandDollars)',axis=1)\n",
    "#y = sales_data_09_13['Sales(In ThousandDollars)']"
   ]
  },
  {
   "cell_type": "code",
   "execution_count": 926,
   "id": "accredited-manner",
   "metadata": {},
   "outputs": [],
   "source": [
    "xtrain, xtest, ytrain, ytest = train_test_split(X,y, test_size=0.20)"
   ]
  },
  {
   "cell_type": "code",
   "execution_count": 393,
   "id": "happy-twenty",
   "metadata": {},
   "outputs": [
    {
     "data": {
      "text/html": [
       "<table class=\"simpletable\">\n",
       "<caption>OLS Regression Results</caption>\n",
       "<tr>\n",
       "  <th>Dep. Variable:</th>    <td>Sales(In ThousandDollars)</td> <th>  R-squared:         </th> <td>   0.934</td>\n",
       "</tr>\n",
       "<tr>\n",
       "  <th>Model:</th>                       <td>OLS</td>            <th>  Adj. R-squared:    </th> <td>   0.922</td>\n",
       "</tr>\n",
       "<tr>\n",
       "  <th>Method:</th>                 <td>Least Squares</td>       <th>  F-statistic:       </th> <td>   77.43</td>\n",
       "</tr>\n",
       "<tr>\n",
       "  <th>Date:</th>                 <td>Thu, 12 Aug 2021</td>      <th>  Prob (F-statistic):</th> <td>2.61e-71</td>\n",
       "</tr>\n",
       "<tr>\n",
       "  <th>Time:</th>                     <td>09:47:40</td>          <th>  Log-Likelihood:    </th> <td> -1209.0</td>\n",
       "</tr>\n",
       "<tr>\n",
       "  <th>No. Observations:</th>          <td>   170</td>           <th>  AIC:               </th> <td>   2472.</td>\n",
       "</tr>\n",
       "<tr>\n",
       "  <th>Df Residuals:</th>              <td>   143</td>           <th>  BIC:               </th> <td>   2557.</td>\n",
       "</tr>\n",
       "<tr>\n",
       "  <th>Df Model:</th>                  <td>    26</td>           <th>                     </th>     <td> </td>   \n",
       "</tr>\n",
       "<tr>\n",
       "  <th>Covariance Type:</th>          <td>nonrobust</td>         <th>                     </th>     <td> </td>   \n",
       "</tr>\n",
       "</table>\n",
       "<table class=\"simpletable\">\n",
       "<tr>\n",
       "                                  <td></td>                                     <th>coef</th>     <th>std err</th>      <th>t</th>      <th>P>|t|</th>  <th>[0.025</th>    <th>0.975]</th>  \n",
       "</tr>\n",
       "<tr>\n",
       "  <th>const</th>                                                             <td>-1.563e+04</td> <td> 1.73e+04</td> <td>   -0.901</td> <td> 0.369</td> <td>-4.99e+04</td> <td> 1.87e+04</td>\n",
       "</tr>\n",
       "<tr>\n",
       "  <th>Year</th>                                                              <td>  222.5985</td> <td>  446.648</td> <td>    0.498</td> <td> 0.619</td> <td> -660.288</td> <td> 1105.485</td>\n",
       "</tr>\n",
       "<tr>\n",
       "  <th>Month</th>                                                             <td>   89.2443</td> <td>   40.123</td> <td>    2.224</td> <td> 0.028</td> <td>    9.934</td> <td>  168.554</td>\n",
       "</tr>\n",
       "<tr>\n",
       "  <th>Event</th>                                                             <td>   18.7280</td> <td>   46.469</td> <td>    0.403</td> <td> 0.688</td> <td>  -73.127</td> <td>  110.583</td>\n",
       "</tr>\n",
       "<tr>\n",
       "  <th>Day</th>                                                               <td>  148.7574</td> <td>   73.895</td> <td>    2.013</td> <td> 0.046</td> <td>    2.690</td> <td>  294.825</td>\n",
       "</tr>\n",
       "<tr>\n",
       "  <th>Temp avg (°C)</th>                                                     <td>  -14.0626</td> <td>   40.223</td> <td>   -0.350</td> <td> 0.727</td> <td>  -93.570</td> <td>   65.445</td>\n",
       "</tr>\n",
       "<tr>\n",
       "  <th>Dew Point avg (°C)</th>                                                <td>   -3.4724</td> <td>   41.460</td> <td>   -0.084</td> <td> 0.933</td> <td>  -85.426</td> <td>   78.481</td>\n",
       "</tr>\n",
       "<tr>\n",
       "  <th>Humidity (%) avg</th>                                                  <td>   -7.0627</td> <td>   13.542</td> <td>   -0.522</td> <td> 0.603</td> <td>  -33.831</td> <td>   19.706</td>\n",
       "</tr>\n",
       "<tr>\n",
       "  <th>Visibility (km) avg</th>                                               <td>  -90.1091</td> <td>   56.481</td> <td>   -1.595</td> <td> 0.113</td> <td> -201.754</td> <td>   21.536</td>\n",
       "</tr>\n",
       "<tr>\n",
       "  <th>WeatherEvent</th>                                                      <td>    4.9963</td> <td>   17.625</td> <td>    0.283</td> <td> 0.777</td> <td>  -29.842</td> <td>   39.835</td>\n",
       "</tr>\n",
       "<tr>\n",
       "  <th>Monthly Nominal GDP Index (inMillion$)</th>                            <td>   -1.9789</td> <td>    1.928</td> <td>   -1.026</td> <td> 0.306</td> <td>   -5.790</td> <td>    1.832</td>\n",
       "</tr>\n",
       "<tr>\n",
       "  <th>Monthly Real GDP Index (inMillion$)</th>                               <td>    1.9533</td> <td>    2.120</td> <td>    0.921</td> <td> 0.358</td> <td>   -2.237</td> <td>    6.144</td>\n",
       "</tr>\n",
       "<tr>\n",
       "  <th>CPI</th>                                                               <td>   93.5773</td> <td>   63.055</td> <td>    1.484</td> <td> 0.140</td> <td>  -31.063</td> <td>  218.218</td>\n",
       "</tr>\n",
       "<tr>\n",
       "  <th>unemployment rate</th>                                                 <td> -465.0849</td> <td>  197.792</td> <td>   -2.351</td> <td> 0.020</td> <td> -856.058</td> <td>  -74.112</td>\n",
       "</tr>\n",
       "<tr>\n",
       "  <th>CommercialBankInterestRateonCreditCardPlans</th>                       <td>  323.5967</td> <td>  174.191</td> <td>    1.858</td> <td> 0.065</td> <td>  -20.726</td> <td>  667.919</td>\n",
       "</tr>\n",
       "<tr>\n",
       "  <th>Finance Rate on Personal Loans at Commercial Banks, 24 Month Loan</th> <td>   95.6648</td> <td>  170.639</td> <td>    0.561</td> <td> 0.576</td> <td> -241.636</td> <td>  432.966</td>\n",
       "</tr>\n",
       "<tr>\n",
       "  <th>Earnings or wages  in dollars per hour</th>                            <td> -301.3101</td> <td>  297.079</td> <td>   -1.014</td> <td> 0.312</td> <td> -888.544</td> <td>  285.924</td>\n",
       "</tr>\n",
       "<tr>\n",
       "  <th>Cotton Monthly Price - US cents per Pound(lbs)</th>                    <td>   -1.2501</td> <td>    1.978</td> <td>   -0.632</td> <td> 0.528</td> <td>   -5.160</td> <td>    2.659</td>\n",
       "</tr>\n",
       "<tr>\n",
       "  <th>Change(in%)</th>                                                       <td>   -1.4712</td> <td>    4.701</td> <td>   -0.313</td> <td> 0.755</td> <td>  -10.763</td> <td>    7.821</td>\n",
       "</tr>\n",
       "<tr>\n",
       "  <th>Average upland planted(million acres)</th>                             <td>   79.0429</td> <td>   36.599</td> <td>    2.160</td> <td> 0.032</td> <td>    6.697</td> <td>  151.389</td>\n",
       "</tr>\n",
       "<tr>\n",
       "  <th>Average upland harvested(million acres)</th>                           <td>  606.5383</td> <td> 1356.900</td> <td>    0.447</td> <td> 0.656</td> <td>-2075.636</td> <td> 3288.712</td>\n",
       "</tr>\n",
       "<tr>\n",
       "  <th>yieldperharvested acre</th>                                            <td>    6.3111</td> <td>   15.296</td> <td>    0.413</td> <td> 0.681</td> <td>  -23.925</td> <td>   36.547</td>\n",
       "</tr>\n",
       "<tr>\n",
       "  <th>Production (in  480-lb netweright in million bales)</th>               <td> -446.2600</td> <td>  820.756</td> <td>   -0.544</td> <td> 0.587</td> <td>-2068.642</td> <td> 1176.122</td>\n",
       "</tr>\n",
       "<tr>\n",
       "  <th>Mill use  (in  480-lb netweright in million bales)</th>                <td> -317.1919</td> <td>  336.663</td> <td>   -0.942</td> <td> 0.348</td> <td> -982.671</td> <td>  348.287</td>\n",
       "</tr>\n",
       "<tr>\n",
       "  <th>Exports</th>                                                           <td>  122.4030</td> <td>   41.500</td> <td>    2.949</td> <td> 0.004</td> <td>   40.371</td> <td>  204.435</td>\n",
       "</tr>\n",
       "<tr>\n",
       "  <th>ProductCategory_MenClothing</th>                                       <td>-6164.7366</td> <td> 5784.207</td> <td>   -1.066</td> <td> 0.288</td> <td>-1.76e+04</td> <td> 5268.860</td>\n",
       "</tr>\n",
       "<tr>\n",
       "  <th>ProductCategory_OtherClothing</th>                                     <td>-5746.1197</td> <td> 5783.818</td> <td>   -0.993</td> <td> 0.322</td> <td>-1.72e+04</td> <td> 5686.708</td>\n",
       "</tr>\n",
       "<tr>\n",
       "  <th>ProductCategory_WomenClothing</th>                                     <td>-3715.2551</td> <td> 5781.953</td> <td>   -0.643</td> <td> 0.522</td> <td>-1.51e+04</td> <td> 7713.887</td>\n",
       "</tr>\n",
       "</table>\n",
       "<table class=\"simpletable\">\n",
       "<tr>\n",
       "  <th>Omnibus:</th>       <td>17.207</td> <th>  Durbin-Watson:     </th> <td>   2.338</td>\n",
       "</tr>\n",
       "<tr>\n",
       "  <th>Prob(Omnibus):</th> <td> 0.000</td> <th>  Jarque-Bera (JB):  </th> <td>  39.438</td>\n",
       "</tr>\n",
       "<tr>\n",
       "  <th>Skew:</th>          <td> 0.397</td> <th>  Prob(JB):          </th> <td>2.73e-09</td>\n",
       "</tr>\n",
       "<tr>\n",
       "  <th>Kurtosis:</th>      <td> 5.222</td> <th>  Cond. No.          </th> <td>2.60e+15</td>\n",
       "</tr>\n",
       "</table><br/><br/>Notes:<br/>[1] Standard Errors assume that the covariance matrix of the errors is correctly specified.<br/>[2] The smallest eigenvalue is 1.18e-20. This might indicate that there are<br/>strong multicollinearity problems or that the design matrix is singular."
      ],
      "text/plain": [
       "<class 'statsmodels.iolib.summary.Summary'>\n",
       "\"\"\"\n",
       "                                OLS Regression Results                               \n",
       "=====================================================================================\n",
       "Dep. Variable:     Sales(In ThousandDollars)   R-squared:                       0.934\n",
       "Model:                                   OLS   Adj. R-squared:                  0.922\n",
       "Method:                        Least Squares   F-statistic:                     77.43\n",
       "Date:                       Thu, 12 Aug 2021   Prob (F-statistic):           2.61e-71\n",
       "Time:                               09:47:40   Log-Likelihood:                -1209.0\n",
       "No. Observations:                        170   AIC:                             2472.\n",
       "Df Residuals:                            143   BIC:                             2557.\n",
       "Df Model:                                 26                                         \n",
       "Covariance Type:                   nonrobust                                         \n",
       "=====================================================================================================================================\n",
       "                                                                        coef    std err          t      P>|t|      [0.025      0.975]\n",
       "-------------------------------------------------------------------------------------------------------------------------------------\n",
       "const                                                             -1.563e+04   1.73e+04     -0.901      0.369   -4.99e+04    1.87e+04\n",
       "Year                                                                222.5985    446.648      0.498      0.619    -660.288    1105.485\n",
       "Month                                                                89.2443     40.123      2.224      0.028       9.934     168.554\n",
       "Event                                                                18.7280     46.469      0.403      0.688     -73.127     110.583\n",
       "Day                                                                 148.7574     73.895      2.013      0.046       2.690     294.825\n",
       "Temp avg (°C)                                                       -14.0626     40.223     -0.350      0.727     -93.570      65.445\n",
       "Dew Point avg (°C)                                                   -3.4724     41.460     -0.084      0.933     -85.426      78.481\n",
       "Humidity (%) avg                                                     -7.0627     13.542     -0.522      0.603     -33.831      19.706\n",
       "Visibility (km) avg                                                 -90.1091     56.481     -1.595      0.113    -201.754      21.536\n",
       "WeatherEvent                                                          4.9963     17.625      0.283      0.777     -29.842      39.835\n",
       "Monthly Nominal GDP Index (inMillion$)                               -1.9789      1.928     -1.026      0.306      -5.790       1.832\n",
       "Monthly Real GDP Index (inMillion$)                                   1.9533      2.120      0.921      0.358      -2.237       6.144\n",
       "CPI                                                                  93.5773     63.055      1.484      0.140     -31.063     218.218\n",
       "unemployment rate                                                  -465.0849    197.792     -2.351      0.020    -856.058     -74.112\n",
       "CommercialBankInterestRateonCreditCardPlans                         323.5967    174.191      1.858      0.065     -20.726     667.919\n",
       "Finance Rate on Personal Loans at Commercial Banks, 24 Month Loan    95.6648    170.639      0.561      0.576    -241.636     432.966\n",
       "Earnings or wages  in dollars per hour                             -301.3101    297.079     -1.014      0.312    -888.544     285.924\n",
       "Cotton Monthly Price - US cents per Pound(lbs)                       -1.2501      1.978     -0.632      0.528      -5.160       2.659\n",
       "Change(in%)                                                          -1.4712      4.701     -0.313      0.755     -10.763       7.821\n",
       "Average upland planted(million acres)                                79.0429     36.599      2.160      0.032       6.697     151.389\n",
       "Average upland harvested(million acres)                             606.5383   1356.900      0.447      0.656   -2075.636    3288.712\n",
       "yieldperharvested acre                                                6.3111     15.296      0.413      0.681     -23.925      36.547\n",
       "Production (in  480-lb netweright in million bales)                -446.2600    820.756     -0.544      0.587   -2068.642    1176.122\n",
       "Mill use  (in  480-lb netweright in million bales)                 -317.1919    336.663     -0.942      0.348    -982.671     348.287\n",
       "Exports                                                             122.4030     41.500      2.949      0.004      40.371     204.435\n",
       "ProductCategory_MenClothing                                       -6164.7366   5784.207     -1.066      0.288   -1.76e+04    5268.860\n",
       "ProductCategory_OtherClothing                                     -5746.1197   5783.818     -0.993      0.322   -1.72e+04    5686.708\n",
       "ProductCategory_WomenClothing                                     -3715.2551   5781.953     -0.643      0.522   -1.51e+04    7713.887\n",
       "==============================================================================\n",
       "Omnibus:                       17.207   Durbin-Watson:                   2.338\n",
       "Prob(Omnibus):                  0.000   Jarque-Bera (JB):               39.438\n",
       "Skew:                           0.397   Prob(JB):                     2.73e-09\n",
       "Kurtosis:                       5.222   Cond. No.                     2.60e+15\n",
       "==============================================================================\n",
       "\n",
       "Notes:\n",
       "[1] Standard Errors assume that the covariance matrix of the errors is correctly specified.\n",
       "[2] The smallest eigenvalue is 1.18e-20. This might indicate that there are\n",
       "strong multicollinearity problems or that the design matrix is singular.\n",
       "\"\"\""
      ]
     },
     "execution_count": 393,
     "metadata": {},
     "output_type": "execute_result"
    }
   ],
   "source": [
    "xsc = sm.add_constant(X)\n",
    "sm_model = sm.OLS(y, xsc).fit()\n",
    "sm_model.summary()"
   ]
  },
  {
   "cell_type": "code",
   "execution_count": 394,
   "id": "compound-allah",
   "metadata": {},
   "outputs": [
    {
     "name": "stdout",
     "output_type": "stream",
     "text": [
      "0.9916335610211369\n"
     ]
    },
    {
     "data": {
      "text/plain": [
       "254.35322544151077"
      ]
     },
     "execution_count": 394,
     "metadata": {},
     "output_type": "execute_result"
    }
   ],
   "source": [
    "lr = RandomForestRegressor()\n",
    "lr_model = lr.fit(xtrain,ytrain)\n",
    "print(lr_model.score(xtrain,ytrain))\n",
    "\n",
    "ypred_test = lr_model.predict(xtest)\n",
    "np.sqrt(mean_squared_error(ytest,ypred_test))"
   ]
  },
  {
   "cell_type": "code",
   "execution_count": 395,
   "id": "rental-therapy",
   "metadata": {},
   "outputs": [
    {
     "data": {
      "text/plain": [
       "array([3408.65,  692.76, 1189.23, 3432.61,  692.84, 1195.35, 3560.91,\n",
       "        723.  , 1213.94, 3733.44,  755.24, 1176.1 , 3727.4 ,  752.62,\n",
       "       1176.74, 3704.42,  744.78, 1162.07, 3664.39,  734.66, 1180.44,\n",
       "       3445.73,  736.75, 1188.66, 3413.05,  752.57, 1168.68, 3455.14,\n",
       "        759.84, 1152.22, 3518.17,  762.99, 1178.24, 4414.99, 1053.03,\n",
       "       1298.43])"
      ]
     },
     "execution_count": 395,
     "metadata": {},
     "output_type": "execute_result"
    }
   ],
   "source": [
    "lr_model.predict(s14)"
   ]
  },
  {
   "cell_type": "code",
   "execution_count": 1170,
   "id": "vocational-average",
   "metadata": {},
   "outputs": [
    {
     "data": {
      "text/plain": [
       "array([9.95167752e-01, 2.40896758e-03, 1.36212357e-03, 7.27708627e-04,\n",
       "       2.16384862e-04, 5.84518770e-05, 3.28171774e-05, 1.31932201e-05,\n",
       "       4.96761605e-06, 2.67232503e-06, 1.71936501e-06, 8.75709429e-07,\n",
       "       6.16233259e-07, 4.04033795e-07, 3.55258324e-07, 3.10723994e-07,\n",
       "       2.53089800e-07, 1.66659743e-07, 1.40540081e-07, 5.77980852e-08,\n",
       "       2.91493114e-08, 1.43553305e-08, 8.12847254e-09, 6.93926017e-09,\n",
       "       2.88639756e-09, 2.27332550e-10, 9.39579489e-33])"
      ]
     },
     "execution_count": 1170,
     "metadata": {},
     "output_type": "execute_result"
    }
   ],
   "source": [
    "# pca.explained_variance_ratio_"
   ]
  },
  {
   "cell_type": "code",
   "execution_count": 1171,
   "id": "integral-rapid",
   "metadata": {},
   "outputs": [
    {
     "name": "stdout",
     "output_type": "stream",
     "text": [
      "Average Train R2    -1.0324514748951188\n",
      "Average Train RMSE  1510.022433560792\n",
      "--------------------------------------------------\n",
      "Average Test R2    -20.7065102194874\n",
      "Average Test RMSE  1807.2020834239927\n"
     ]
    },
    {
     "data": {
      "text/plain": [
       "array([1082.17234311, 1082.17234311, 1082.17234311, 1174.23090823,\n",
       "       1174.23090823, 1174.23090823, 2456.8959502 , 2456.8959502 ,\n",
       "       2456.8959502 , 3064.08961677, 3064.08961677, 3064.08961677,\n",
       "       2349.13955092, 2349.13955092, 2349.13955092, 2313.08757505,\n",
       "       2313.08757505, 2313.08757505, 3376.23006218, 3376.23006218,\n",
       "       3376.23006218, 2718.47733143, 2718.47733143, 2718.47733143,\n",
       "       1720.02676982, 1720.02676982, 1720.02676982, 2348.51751243,\n",
       "       2348.51751243, 2348.51751243, 2803.63804992, 2803.63804992,\n",
       "       2803.63804992, 3583.4297311 , 3583.4297311 , 3583.4297311 ])"
      ]
     },
     "execution_count": 1171,
     "metadata": {},
     "output_type": "execute_result"
    }
   ],
   "source": [
    "# pca =PCA(8)\n",
    "# xtrain_scpca = pca.fit_transform(xtrain)\n",
    "# xtest_scpca  = pca.transform(xtest)\n",
    "# s14_scpa = pca.transform(s14)\n",
    "# pca.fit(xtrain,ytrain)\n",
    "\n",
    "# xtrain, xtest, ytrain, ytest = train_test_split(X,y, test_size=0.2)\n",
    "# GBoost=GradientBoostingRegressor(criterion= 'friedman_mse',max_depth= 2,min_samples_split= 3,n_estimators= 66, \n",
    "#                                  learning_rate=0.5099999999999998,subsample= 0.9)\n",
    "\n",
    "\n",
    "# GB_model_Tunned_v5 = GBoost.fit(xtrain_scpca, ytrain)\n",
    "# kf = KFold(n_splits=10,shuffle=True)\n",
    "# trainRMSEscore = cross_val_score(estimator=GBoost, X=xtrain_scpca, y=ytrain, scoring='neg_mean_squared_error', cv=kf)\n",
    "# trainr2score = cross_val_score(estimator=GBoost, X=xtrain_scpca, y=ytrain, scoring='r2', cv=kf)\n",
    "\n",
    "# print(\"Average Train R2   \",np.mean(trainr2score))\n",
    "# print(\"Average Train RMSE \",np.mean(np.sqrt(abs(trainRMSEscore))))\n",
    "# print(\"-\"*50)\n",
    "# testRMSEscore = cross_val_score(estimator=GBoost, X=xtest_scpca, y=ytest, scoring='neg_mean_squared_error', cv=kf)\n",
    "# testr2score = cross_val_score(estimator=GBoost, X=xtest_scpca, y=ytest, scoring='r2', cv=kf)\n",
    "\n",
    "# print(\"Average Test R2   \",np.mean(testr2score))\n",
    "# print(\"Average Test RMSE \",np.mean(np.sqrt(abs(testRMSEscore))))\n",
    "# GB_model_Tunned_v5.predict(s14_scpa)"
   ]
  },
  {
   "cell_type": "code",
   "execution_count": 1148,
   "id": "quality-ultimate",
   "metadata": {},
   "outputs": [
    {
     "data": {
      "text/html": [
       "<div>\n",
       "<style scoped>\n",
       "    .dataframe tbody tr th:only-of-type {\n",
       "        vertical-align: middle;\n",
       "    }\n",
       "\n",
       "    .dataframe tbody tr th {\n",
       "        vertical-align: top;\n",
       "    }\n",
       "\n",
       "    .dataframe thead th {\n",
       "        text-align: right;\n",
       "    }\n",
       "</style>\n",
       "<table border=\"1\" class=\"dataframe\">\n",
       "  <thead>\n",
       "    <tr style=\"text-align: right;\">\n",
       "      <th></th>\n",
       "      <th>Features</th>\n",
       "      <th>VIF</th>\n",
       "    </tr>\n",
       "  </thead>\n",
       "  <tbody>\n",
       "    <tr>\n",
       "      <th>3</th>\n",
       "      <td>Monthly Real GDP Index (inMillion$)</td>\n",
       "      <td>850380</td>\n",
       "    </tr>\n",
       "    <tr>\n",
       "      <th>2</th>\n",
       "      <td>Monthly Nominal GDP Index (inMillion$)</td>\n",
       "      <td>553061</td>\n",
       "    </tr>\n",
       "    <tr>\n",
       "      <th>4</th>\n",
       "      <td>CPI</td>\n",
       "      <td>173085</td>\n",
       "    </tr>\n",
       "    <tr>\n",
       "      <th>5</th>\n",
       "      <td>yieldperharvested acre</td>\n",
       "      <td>144359</td>\n",
       "    </tr>\n",
       "    <tr>\n",
       "      <th>0</th>\n",
       "      <td>Production (in  480-lb netweright in million b...</td>\n",
       "      <td>142645</td>\n",
       "    </tr>\n",
       "    <tr>\n",
       "      <th>1</th>\n",
       "      <td>Average upland harvested(million acres)</td>\n",
       "      <td>137900</td>\n",
       "    </tr>\n",
       "    <tr>\n",
       "      <th>8</th>\n",
       "      <td>Earnings or wages  in dollars per hour</td>\n",
       "      <td>74266</td>\n",
       "    </tr>\n",
       "    <tr>\n",
       "      <th>10</th>\n",
       "      <td>CommercialBankInterestRateonCreditCardPlans</td>\n",
       "      <td>6093</td>\n",
       "    </tr>\n",
       "    <tr>\n",
       "      <th>15</th>\n",
       "      <td>Finance Rate on Personal Loans at Commercial B...</td>\n",
       "      <td>3792</td>\n",
       "    </tr>\n",
       "    <tr>\n",
       "      <th>9</th>\n",
       "      <td>unemployment rate</td>\n",
       "      <td>3523</td>\n",
       "    </tr>\n",
       "    <tr>\n",
       "      <th>17</th>\n",
       "      <td>Mill use  (in  480-lb netweright in million ba...</td>\n",
       "      <td>1382</td>\n",
       "    </tr>\n",
       "    <tr>\n",
       "      <th>11</th>\n",
       "      <td>Humidity (%) avg</td>\n",
       "      <td>852</td>\n",
       "    </tr>\n",
       "    <tr>\n",
       "      <th>16</th>\n",
       "      <td>Visibility (km) avg</td>\n",
       "      <td>698</td>\n",
       "    </tr>\n",
       "    <tr>\n",
       "      <th>7</th>\n",
       "      <td>Temp avg (°C)</td>\n",
       "      <td>516</td>\n",
       "    </tr>\n",
       "    <tr>\n",
       "      <th>13</th>\n",
       "      <td>Exports</td>\n",
       "      <td>337</td>\n",
       "    </tr>\n",
       "    <tr>\n",
       "      <th>6</th>\n",
       "      <td>Dew Point avg (°C)</td>\n",
       "      <td>270</td>\n",
       "    </tr>\n",
       "    <tr>\n",
       "      <th>14</th>\n",
       "      <td>Average upland planted(million acres)</td>\n",
       "      <td>222</td>\n",
       "    </tr>\n",
       "    <tr>\n",
       "      <th>12</th>\n",
       "      <td>Cotton Monthly Price - US cents per Pound(lbs)</td>\n",
       "      <td>62</td>\n",
       "    </tr>\n",
       "    <tr>\n",
       "      <th>18</th>\n",
       "      <td>Change(in%)</td>\n",
       "      <td>2</td>\n",
       "    </tr>\n",
       "  </tbody>\n",
       "</table>\n",
       "</div>"
      ],
      "text/plain": [
       "                                             Features     VIF\n",
       "3                 Monthly Real GDP Index (inMillion$)  850380\n",
       "2              Monthly Nominal GDP Index (inMillion$)  553061\n",
       "4                                                 CPI  173085\n",
       "5                              yieldperharvested acre  144359\n",
       "0   Production (in  480-lb netweright in million b...  142645\n",
       "1             Average upland harvested(million acres)  137900\n",
       "8              Earnings or wages  in dollars per hour   74266\n",
       "10        CommercialBankInterestRateonCreditCardPlans    6093\n",
       "15  Finance Rate on Personal Loans at Commercial B...    3792\n",
       "9                                   unemployment rate    3523\n",
       "17  Mill use  (in  480-lb netweright in million ba...    1382\n",
       "11                                   Humidity (%) avg     852\n",
       "16                                Visibility (km) avg     698\n",
       "7                                       Temp avg (°C)     516\n",
       "13                                            Exports     337\n",
       "6                                  Dew Point avg (°C)     270\n",
       "14              Average upland planted(million acres)     222\n",
       "12     Cotton Monthly Price - US cents per Pound(lbs)      62\n",
       "18                                        Change(in%)       2"
      ]
     },
     "execution_count": 1148,
     "metadata": {},
     "output_type": "execute_result"
    }
   ],
   "source": [
    "xte = xtrain.iloc[:,[21,19,9,10,11,20,5,4,15,12,13,6,16,23,18,14,7,22,17]]\n",
    "vif = pd.DataFrame()\n",
    "vif['Features'] = xte.columns\n",
    "vif['VIF'] = [round(variance_inflation_factor(xte.values,i)) for i in range(xte.shape[1])]\n",
    "vif.sort_values(by='VIF',ascending=False)"
   ]
  },
  {
   "cell_type": "code",
   "execution_count": 1165,
   "id": "surface-thailand",
   "metadata": {},
   "outputs": [
    {
     "data": {
      "text/html": [
       "<div>\n",
       "<style scoped>\n",
       "    .dataframe tbody tr th:only-of-type {\n",
       "        vertical-align: middle;\n",
       "    }\n",
       "\n",
       "    .dataframe tbody tr th {\n",
       "        vertical-align: top;\n",
       "    }\n",
       "\n",
       "    .dataframe thead th {\n",
       "        text-align: right;\n",
       "    }\n",
       "</style>\n",
       "<table border=\"1\" class=\"dataframe\">\n",
       "  <thead>\n",
       "    <tr style=\"text-align: right;\">\n",
       "      <th></th>\n",
       "      <th>Features</th>\n",
       "      <th>VIF</th>\n",
       "    </tr>\n",
       "  </thead>\n",
       "  <tbody>\n",
       "    <tr>\n",
       "      <th>2</th>\n",
       "      <td>Temp avg (°C)</td>\n",
       "      <td>240</td>\n",
       "    </tr>\n",
       "    <tr>\n",
       "      <th>7</th>\n",
       "      <td>Visibility (km) avg</td>\n",
       "      <td>240</td>\n",
       "    </tr>\n",
       "    <tr>\n",
       "      <th>4</th>\n",
       "      <td>Humidity (%) avg</td>\n",
       "      <td>179</td>\n",
       "    </tr>\n",
       "    <tr>\n",
       "      <th>6</th>\n",
       "      <td>Exports</td>\n",
       "      <td>144</td>\n",
       "    </tr>\n",
       "    <tr>\n",
       "      <th>0</th>\n",
       "      <td>Average upland harvested(million acres)</td>\n",
       "      <td>139</td>\n",
       "    </tr>\n",
       "    <tr>\n",
       "      <th>1</th>\n",
       "      <td>Dew Point avg (°C)</td>\n",
       "      <td>125</td>\n",
       "    </tr>\n",
       "    <tr>\n",
       "      <th>3</th>\n",
       "      <td>unemployment rate</td>\n",
       "      <td>114</td>\n",
       "    </tr>\n",
       "    <tr>\n",
       "      <th>5</th>\n",
       "      <td>Cotton Monthly Price - US cents per Pound(lbs)</td>\n",
       "      <td>24</td>\n",
       "    </tr>\n",
       "    <tr>\n",
       "      <th>8</th>\n",
       "      <td>Change(in%)</td>\n",
       "      <td>2</td>\n",
       "    </tr>\n",
       "  </tbody>\n",
       "</table>\n",
       "</div>"
      ],
      "text/plain": [
       "                                         Features  VIF\n",
       "2                                   Temp avg (°C)  240\n",
       "7                             Visibility (km) avg  240\n",
       "4                                Humidity (%) avg  179\n",
       "6                                         Exports  144\n",
       "0         Average upland harvested(million acres)  139\n",
       "1                              Dew Point avg (°C)  125\n",
       "3                               unemployment rate  114\n",
       "5  Cotton Monthly Price - US cents per Pound(lbs)   24\n",
       "8                                     Change(in%)    2"
      ]
     },
     "execution_count": 1165,
     "metadata": {},
     "output_type": "execute_result"
    }
   ],
   "source": [
    "xtc = xte.drop(xte.iloc[:,[3,4,8,0,10,2,15,5,17,14,]].columns,axis=1)\n",
    "vif = pd.DataFrame()\n",
    "vif['Features'] = xtc.columns\n",
    "vif['VIF'] = [round(variance_inflation_factor(xtc.values,i)) for i in range(xtc.shape[1])]\n",
    "vif.sort_values(by='VIF',ascending=False)"
   ]
  },
  {
   "cell_type": "code",
   "execution_count": 397,
   "id": "interesting-offset",
   "metadata": {},
   "outputs": [
    {
     "name": "stdout",
     "output_type": "stream",
     "text": [
      "Average Train R2    0.8947560399252235\n",
      "Average Train RMSE  363.7002288679592\n",
      "--------------------------------------------------\n",
      "Average Test R2    -1.2844388988273303\n",
      "Average Test RMSE  668.0049016863032\n"
     ]
    }
   ],
   "source": [
    "lr = LinearRegression()\n",
    "lr_model = lr.fit(xtrain,ytrain)\n",
    "\n",
    "kf = KFold(n_splits=10,shuffle=True,random_state=10)\n",
    "trainRMSEscore = cross_val_score(estimator=lr, X=xtrain, y=ytrain, scoring='neg_mean_squared_error', cv=kf)\n",
    "trainr2score = cross_val_score(estimator=lr, X=xtrain, y=ytrain, scoring='r2', cv=kf)\n",
    "\n",
    "print(\"Average Train R2   \",np.mean(trainr2score))\n",
    "print(\"Average Train RMSE \",np.mean(np.sqrt(abs(trainRMSEscore))))\n",
    "print(\"-\"*50)\n",
    "testRMSEscore = cross_val_score(estimator=lr, X=xtest, y=ytest, scoring='neg_mean_squared_error', cv=kf)\n",
    "testr2score = cross_val_score(estimator=lr, X=xtest, y=ytest, scoring='r2', cv=kf)\n",
    "\n",
    "print(\"Average Test R2   \",np.mean(testr2score))\n",
    "print(\"Average Test RMSE \",np.mean(np.sqrt(abs(testRMSEscore))))"
   ]
  },
  {
   "cell_type": "code",
   "execution_count": 399,
   "id": "tracked-killer",
   "metadata": {},
   "outputs": [
    {
     "name": "stdout",
     "output_type": "stream",
     "text": [
      "Average Train R2    -1.6628652680849225e+29\n",
      "Average Train RMSE  2.938153465158453e+17\n",
      "--------------------------------------------------\n",
      "Average Test R2    -4.31077261173336e+29\n",
      "Average Test RMSE  3.7690511241346394e+17\n"
     ]
    }
   ],
   "source": [
    "#DATA IS NOT SCALED !\n",
    "\n",
    "\n",
    "# sg = SGDRegressor()\n",
    "# sg_model = lr.fit(xtrain,ytrain)\n",
    "\n",
    "# kf = KFold(n_splits=10,shuffle=True,random_state=10)\n",
    "# trainRMSEscore = cross_val_score(estimator=sg, X=xtrain, y=ytrain, scoring='neg_mean_squared_error', cv=kf)\n",
    "# trainr2score = cross_val_score(estimator=sg, X=xtrain, y=ytrain, scoring='r2', cv=kf)\n",
    "\n",
    "# print(\"Average Train R2   \",np.mean(trainr2score))\n",
    "# print(\"Average Train RMSE \",np.mean(np.sqrt(abs(trainRMSEscore))))\n",
    "# print(\"-\"*50)\n",
    "# testRMSEscore = cross_val_score(estimator=sg, X=xtest, y=ytest, scoring='neg_mean_squared_error', cv=kf)\n",
    "# testr2score = cross_val_score(estimator=sg, X=xtest, y=ytest, scoring='r2', cv=kf)\n",
    "\n",
    "# print(\"Average Test R2   \",np.mean(testr2score))\n",
    "# print(\"Average Test RMSE \",np.mean(np.sqrt(abs(testRMSEscore))))"
   ]
  },
  {
   "cell_type": "code",
   "execution_count": 400,
   "id": "weighted-exhibit",
   "metadata": {},
   "outputs": [
    {
     "name": "stdout",
     "output_type": "stream",
     "text": [
      "Average Train R2    0.9669879729736996\n",
      "Average Train RMSE  194.31415302474562\n",
      "--------------------------------------------------\n",
      "Average Test R2    0.8345405145921212\n",
      "Average Test RMSE  307.71220754241915\n"
     ]
    }
   ],
   "source": [
    "gb = GradientBoostingRegressor(n_estimators=300,random_state=10)\n",
    "gb_model = gb.fit(xtrain,ytrain)\n",
    "\n",
    "kf = KFold(n_splits=10,shuffle=True,random_state=10)\n",
    "trainRMSEscore = cross_val_score(estimator=gb, X=xtrain, y=ytrain, scoring='neg_mean_squared_error', cv=kf)\n",
    "trainr2score = cross_val_score(estimator=gb, X=xtrain, y=ytrain, scoring='r2', cv=kf)\n",
    "\n",
    "print(\"Average Train R2   \",np.mean(trainr2score))\n",
    "print(\"Average Train RMSE \",np.mean(np.sqrt(abs(trainRMSEscore))))\n",
    "print(\"-\"*50)\n",
    "testRMSEscore = cross_val_score(estimator=gb, X=xtest, y=ytest, scoring='neg_mean_squared_error', cv=kf)\n",
    "testr2score = cross_val_score(estimator=gb, X=xtest, y=ytest, scoring='r2', cv=kf)\n",
    "\n",
    "print(\"Average Test R2   \",np.mean(testr2score))\n",
    "print(\"Average Test RMSE \",np.mean(np.sqrt(abs(testRMSEscore))))"
   ]
  },
  {
   "cell_type": "code",
   "execution_count": 293,
   "id": "possible-oracle",
   "metadata": {},
   "outputs": [],
   "source": [
    "te = pd.DataFrame()\n",
    "te['Year'] = np.arange(1,37)\n",
    "te['Sales(In ThousandDollars)'] = gb_model.predict(s14)\n",
    "te.to_csv(\"basic_model_3.csv\",index=False)"
   ]
  },
  {
   "cell_type": "code",
   "execution_count": 369,
   "id": "stretch-abortion",
   "metadata": {},
   "outputs": [
    {
     "name": "stdout",
     "output_type": "stream",
     "text": [
      "Average Train R2    0.9477593408905145\n",
      "Average Train RMSE  245.92151082716867\n",
      "--------------------------------------------------\n",
      "Average Test R2    0.7742291095918354\n",
      "Average Test RMSE  404.7452977351393\n"
     ]
    }
   ],
   "source": [
    "lr = XGBRFRegressor(n_estimators=30,learning_rate=0.99)\n",
    "lr_model = lr.fit(xtrain,ytrain)\n",
    "\n",
    "kf = KFold(n_splits=10,shuffle=True,random_state=10)\n",
    "trainRMSEscore = cross_val_score(estimator=lr, X=xtrain, y=ytrain, scoring='neg_mean_squared_error', cv=kf)\n",
    "trainr2score = cross_val_score(estimator=lr, X=xtrain, y=ytrain, scoring='r2', cv=kf)\n",
    "\n",
    "print(\"Average Train R2   \",np.mean(trainr2score))\n",
    "print(\"Average Train RMSE \",np.mean(np.sqrt(abs(trainRMSEscore))))\n",
    "print(\"-\"*50)\n",
    "testRMSEscore = cross_val_score(estimator=lr, X=xtest, y=ytest, scoring='neg_mean_squared_error', cv=kf)\n",
    "testr2score = cross_val_score(estimator=lr, X=xtest, y=ytest, scoring='r2', cv=kf)\n",
    "\n",
    "print(\"Average Test R2   \",np.mean(testr2score))\n",
    "print(\"Average Test RMSE \",np.mean(np.sqrt(abs(testRMSEscore))))"
   ]
  },
  {
   "cell_type": "code",
   "execution_count": 370,
   "id": "buried-newspaper",
   "metadata": {},
   "outputs": [
    {
     "name": "stdout",
     "output_type": "stream",
     "text": [
      "Average Train R2    0.9407492787408256\n",
      "Average Train RMSE  259.7541707080436\n",
      "--------------------------------------------------\n",
      "Average Test R2    0.6512956587324951\n",
      "Average Test RMSE  391.595976416855\n"
     ]
    }
   ],
   "source": [
    "rf = RandomForestRegressor(n_estimators=300)\n",
    "rf_model = rf.fit(xtrain,ytrain)\n",
    "\n",
    "kf = KFold(n_splits=10,shuffle=True,random_state=10)\n",
    "trainRMSEscore = cross_val_score(estimator=rf, X=xtrain, y=ytrain, scoring='neg_mean_squared_error', cv=kf)\n",
    "trainr2score = cross_val_score(estimator=rf, X=xtrain, y=ytrain, scoring='r2', cv=kf)\n",
    "\n",
    "print(\"Average Train R2   \",np.mean(trainr2score))\n",
    "print(\"Average Train RMSE \",np.mean(np.sqrt(abs(trainRMSEscore))))\n",
    "print(\"-\"*50)\n",
    "testRMSEscore = cross_val_score(estimator=rf, X=xtest, y=ytest, scoring='neg_mean_squared_error', cv=kf)\n",
    "testr2score = cross_val_score(estimator=rf, X=xtest, y=ytest, scoring='r2', cv=kf)\n",
    "\n",
    "print(\"Average Test R2   \",np.mean(testr2score))\n",
    "print(\"Average Test RMSE \",np.mean(np.sqrt(abs(testRMSEscore))))"
   ]
  },
  {
   "cell_type": "code",
   "execution_count": 190,
   "id": "bizarre-alexander",
   "metadata": {},
   "outputs": [
    {
     "data": {
      "text/plain": [
       "dict_keys(['explained_variance', 'r2', 'max_error', 'neg_median_absolute_error', 'neg_mean_absolute_error', 'neg_mean_absolute_percentage_error', 'neg_mean_squared_error', 'neg_mean_squared_log_error', 'neg_root_mean_squared_error', 'neg_mean_poisson_deviance', 'neg_mean_gamma_deviance', 'accuracy', 'top_k_accuracy', 'roc_auc', 'roc_auc_ovr', 'roc_auc_ovo', 'roc_auc_ovr_weighted', 'roc_auc_ovo_weighted', 'balanced_accuracy', 'average_precision', 'neg_log_loss', 'neg_brier_score', 'adjusted_rand_score', 'rand_score', 'homogeneity_score', 'completeness_score', 'v_measure_score', 'mutual_info_score', 'adjusted_mutual_info_score', 'normalized_mutual_info_score', 'fowlkes_mallows_score', 'precision', 'precision_macro', 'precision_micro', 'precision_samples', 'precision_weighted', 'recall', 'recall_macro', 'recall_micro', 'recall_samples', 'recall_weighted', 'f1', 'f1_macro', 'f1_micro', 'f1_samples', 'f1_weighted', 'jaccard', 'jaccard_macro', 'jaccard_micro', 'jaccard_samples', 'jaccard_weighted'])"
      ]
     },
     "execution_count": 190,
     "metadata": {},
     "output_type": "execute_result"
    }
   ],
   "source": [
    "sklearn.metrics.SCORERS.keys()"
   ]
  },
  {
   "cell_type": "markdown",
   "id": "parallel-composer",
   "metadata": {},
   "source": [
    "# Feature Selection"
   ]
  },
  {
   "cell_type": "code",
   "execution_count": 582,
   "id": "fewer-aruba",
   "metadata": {},
   "outputs": [
    {
     "data": {
      "text/plain": [
       "27"
      ]
     },
     "execution_count": 582,
     "metadata": {},
     "output_type": "execute_result"
    }
   ],
   "source": [
    "len(X.columns)"
   ]
  },
  {
   "cell_type": "code",
   "execution_count": 930,
   "id": "aerial-fitness",
   "metadata": {},
   "outputs": [],
   "source": [
    "features_set = X.iloc[:,[1,2,3,4,8,11,12,24,25,26]].columns"
   ]
  },
  {
   "cell_type": "code",
   "execution_count": 584,
   "id": "included-intensity",
   "metadata": {},
   "outputs": [
    {
     "data": {
      "text/html": [
       "<div>\n",
       "<style scoped>\n",
       "    .dataframe tbody tr th:only-of-type {\n",
       "        vertical-align: middle;\n",
       "    }\n",
       "\n",
       "    .dataframe tbody tr th {\n",
       "        vertical-align: top;\n",
       "    }\n",
       "\n",
       "    .dataframe thead th {\n",
       "        text-align: right;\n",
       "    }\n",
       "</style>\n",
       "<table border=\"1\" class=\"dataframe\">\n",
       "  <thead>\n",
       "    <tr style=\"text-align: right;\">\n",
       "      <th></th>\n",
       "      <th>Features</th>\n",
       "    </tr>\n",
       "  </thead>\n",
       "  <tbody>\n",
       "    <tr>\n",
       "      <th>0</th>\n",
       "      <td>Year</td>\n",
       "    </tr>\n",
       "    <tr>\n",
       "      <th>1</th>\n",
       "      <td>Month</td>\n",
       "    </tr>\n",
       "    <tr>\n",
       "      <th>2</th>\n",
       "      <td>Event</td>\n",
       "    </tr>\n",
       "    <tr>\n",
       "      <th>3</th>\n",
       "      <td>Day</td>\n",
       "    </tr>\n",
       "    <tr>\n",
       "      <th>4</th>\n",
       "      <td>Temp avg (°C)</td>\n",
       "    </tr>\n",
       "    <tr>\n",
       "      <th>5</th>\n",
       "      <td>Dew Point avg (°C)</td>\n",
       "    </tr>\n",
       "    <tr>\n",
       "      <th>6</th>\n",
       "      <td>Humidity (%) avg</td>\n",
       "    </tr>\n",
       "    <tr>\n",
       "      <th>7</th>\n",
       "      <td>Visibility (km) avg</td>\n",
       "    </tr>\n",
       "    <tr>\n",
       "      <th>8</th>\n",
       "      <td>WeatherEvent</td>\n",
       "    </tr>\n",
       "    <tr>\n",
       "      <th>9</th>\n",
       "      <td>Monthly Nominal GDP Index (inMillion$)</td>\n",
       "    </tr>\n",
       "    <tr>\n",
       "      <th>10</th>\n",
       "      <td>Monthly Real GDP Index (inMillion$)</td>\n",
       "    </tr>\n",
       "    <tr>\n",
       "      <th>11</th>\n",
       "      <td>CPI</td>\n",
       "    </tr>\n",
       "    <tr>\n",
       "      <th>12</th>\n",
       "      <td>unemployment rate</td>\n",
       "    </tr>\n",
       "    <tr>\n",
       "      <th>13</th>\n",
       "      <td>CommercialBankInterestRateonCreditCardPlans</td>\n",
       "    </tr>\n",
       "    <tr>\n",
       "      <th>14</th>\n",
       "      <td>Finance Rate on Personal Loans at Commercial B...</td>\n",
       "    </tr>\n",
       "    <tr>\n",
       "      <th>15</th>\n",
       "      <td>Earnings or wages  in dollars per hour</td>\n",
       "    </tr>\n",
       "    <tr>\n",
       "      <th>16</th>\n",
       "      <td>Cotton Monthly Price - US cents per Pound(lbs)</td>\n",
       "    </tr>\n",
       "    <tr>\n",
       "      <th>17</th>\n",
       "      <td>Change(in%)</td>\n",
       "    </tr>\n",
       "    <tr>\n",
       "      <th>18</th>\n",
       "      <td>Average upland planted(million acres)</td>\n",
       "    </tr>\n",
       "    <tr>\n",
       "      <th>19</th>\n",
       "      <td>Average upland harvested(million acres)</td>\n",
       "    </tr>\n",
       "    <tr>\n",
       "      <th>20</th>\n",
       "      <td>yieldperharvested acre</td>\n",
       "    </tr>\n",
       "    <tr>\n",
       "      <th>21</th>\n",
       "      <td>Production (in  480-lb netweright in million b...</td>\n",
       "    </tr>\n",
       "    <tr>\n",
       "      <th>22</th>\n",
       "      <td>Mill use  (in  480-lb netweright in million ba...</td>\n",
       "    </tr>\n",
       "    <tr>\n",
       "      <th>23</th>\n",
       "      <td>Exports</td>\n",
       "    </tr>\n",
       "    <tr>\n",
       "      <th>24</th>\n",
       "      <td>ProductCategory_MenClothing</td>\n",
       "    </tr>\n",
       "    <tr>\n",
       "      <th>25</th>\n",
       "      <td>ProductCategory_OtherClothing</td>\n",
       "    </tr>\n",
       "    <tr>\n",
       "      <th>26</th>\n",
       "      <td>ProductCategory_WomenClothing</td>\n",
       "    </tr>\n",
       "  </tbody>\n",
       "</table>\n",
       "</div>"
      ],
      "text/plain": [
       "                                             Features\n",
       "0                                                Year\n",
       "1                                               Month\n",
       "2                                               Event\n",
       "3                                                 Day\n",
       "4                                       Temp avg (°C)\n",
       "5                                  Dew Point avg (°C)\n",
       "6                                    Humidity (%) avg\n",
       "7                                 Visibility (km) avg\n",
       "8                                        WeatherEvent\n",
       "9              Monthly Nominal GDP Index (inMillion$)\n",
       "10                Monthly Real GDP Index (inMillion$)\n",
       "11                                                CPI\n",
       "12                                  unemployment rate\n",
       "13        CommercialBankInterestRateonCreditCardPlans\n",
       "14  Finance Rate on Personal Loans at Commercial B...\n",
       "15             Earnings or wages  in dollars per hour\n",
       "16     Cotton Monthly Price - US cents per Pound(lbs)\n",
       "17                                        Change(in%)\n",
       "18              Average upland planted(million acres)\n",
       "19            Average upland harvested(million acres)\n",
       "20                             yieldperharvested acre\n",
       "21  Production (in  480-lb netweright in million b...\n",
       "22  Mill use  (in  480-lb netweright in million ba...\n",
       "23                                            Exports\n",
       "24                        ProductCategory_MenClothing\n",
       "25                      ProductCategory_OtherClothing\n",
       "26                      ProductCategory_WomenClothing"
      ]
     },
     "execution_count": 584,
     "metadata": {},
     "output_type": "execute_result"
    }
   ],
   "source": [
    "index = pd.DataFrame()\n",
    "index['Features']=X.columns\n",
    "index"
   ]
  },
  {
   "cell_type": "code",
   "execution_count": 589,
   "id": "polish-draft",
   "metadata": {},
   "outputs": [
    {
     "name": "stdout",
     "output_type": "stream",
     "text": [
      "Index(['Year', 'Month', 'Event', 'Day', 'Temp avg (°C)', 'Visibility (km) avg',\n",
      "       'unemployment rate', 'Earnings or wages  in dollars per hour',\n",
      "       'ProductCategory_MenClothing', 'ProductCategory_OtherClothing',\n",
      "       'ProductCategory_WomenClothing'],\n",
      "      dtype='object')\n"
     ]
    }
   ],
   "source": [
    "manual_features_1 = X.iloc[:,[0,1,2,3,4,7,12,15,24,25,26]].columns\n",
    "print(manual_features_1)"
   ]
  },
  {
   "cell_type": "code",
   "execution_count": 515,
   "id": "inclusive-teens",
   "metadata": {},
   "outputs": [
    {
     "data": {
      "text/plain": [
       "<AxesSubplot:xlabel='Finance Rate on Personal Loans at Commercial Banks, 24 Month Loan', ylabel='Sales(In ThousandDollars)'>"
      ]
     },
     "execution_count": 515,
     "metadata": {},
     "output_type": "execute_result"
    },
    {
     "data": {
      "image/png": "[encoded data removed]",
      "text/plain": [
       "<Figure size 432x288 with 1 Axes>"
      ]
     },
     "metadata": {
      "needs_background": "light"
     },
     "output_type": "display_data"
    }
   ],
   "source": [
    "sns.scatterplot(s913['Finance Rate on Personal Loans at Commercial Banks, 24 Month Loan'],s913['Sales(In ThousandDollars)'])"
   ]
  },
  {
   "cell_type": "code",
   "execution_count": 767,
   "id": "possible-tomato",
   "metadata": {},
   "outputs": [
    {
     "name": "stdout",
     "output_type": "stream",
     "text": [
      "Index(['Year', 'Month', 'Event', 'Day', 'Temp avg (°C)', 'Dew Point avg (°C)',\n",
      "       'Humidity (%) avg', 'Visibility (km) avg', 'WeatherEvent', 'CPI',\n",
      "       'unemployment rate', 'CommercialBankInterestRateonCreditCardPlans',\n",
      "       'Earnings or wages  in dollars per hour',\n",
      "       'Average upland harvested(million acres)',\n",
      "       'Production (in  480-lb netweright in million bales)',\n",
      "       'Mill use  (in  480-lb netweright in million bales)', 'Exports',\n",
      "       'ProductCategory_MenClothing', 'ProductCategory_OtherClothing',\n",
      "       'ProductCategory_WomenClothing'],\n",
      "      dtype='object')\n"
     ]
    }
   ],
   "source": [
    "manual_features = X.iloc[:,[0,1,2,3,4,5,6,7,8,11,12,13,15,19,21,22,23,24,25,26]].columns\n",
    "print(manual_features)"
   ]
  },
  {
   "cell_type": "code",
   "execution_count": 522,
   "id": "gross-grocery",
   "metadata": {},
   "outputs": [],
   "source": [
    "# Manual Feature selection\n",
    "#manual_features = ['Year', 'Month', 'Event', 'Day', 'Temp avg (°C)', 'Dew Point avg (°C)',\n",
    "       'Humidity (%) avg', 'Visibility (km) avg', 'WeatherEvent','CPI', 'unemployment rate',\n",
    "       'CommercialBankInterestRateonCreditCardPlans',\n",
    "       'Earnings or wages  in dollars per hour',\n",
    "       'ProductCategory_MenClothing', 'ProductCategory_OtherClothing',\n",
    "       'ProductCategory_WomenClothing']"
   ]
  },
  {
   "cell_type": "code",
   "execution_count": 419,
   "id": "designed-smile",
   "metadata": {
    "scrolled": true
   },
   "outputs": [
    {
     "name": "stderr",
     "output_type": "stream",
     "text": [
      "[Parallel(n_jobs=1)]: Using backend SequentialBackend with 1 concurrent workers.\n",
      "[Parallel(n_jobs=1)]: Done  27 out of  27 | elapsed:    0.4s finished\n",
      "Features: 1/27[Parallel(n_jobs=1)]: Using backend SequentialBackend with 1 concurrent workers.\n",
      "[Parallel(n_jobs=1)]: Done  26 out of  26 | elapsed:    0.3s finished\n",
      "Features: 2/27[Parallel(n_jobs=1)]: Using backend SequentialBackend with 1 concurrent workers.\n",
      "[Parallel(n_jobs=1)]: Done  25 out of  25 | elapsed:    0.3s finished\n",
      "Features: 3/27[Parallel(n_jobs=1)]: Using backend SequentialBackend with 1 concurrent workers.\n",
      "[Parallel(n_jobs=1)]: Done  24 out of  24 | elapsed:    0.3s finished\n",
      "Features: 4/27[Parallel(n_jobs=1)]: Using backend SequentialBackend with 1 concurrent workers.\n",
      "[Parallel(n_jobs=1)]: Done  23 out of  23 | elapsed:    0.3s finished\n",
      "Features: 5/27[Parallel(n_jobs=1)]: Using backend SequentialBackend with 1 concurrent workers.\n",
      "[Parallel(n_jobs=1)]: Done  22 out of  22 | elapsed:    0.4s finished\n",
      "Features: 6/27[Parallel(n_jobs=1)]: Using backend SequentialBackend with 1 concurrent workers.\n",
      "[Parallel(n_jobs=1)]: Done  21 out of  21 | elapsed:    0.3s finished\n",
      "Features: 7/27[Parallel(n_jobs=1)]: Using backend SequentialBackend with 1 concurrent workers.\n",
      "[Parallel(n_jobs=1)]: Done  20 out of  20 | elapsed:    0.3s finished\n",
      "Features: 8/27[Parallel(n_jobs=1)]: Using backend SequentialBackend with 1 concurrent workers.\n",
      "[Parallel(n_jobs=1)]: Done  19 out of  19 | elapsed:    0.3s finished\n",
      "Features: 9/27[Parallel(n_jobs=1)]: Using backend SequentialBackend with 1 concurrent workers.\n",
      "[Parallel(n_jobs=1)]: Done  18 out of  18 | elapsed:    0.2s finished\n",
      "Features: 10/27[Parallel(n_jobs=1)]: Using backend SequentialBackend with 1 concurrent workers.\n",
      "[Parallel(n_jobs=1)]: Done  17 out of  17 | elapsed:    0.2s finished\n",
      "Features: 11/27[Parallel(n_jobs=1)]: Using backend SequentialBackend with 1 concurrent workers.\n",
      "[Parallel(n_jobs=1)]: Done  16 out of  16 | elapsed:    0.2s finished\n",
      "Features: 12/27[Parallel(n_jobs=1)]: Using backend SequentialBackend with 1 concurrent workers.\n",
      "[Parallel(n_jobs=1)]: Done  15 out of  15 | elapsed:    0.2s finished\n",
      "Features: 13/27[Parallel(n_jobs=1)]: Using backend SequentialBackend with 1 concurrent workers.\n",
      "[Parallel(n_jobs=1)]: Done  14 out of  14 | elapsed:    0.2s finished\n",
      "Features: 14/27[Parallel(n_jobs=1)]: Using backend SequentialBackend with 1 concurrent workers.\n",
      "[Parallel(n_jobs=1)]: Done  13 out of  13 | elapsed:    0.2s finished\n",
      "Features: 15/27[Parallel(n_jobs=1)]: Using backend SequentialBackend with 1 concurrent workers.\n",
      "[Parallel(n_jobs=1)]: Done  12 out of  12 | elapsed:    0.1s finished\n",
      "Features: 16/27[Parallel(n_jobs=1)]: Using backend SequentialBackend with 1 concurrent workers.\n",
      "[Parallel(n_jobs=1)]: Done  11 out of  11 | elapsed:    0.1s finished\n",
      "Features: 17/27[Parallel(n_jobs=1)]: Using backend SequentialBackend with 1 concurrent workers.\n",
      "[Parallel(n_jobs=1)]: Done  10 out of  10 | elapsed:    0.1s finished\n",
      "Features: 18/27[Parallel(n_jobs=1)]: Using backend SequentialBackend with 1 concurrent workers.\n",
      "[Parallel(n_jobs=1)]: Done   9 out of   9 | elapsed:    0.1s finished\n",
      "Features: 19/27[Parallel(n_jobs=1)]: Using backend SequentialBackend with 1 concurrent workers.\n",
      "[Parallel(n_jobs=1)]: Done   8 out of   8 | elapsed:    0.1s finished\n",
      "Features: 20/27[Parallel(n_jobs=1)]: Using backend SequentialBackend with 1 concurrent workers.\n",
      "[Parallel(n_jobs=1)]: Done   7 out of   7 | elapsed:    0.2s finished\n",
      "Features: 21/27[Parallel(n_jobs=1)]: Using backend SequentialBackend with 1 concurrent workers.\n",
      "[Parallel(n_jobs=1)]: Done   6 out of   6 | elapsed:    0.0s finished\n",
      "Features: 22/27[Parallel(n_jobs=1)]: Using backend SequentialBackend with 1 concurrent workers.\n",
      "[Parallel(n_jobs=1)]: Done   5 out of   5 | elapsed:    0.0s finished\n",
      "Features: 23/27[Parallel(n_jobs=1)]: Using backend SequentialBackend with 1 concurrent workers.\n",
      "[Parallel(n_jobs=1)]: Done   4 out of   4 | elapsed:    0.0s finished\n",
      "Features: 24/27[Parallel(n_jobs=1)]: Using backend SequentialBackend with 1 concurrent workers.\n",
      "[Parallel(n_jobs=1)]: Done   3 out of   3 | elapsed:    0.0s finished\n",
      "Features: 25/27[Parallel(n_jobs=1)]: Using backend SequentialBackend with 1 concurrent workers.\n",
      "[Parallel(n_jobs=1)]: Done   2 out of   2 | elapsed:    0.0s finished\n",
      "Features: 26/27[Parallel(n_jobs=1)]: Using backend SequentialBackend with 1 concurrent workers.\n",
      "[Parallel(n_jobs=1)]: Done   1 out of   1 | elapsed:    0.0s finished\n",
      "Features: 27/27"
     ]
    }
   ],
   "source": [
    "sfs = SequentialFeatureSelector(estimator=LinearRegression(),k_features='best',forward=True, scoring='neg_mean_squared_error',cv=kf,verbose=True)\n",
    "sfs_select_lr = sfs.fit(X,y)"
   ]
  },
  {
   "cell_type": "code",
   "execution_count": 421,
   "id": "classified-breath",
   "metadata": {},
   "outputs": [
    {
     "data": {
      "text/plain": [
       "['Year',\n",
       " 'Month',\n",
       " 'Day',\n",
       " 'Temp avg (°C)',\n",
       " 'Monthly Real GDP Index (inMillion$)',\n",
       " 'Change(in%)',\n",
       " 'Average upland planted(million acres)',\n",
       " 'Production (in  480-lb netweright in million bales)',\n",
       " 'Exports',\n",
       " 'ProductCategory_MenClothing',\n",
       " 'ProductCategory_OtherClothing',\n",
       " 'ProductCategory_WomenClothing']"
      ]
     },
     "execution_count": 421,
     "metadata": {},
     "output_type": "execute_result"
    }
   ],
   "source": [
    "sfs_forward_features = list(sfs_select_lr.k_feature_names_)\n",
    "sfs_forward_features"
   ]
  },
  {
   "cell_type": "code",
   "execution_count": null,
   "id": "affected-ending",
   "metadata": {},
   "outputs": [],
   "source": [
    "# sfs = SequentialFeatureSelector(estimator=GradientBoostingRegressor(),k_features='best',forward=True, scoring='neg_mean_squared_error',cv=kf,verbose=True)\n",
    "# sfs_select_f_gb = sfs.fit(X,y)\n",
    "# sfs_forward_features_gb = list(sfs_select_f_gb.k_feature_names_)\n",
    "# sfs_forward_features_gb\n",
    "\n",
    "#Without tuned Estimator\n",
    "#BAckward features\n",
    "#['Year', 'Month', 'Temp avg (°C)', 'Monthly Real GDP Index (inMillion$)', 'unemployment rate', 'Average upland planted(million acres)', 'Average upland harvested(million acres)', 'Production (in  480-lb netweright in million bales)', 'Mill use  (in  480-lb netweright in million bales)', 'Exports', 'ProductCategory_OtherClothing', 'ProductCategory_WomenClothing']\n",
    "--------------------------------------------------\n",
    "\n",
    "\n",
    "#Forward Features\n",
    "#['Year', 'Month', 'Temp avg (°C)', 'Monthly Real GDP Index (inMillion$)', 'unemployment rate', 'Average upland harvested(million acres)', 'ProductCategory_MenClothing', 'ProductCategory_OtherClothing', 'ProductCategory_WomenClothing']"
   ]
  },
  {
   "cell_type": "code",
   "execution_count": 782,
   "id": "moved-joyce",
   "metadata": {},
   "outputs": [
    {
     "name": "stderr",
     "output_type": "stream",
     "text": [
      "[Parallel(n_jobs=1)]: Using backend SequentialBackend with 1 concurrent workers.\n",
      "[Parallel(n_jobs=1)]: Done  27 out of  27 | elapsed:   15.1s finished\n",
      "Features: 1/27[Parallel(n_jobs=1)]: Using backend SequentialBackend with 1 concurrent workers.\n",
      "[Parallel(n_jobs=1)]: Done  26 out of  26 | elapsed:   14.8s finished\n",
      "Features: 2/27[Parallel(n_jobs=1)]: Using backend SequentialBackend with 1 concurrent workers.\n",
      "[Parallel(n_jobs=1)]: Done  25 out of  25 | elapsed:   14.5s finished\n",
      "Features: 3/27[Parallel(n_jobs=1)]: Using backend SequentialBackend with 1 concurrent workers.\n",
      "[Parallel(n_jobs=1)]: Done  24 out of  24 | elapsed:   14.3s finished\n",
      "Features: 4/27[Parallel(n_jobs=1)]: Using backend SequentialBackend with 1 concurrent workers.\n",
      "[Parallel(n_jobs=1)]: Done  23 out of  23 | elapsed:   13.9s finished\n",
      "Features: 5/27[Parallel(n_jobs=1)]: Using backend SequentialBackend with 1 concurrent workers.\n",
      "[Parallel(n_jobs=1)]: Done  22 out of  22 | elapsed:   13.6s finished\n",
      "Features: 6/27[Parallel(n_jobs=1)]: Using backend SequentialBackend with 1 concurrent workers.\n",
      "[Parallel(n_jobs=1)]: Done  21 out of  21 | elapsed:   13.2s finished\n",
      "Features: 7/27[Parallel(n_jobs=1)]: Using backend SequentialBackend with 1 concurrent workers.\n",
      "[Parallel(n_jobs=1)]: Done  20 out of  20 | elapsed:   13.1s finished\n",
      "Features: 8/27[Parallel(n_jobs=1)]: Using backend SequentialBackend with 1 concurrent workers.\n",
      "[Parallel(n_jobs=1)]: Done  19 out of  19 | elapsed:   13.0s finished\n",
      "Features: 9/27[Parallel(n_jobs=1)]: Using backend SequentialBackend with 1 concurrent workers.\n",
      "[Parallel(n_jobs=1)]: Done  18 out of  18 | elapsed:   12.6s finished\n",
      "Features: 10/27[Parallel(n_jobs=1)]: Using backend SequentialBackend with 1 concurrent workers.\n",
      "[Parallel(n_jobs=1)]: Done  17 out of  17 | elapsed:   12.4s finished\n",
      "Features: 11/27[Parallel(n_jobs=1)]: Using backend SequentialBackend with 1 concurrent workers.\n",
      "[Parallel(n_jobs=1)]: Done  16 out of  16 | elapsed:   11.8s finished\n",
      "Features: 12/27[Parallel(n_jobs=1)]: Using backend SequentialBackend with 1 concurrent workers.\n",
      "[Parallel(n_jobs=1)]: Done  15 out of  15 | elapsed:   11.5s finished\n",
      "Features: 13/27[Parallel(n_jobs=1)]: Using backend SequentialBackend with 1 concurrent workers.\n",
      "[Parallel(n_jobs=1)]: Done  14 out of  14 | elapsed:   10.7s finished\n",
      "Features: 14/27[Parallel(n_jobs=1)]: Using backend SequentialBackend with 1 concurrent workers.\n",
      "[Parallel(n_jobs=1)]: Done  13 out of  13 | elapsed:   10.4s finished\n",
      "Features: 15/27[Parallel(n_jobs=1)]: Using backend SequentialBackend with 1 concurrent workers.\n",
      "[Parallel(n_jobs=1)]: Done  12 out of  12 | elapsed:    9.9s finished\n",
      "Features: 16/27[Parallel(n_jobs=1)]: Using backend SequentialBackend with 1 concurrent workers.\n",
      "[Parallel(n_jobs=1)]: Done  11 out of  11 | elapsed:    9.2s finished\n",
      "Features: 17/27[Parallel(n_jobs=1)]: Using backend SequentialBackend with 1 concurrent workers.\n",
      "[Parallel(n_jobs=1)]: Done  10 out of  10 | elapsed:    8.9s finished\n",
      "Features: 18/27[Parallel(n_jobs=1)]: Using backend SequentialBackend with 1 concurrent workers.\n",
      "[Parallel(n_jobs=1)]: Done   9 out of   9 | elapsed:    8.0s finished\n",
      "Features: 19/27[Parallel(n_jobs=1)]: Using backend SequentialBackend with 1 concurrent workers.\n",
      "[Parallel(n_jobs=1)]: Done   8 out of   8 | elapsed:    7.5s finished\n",
      "Features: 20/27[Parallel(n_jobs=1)]: Using backend SequentialBackend with 1 concurrent workers.\n",
      "[Parallel(n_jobs=1)]: Done   7 out of   7 | elapsed:    6.6s finished\n",
      "Features: 21/27[Parallel(n_jobs=1)]: Using backend SequentialBackend with 1 concurrent workers.\n",
      "[Parallel(n_jobs=1)]: Done   6 out of   6 | elapsed:    6.0s finished\n",
      "Features: 22/27[Parallel(n_jobs=1)]: Using backend SequentialBackend with 1 concurrent workers.\n",
      "[Parallel(n_jobs=1)]: Done   5 out of   5 | elapsed:    5.0s finished\n",
      "Features: 23/27[Parallel(n_jobs=1)]: Using backend SequentialBackend with 1 concurrent workers.\n",
      "[Parallel(n_jobs=1)]: Done   4 out of   4 | elapsed:    4.1s finished\n",
      "Features: 24/27[Parallel(n_jobs=1)]: Using backend SequentialBackend with 1 concurrent workers.\n",
      "[Parallel(n_jobs=1)]: Done   3 out of   3 | elapsed:    3.4s finished\n",
      "Features: 25/27[Parallel(n_jobs=1)]: Using backend SequentialBackend with 1 concurrent workers.\n",
      "[Parallel(n_jobs=1)]: Done   2 out of   2 | elapsed:    2.2s finished\n",
      "Features: 26/27[Parallel(n_jobs=1)]: Using backend SequentialBackend with 1 concurrent workers.\n",
      "[Parallel(n_jobs=1)]: Done   1 out of   1 | elapsed:    1.3s finished\n",
      "Features: 27/27"
     ]
    },
    {
     "data": {
      "text/plain": [
       "['Year',\n",
       " 'Month',\n",
       " 'ProductCategory_MenClothing',\n",
       " 'ProductCategory_WomenClothing']"
      ]
     },
     "execution_count": 782,
     "metadata": {},
     "output_type": "execute_result"
    }
   ],
   "source": [
    "sfs = SequentialFeatureSelector(estimator=GradientBoostingRegressor(criterion= 'friedman_mse',max_depth= 2,min_samples_split= 3,n_estimators= 200, \n",
    "                                 learning_rate=0.19,random_state=208),k_features='best',forward=True, scoring='neg_mean_squared_error',cv=kf,verbose=True)\n",
    "sfs_select_f_gb = sfs.fit(X,y)\n",
    "sfs_forward_features_gb = list(sfs_select_f_gb.k_feature_names_)\n",
    "sfs_forward_features_gb"
   ]
  },
  {
   "cell_type": "code",
   "execution_count": null,
   "id": "circular-convention",
   "metadata": {},
   "outputs": [],
   "source": [
    "#['Year', 'Month', 'Temp avg (°C)', 'Monthly Real GDP Index (inMillion$)', 'unemployment rate', 'Average upland harvested(million acres)', 'ProductCategory_MenClothing', 'ProductCategory_OtherClothing', 'ProductCategory_WomenClothing']"
   ]
  },
  {
   "cell_type": "code",
   "execution_count": 783,
   "id": "greatest-disposition",
   "metadata": {},
   "outputs": [
    {
     "name": "stderr",
     "output_type": "stream",
     "text": [
      "[Parallel(n_jobs=1)]: Using backend SequentialBackend with 1 concurrent workers.\n",
      "[Parallel(n_jobs=1)]: Done  27 out of  27 | elapsed:   31.1s finished\n",
      "Features: 26/1[Parallel(n_jobs=1)]: Using backend SequentialBackend with 1 concurrent workers.\n",
      "[Parallel(n_jobs=1)]: Done  26 out of  26 | elapsed:   27.8s finished\n",
      "Features: 25/1[Parallel(n_jobs=1)]: Using backend SequentialBackend with 1 concurrent workers.\n",
      "[Parallel(n_jobs=1)]: Done  25 out of  25 | elapsed:   26.5s finished\n",
      "Features: 24/1[Parallel(n_jobs=1)]: Using backend SequentialBackend with 1 concurrent workers.\n",
      "[Parallel(n_jobs=1)]: Done  24 out of  24 | elapsed:   25.2s finished\n",
      "Features: 23/1[Parallel(n_jobs=1)]: Using backend SequentialBackend with 1 concurrent workers.\n",
      "[Parallel(n_jobs=1)]: Done  23 out of  23 | elapsed:   23.6s finished\n",
      "Features: 22/1[Parallel(n_jobs=1)]: Using backend SequentialBackend with 1 concurrent workers.\n",
      "[Parallel(n_jobs=1)]: Done  22 out of  22 | elapsed:   22.8s finished\n",
      "Features: 21/1[Parallel(n_jobs=1)]: Using backend SequentialBackend with 1 concurrent workers.\n",
      "[Parallel(n_jobs=1)]: Done  21 out of  21 | elapsed:   21.3s finished\n",
      "Features: 20/1[Parallel(n_jobs=1)]: Using backend SequentialBackend with 1 concurrent workers.\n",
      "[Parallel(n_jobs=1)]: Done  20 out of  20 | elapsed:   20.1s finished\n",
      "Features: 19/1[Parallel(n_jobs=1)]: Using backend SequentialBackend with 1 concurrent workers.\n",
      "[Parallel(n_jobs=1)]: Done  19 out of  19 | elapsed:   21.3s finished\n",
      "Features: 18/1[Parallel(n_jobs=1)]: Using backend SequentialBackend with 1 concurrent workers.\n",
      "[Parallel(n_jobs=1)]: Done  18 out of  18 | elapsed:   18.2s finished\n",
      "Features: 17/1[Parallel(n_jobs=1)]: Using backend SequentialBackend with 1 concurrent workers.\n",
      "[Parallel(n_jobs=1)]: Done  17 out of  17 | elapsed:   16.8s finished\n",
      "Features: 16/1[Parallel(n_jobs=1)]: Using backend SequentialBackend with 1 concurrent workers.\n",
      "[Parallel(n_jobs=1)]: Done  16 out of  16 | elapsed:   15.5s finished\n",
      "Features: 15/1[Parallel(n_jobs=1)]: Using backend SequentialBackend with 1 concurrent workers.\n",
      "[Parallel(n_jobs=1)]: Done  15 out of  15 | elapsed:   15.6s finished\n",
      "Features: 14/1[Parallel(n_jobs=1)]: Using backend SequentialBackend with 1 concurrent workers.\n",
      "[Parallel(n_jobs=1)]: Done  14 out of  14 | elapsed:   12.2s finished\n",
      "Features: 13/1[Parallel(n_jobs=1)]: Using backend SequentialBackend with 1 concurrent workers.\n",
      "[Parallel(n_jobs=1)]: Done  13 out of  13 | elapsed:   11.3s finished\n",
      "Features: 12/1[Parallel(n_jobs=1)]: Using backend SequentialBackend with 1 concurrent workers.\n",
      "[Parallel(n_jobs=1)]: Done  12 out of  12 | elapsed:   10.2s finished\n",
      "Features: 11/1[Parallel(n_jobs=1)]: Using backend SequentialBackend with 1 concurrent workers.\n",
      "[Parallel(n_jobs=1)]: Done  11 out of  11 | elapsed:    8.4s finished\n",
      "Features: 10/1[Parallel(n_jobs=1)]: Using backend SequentialBackend with 1 concurrent workers.\n",
      "[Parallel(n_jobs=1)]: Done  10 out of  10 | elapsed:    7.6s finished\n",
      "Features: 9/1[Parallel(n_jobs=1)]: Using backend SequentialBackend with 1 concurrent workers.\n",
      "[Parallel(n_jobs=1)]: Done   9 out of   9 | elapsed:    6.5s finished\n",
      "Features: 8/1[Parallel(n_jobs=1)]: Using backend SequentialBackend with 1 concurrent workers.\n",
      "[Parallel(n_jobs=1)]: Done   8 out of   8 | elapsed:    5.6s finished\n",
      "Features: 7/1[Parallel(n_jobs=1)]: Using backend SequentialBackend with 1 concurrent workers.\n",
      "[Parallel(n_jobs=1)]: Done   7 out of   7 | elapsed:    4.9s finished\n",
      "Features: 6/1[Parallel(n_jobs=1)]: Using backend SequentialBackend with 1 concurrent workers.\n",
      "[Parallel(n_jobs=1)]: Done   6 out of   6 | elapsed:    3.9s finished\n",
      "Features: 5/1[Parallel(n_jobs=1)]: Using backend SequentialBackend with 1 concurrent workers.\n",
      "[Parallel(n_jobs=1)]: Done   5 out of   5 | elapsed:    3.0s finished\n",
      "Features: 4/1[Parallel(n_jobs=1)]: Using backend SequentialBackend with 1 concurrent workers.\n",
      "[Parallel(n_jobs=1)]: Done   4 out of   4 | elapsed:    2.3s finished\n",
      "Features: 3/1[Parallel(n_jobs=1)]: Using backend SequentialBackend with 1 concurrent workers.\n",
      "[Parallel(n_jobs=1)]: Done   3 out of   3 | elapsed:    1.7s finished\n",
      "Features: 2/1[Parallel(n_jobs=1)]: Using backend SequentialBackend with 1 concurrent workers.\n",
      "[Parallel(n_jobs=1)]: Done   2 out of   2 | elapsed:    1.1s finished\n",
      "Features: 1/1"
     ]
    },
    {
     "data": {
      "text/plain": [
       "['Month',\n",
       " 'Temp avg (°C)',\n",
       " 'CommercialBankInterestRateonCreditCardPlans',\n",
       " 'Earnings or wages  in dollars per hour',\n",
       " 'Cotton Monthly Price - US cents per Pound(lbs)',\n",
       " 'Change(in%)',\n",
       " 'yieldperharvested acre',\n",
       " 'Production (in  480-lb netweright in million bales)',\n",
       " 'Mill use  (in  480-lb netweright in million bales)',\n",
       " 'Exports',\n",
       " 'ProductCategory_MenClothing',\n",
       " 'ProductCategory_WomenClothing']"
      ]
     },
     "execution_count": 783,
     "metadata": {},
     "output_type": "execute_result"
    }
   ],
   "source": [
    "sfs = SequentialFeatureSelector(estimator=GradientBoostingRegressor(criterion= 'friedman_mse',max_depth= 2,min_samples_split= 3,n_estimators= 200, \n",
    "                                 learning_rate=0.19,random_state=208),k_features='best',forward=False, scoring='neg_mean_squared_error',cv=kf,verbose=True)\n",
    "sfs_select_b_gb = sfs.fit(X,y)\n",
    "sfs_backward_features_gb = list(sfs_select_b_gb.k_feature_names_)\n",
    "sfs_backward_features_gb"
   ]
  },
  {
   "cell_type": "code",
   "execution_count": 784,
   "id": "first-narrative",
   "metadata": {},
   "outputs": [
    {
     "data": {
      "text/plain": [
       "['Year',\n",
       " 'Month',\n",
       " 'Event',\n",
       " 'Day',\n",
       " 'Temp avg (°C)',\n",
       " 'Visibility\\xa0(km) avg',\n",
       " 'CPI',\n",
       " 'unemployment rate',\n",
       " 'CommercialBankInterestRateonCreditCardPlans',\n",
       " 'Finance Rate on Personal Loans at Commercial Banks, 24 Month Loan',\n",
       " 'Earnings or wages  in dollars per hour',\n",
       " 'Average upland planted(million acres)',\n",
       " 'Average upland harvested(million acres)',\n",
       " 'Production (in  480-lb netweright in million bales)',\n",
       " 'Mill use  (in  480-lb netweright in million bales)',\n",
       " 'Exports',\n",
       " 'ProductCategory_MenClothing',\n",
       " 'ProductCategory_OtherClothing',\n",
       " 'ProductCategory_WomenClothing']"
      ]
     },
     "execution_count": 784,
     "metadata": {},
     "output_type": "execute_result"
    }
   ],
   "source": [
    "rfe_gb = RFECV(estimator=GradientBoostingRegressor(criterion= 'friedman_mse',max_depth= 2,min_samples_split= 3,n_estimators= 200, \n",
    "                                 learning_rate=0.19,random_state=208) ,cv= kf, scoring='neg_mean_squared_error')\n",
    "refe_gb_select = rfe_lr.fit(X,y)\n",
    "rfegb=pd.DataFrame()\n",
    "rfegb['Features'] = X.columns\n",
    "rfegb['Rank'] = refe_gb_select.ranking_\n",
    "rfe_gb_features = list(rfegb[rfegb['Rank']==1]['Features'])\n",
    "rfe_gb_features"
   ]
  },
  {
   "cell_type": "code",
   "execution_count": 422,
   "id": "resistant-casino",
   "metadata": {
    "scrolled": true
   },
   "outputs": [
    {
     "name": "stderr",
     "output_type": "stream",
     "text": [
      "[Parallel(n_jobs=1)]: Using backend SequentialBackend with 1 concurrent workers.\n",
      "[Parallel(n_jobs=1)]: Done  27 out of  27 | elapsed:    0.5s finished\n",
      "Features: 26/1[Parallel(n_jobs=1)]: Using backend SequentialBackend with 1 concurrent workers.\n",
      "[Parallel(n_jobs=1)]: Done  26 out of  26 | elapsed:    0.4s finished\n",
      "Features: 25/1[Parallel(n_jobs=1)]: Using backend SequentialBackend with 1 concurrent workers.\n",
      "[Parallel(n_jobs=1)]: Done  25 out of  25 | elapsed:    0.4s finished\n",
      "Features: 24/1[Parallel(n_jobs=1)]: Using backend SequentialBackend with 1 concurrent workers.\n",
      "[Parallel(n_jobs=1)]: Done  24 out of  24 | elapsed:    0.4s finished\n",
      "Features: 23/1[Parallel(n_jobs=1)]: Using backend SequentialBackend with 1 concurrent workers.\n",
      "[Parallel(n_jobs=1)]: Done  23 out of  23 | elapsed:    0.4s finished\n",
      "Features: 22/1[Parallel(n_jobs=1)]: Using backend SequentialBackend with 1 concurrent workers.\n",
      "[Parallel(n_jobs=1)]: Done  22 out of  22 | elapsed:    0.3s finished\n",
      "Features: 21/1[Parallel(n_jobs=1)]: Using backend SequentialBackend with 1 concurrent workers.\n",
      "[Parallel(n_jobs=1)]: Done  21 out of  21 | elapsed:    0.3s finished\n",
      "Features: 20/1[Parallel(n_jobs=1)]: Using backend SequentialBackend with 1 concurrent workers.\n",
      "[Parallel(n_jobs=1)]: Done  20 out of  20 | elapsed:    0.3s finished\n",
      "Features: 19/1[Parallel(n_jobs=1)]: Using backend SequentialBackend with 1 concurrent workers.\n",
      "[Parallel(n_jobs=1)]: Done  19 out of  19 | elapsed:    0.3s finished\n",
      "Features: 18/1[Parallel(n_jobs=1)]: Using backend SequentialBackend with 1 concurrent workers.\n",
      "[Parallel(n_jobs=1)]: Done  18 out of  18 | elapsed:    0.2s finished\n",
      "Features: 17/1[Parallel(n_jobs=1)]: Using backend SequentialBackend with 1 concurrent workers.\n",
      "[Parallel(n_jobs=1)]: Done  17 out of  17 | elapsed:    0.2s finished\n",
      "Features: 16/1[Parallel(n_jobs=1)]: Using backend SequentialBackend with 1 concurrent workers.\n",
      "[Parallel(n_jobs=1)]: Done  16 out of  16 | elapsed:    0.2s finished\n",
      "Features: 15/1[Parallel(n_jobs=1)]: Using backend SequentialBackend with 1 concurrent workers.\n",
      "[Parallel(n_jobs=1)]: Done  15 out of  15 | elapsed:    0.2s finished\n",
      "Features: 14/1[Parallel(n_jobs=1)]: Using backend SequentialBackend with 1 concurrent workers.\n",
      "[Parallel(n_jobs=1)]: Done  14 out of  14 | elapsed:    0.2s finished\n",
      "Features: 13/1[Parallel(n_jobs=1)]: Using backend SequentialBackend with 1 concurrent workers.\n",
      "[Parallel(n_jobs=1)]: Done  13 out of  13 | elapsed:    0.2s finished\n",
      "Features: 12/1[Parallel(n_jobs=1)]: Using backend SequentialBackend with 1 concurrent workers.\n",
      "[Parallel(n_jobs=1)]: Done  12 out of  12 | elapsed:    0.1s finished\n",
      "Features: 11/1[Parallel(n_jobs=1)]: Using backend SequentialBackend with 1 concurrent workers.\n",
      "[Parallel(n_jobs=1)]: Done  11 out of  11 | elapsed:    0.1s finished\n",
      "Features: 10/1[Parallel(n_jobs=1)]: Using backend SequentialBackend with 1 concurrent workers.\n",
      "[Parallel(n_jobs=1)]: Done  10 out of  10 | elapsed:    0.1s finished\n",
      "Features: 9/1[Parallel(n_jobs=1)]: Using backend SequentialBackend with 1 concurrent workers.\n",
      "[Parallel(n_jobs=1)]: Done   9 out of   9 | elapsed:    0.1s finished\n",
      "Features: 8/1[Parallel(n_jobs=1)]: Using backend SequentialBackend with 1 concurrent workers.\n",
      "[Parallel(n_jobs=1)]: Done   8 out of   8 | elapsed:    0.1s finished\n",
      "Features: 7/1[Parallel(n_jobs=1)]: Using backend SequentialBackend with 1 concurrent workers.\n",
      "[Parallel(n_jobs=1)]: Done   7 out of   7 | elapsed:    0.1s finished\n",
      "Features: 6/1[Parallel(n_jobs=1)]: Using backend SequentialBackend with 1 concurrent workers.\n",
      "[Parallel(n_jobs=1)]: Done   6 out of   6 | elapsed:    0.0s finished\n",
      "Features: 5/1[Parallel(n_jobs=1)]: Using backend SequentialBackend with 1 concurrent workers.\n",
      "[Parallel(n_jobs=1)]: Done   5 out of   5 | elapsed:    0.0s finished\n",
      "Features: 4/1[Parallel(n_jobs=1)]: Using backend SequentialBackend with 1 concurrent workers.\n",
      "[Parallel(n_jobs=1)]: Done   4 out of   4 | elapsed:    0.0s finished\n",
      "Features: 3/1[Parallel(n_jobs=1)]: Using backend SequentialBackend with 1 concurrent workers.\n",
      "[Parallel(n_jobs=1)]: Done   3 out of   3 | elapsed:    0.0s finished\n",
      "Features: 2/1[Parallel(n_jobs=1)]: Using backend SequentialBackend with 1 concurrent workers.\n",
      "[Parallel(n_jobs=1)]: Done   2 out of   2 | elapsed:    0.0s finished\n",
      "Features: 1/1"
     ]
    },
    {
     "data": {
      "text/plain": [
       "['Month',\n",
       " 'Day',\n",
       " 'Dew Point avg (°C)',\n",
       " 'Visibility\\xa0(km) avg',\n",
       " 'unemployment rate',\n",
       " 'CommercialBankInterestRateonCreditCardPlans',\n",
       " 'Change(in%)',\n",
       " 'Average upland planted(million acres)',\n",
       " 'Production (in  480-lb netweright in million bales)',\n",
       " 'Mill use  (in  480-lb netweright in million bales)',\n",
       " 'Exports',\n",
       " 'ProductCategory_MenClothing',\n",
       " 'ProductCategory_OtherClothing',\n",
       " 'ProductCategory_WomenClothing']"
      ]
     },
     "execution_count": 422,
     "metadata": {},
     "output_type": "execute_result"
    }
   ],
   "source": [
    "sfs = SequentialFeatureSelector(estimator=LinearRegression(),k_features='best',forward=False, scoring='neg_mean_squared_error',cv=kf,verbose=True)\n",
    "sfs_select_b_lr = sfs.fit(X,y)\n",
    "sfs_backward_features = list(sfs_select_b_lr.k_feature_names_)\n",
    "sfs_backward_features"
   ]
  },
  {
   "cell_type": "code",
   "execution_count": 427,
   "id": "respiratory-valentine",
   "metadata": {},
   "outputs": [
    {
     "data": {
      "text/plain": [
       "['Year',\n",
       " 'Month',\n",
       " 'Event',\n",
       " 'Day',\n",
       " 'Temp avg (°C)',\n",
       " 'Visibility\\xa0(km) avg',\n",
       " 'CPI',\n",
       " 'unemployment rate',\n",
       " 'CommercialBankInterestRateonCreditCardPlans',\n",
       " 'Finance Rate on Personal Loans at Commercial Banks, 24 Month Loan',\n",
       " 'Earnings or wages  in dollars per hour',\n",
       " 'Average upland planted(million acres)',\n",
       " 'Average upland harvested(million acres)',\n",
       " 'Production (in  480-lb netweright in million bales)',\n",
       " 'Mill use  (in  480-lb netweright in million bales)',\n",
       " 'Exports',\n",
       " 'ProductCategory_MenClothing',\n",
       " 'ProductCategory_OtherClothing',\n",
       " 'ProductCategory_WomenClothing']"
      ]
     },
     "execution_count": 427,
     "metadata": {},
     "output_type": "execute_result"
    }
   ],
   "source": [
    "rfe_lr = RFECV(estimator=LinearRegression() ,cv= kf, scoring='neg_mean_squared_error')\n",
    "refe_lr_select = rfe_lr.fit(X,y)\n",
    "rfe=pd.DataFrame()\n",
    "rfe['Features'] = X.columns\n",
    "rfe['Rank'] = refe_lr_select.ranking_\n",
    "rfe_lr_features = list(rfe[rfe['Rank']==1]['Features'])\n",
    "rfe_lr_features"
   ]
  },
  {
   "cell_type": "code",
   "execution_count": 468,
   "id": "consecutive-gabriel",
   "metadata": {},
   "outputs": [
    {
     "name": "stdout",
     "output_type": "stream",
     "text": [
      "Average Train R2    0.9114374704824538\n",
      "Average Train RMSE  331.67101656337485\n",
      "--------------------------------------------------\n",
      "Average Test R2    0.23994235740581718\n",
      "Average Test RMSE  416.8582491546379\n"
     ]
    }
   ],
   "source": [
    "lr = LinearRegression()\n",
    "lr_model = lr.fit(xtrain[sfs_forward_features],ytrain)\n",
    "\n",
    "kf = KFold(n_splits=10,shuffle=True,random_state=10)\n",
    "trainRMSEscore = cross_val_score(estimator=lr, X=xtrain[sfs_forward_features], y=ytrain, scoring='neg_mean_squared_error', cv=kf)\n",
    "trainr2score = cross_val_score(estimator=lr, X=xtrain[sfs_forward_features], y=ytrain, scoring='r2', cv=kf)\n",
    "\n",
    "print(\"Average Train R2   \",np.mean(trainr2score))\n",
    "print(\"Average Train RMSE \",np.mean(np.sqrt(abs(trainRMSEscore))))\n",
    "print(\"-\"*50)\n",
    "testRMSEscore = cross_val_score(estimator=lr, X=xtest[sfs_forward_features], y=ytest, scoring='neg_mean_squared_error', cv=kf)\n",
    "testr2score = cross_val_score(estimator=lr, X=xtest[sfs_forward_features], y=ytest, scoring='r2', cv=kf)\n",
    "\n",
    "print(\"Average Test R2   \",np.mean(testr2score))\n",
    "print(\"Average Test RMSE \",np.mean(np.sqrt(abs(testRMSEscore))))"
   ]
  },
  {
   "cell_type": "code",
   "execution_count": 462,
   "id": "requested-brick",
   "metadata": {},
   "outputs": [
    {
     "name": "stdout",
     "output_type": "stream",
     "text": [
      "Average Train R2    0.890235478511182\n",
      "Average Train RMSE  327.1259074988886\n",
      "--------------------------------------------------\n",
      "Average Test R2    0.677350867008167\n",
      "Average Test RMSE  279.99686068864474\n"
     ]
    }
   ],
   "source": [
    "dt = DecisionTreeRegressor(max_depth=12)\n",
    "dt_model = dt.fit(xtrain,ytrain)\n",
    "\n",
    "kf = KFold(n_splits=10,shuffle=True,random_state=10)\n",
    "trainRMSEscore = cross_val_score(estimator=dt, X=xtrain[rfe_lr_features], y=ytrain, scoring='neg_mean_squared_error', cv=kf)\n",
    "trainr2score = cross_val_score(estimator=dt, X=xtrain[rfe_lr_features], y=ytrain, scoring='r2', cv=kf)\n",
    "\n",
    "print(\"Average Train R2   \",np.mean(trainr2score))\n",
    "print(\"Average Train RMSE \",np.mean(np.sqrt(abs(trainRMSEscore))))\n",
    "print(\"-\"*50)\n",
    "testRMSEscore = cross_val_score(estimator=dt, X=xtest[rfe_lr_features], y=ytest, scoring='neg_mean_squared_error', cv=kf)\n",
    "testr2score = cross_val_score(estimator=dt, X=xtest[rfe_lr_features], y=ytest, scoring='r2', cv=kf)\n",
    "\n",
    "print(\"Average Test R2   \",np.mean(testr2score))\n",
    "print(\"Average Test RMSE \",np.mean(np.sqrt(abs(testRMSEscore))))"
   ]
  },
  {
   "cell_type": "code",
   "execution_count": 466,
   "id": "rural-cornwall",
   "metadata": {},
   "outputs": [],
   "source": [
    "te = pd.DataFrame()\n",
    "te['Year'] = np.arange(1,37)\n",
    "te['Sales(In ThousandDollars)'] = dt_model.predict(s14)\n",
    "te.to_csv(\"basic_model_4.csv\",index=False)"
   ]
  },
  {
   "cell_type": "code",
   "execution_count": 482,
   "id": "protected-agency",
   "metadata": {},
   "outputs": [
    {
     "name": "stdout",
     "output_type": "stream",
     "text": [
      "Average Train R2    0.9338633690263466\n",
      "Average Train RMSE  254.2502386472554\n",
      "--------------------------------------------------\n",
      "Average Test R2    0.686727522768181\n",
      "Average Test RMSE  498.7283382358172\n"
     ]
    }
   ],
   "source": [
    "# Extremely high variation in Model...not recommended\n",
    "\n",
    "\n",
    "dt = DecisionTreeRegressor(max_depth=12,random_state=None)\n",
    "#dt_model = dt.fit(xtrain,ytrain)\n",
    "\n",
    "kf = KFold(n_splits=10,shuffle=True,random_state=10)\n",
    "trainRMSEscore = cross_val_score(estimator=dt, X=xtrain[sfs_forward_features], y=ytrain, scoring='neg_mean_squared_error', cv=kf)\n",
    "trainr2score = cross_val_score(estimator=dt, X=xtrain[sfs_forward_features], y=ytrain, scoring='r2', cv=kf)\n",
    "\n",
    "print(\"Average Train R2   \",np.mean(trainr2score))\n",
    "print(\"Average Train RMSE \",np.mean(np.sqrt(abs(trainRMSEscore))))\n",
    "print(\"-\"*50)\n",
    "testRMSEscore = cross_val_score(estimator=dt, X=xtest[sfs_forward_features], y=ytest, scoring='neg_mean_squared_error', cv=kf)\n",
    "testr2score = cross_val_score(estimator=dt, X=xtest[sfs_forward_features], y=ytest, scoring='r2', cv=kf)\n",
    "\n",
    "print(\"Average Test R2   \",np.mean(testr2score))\n",
    "print(\"Average Test RMSE \",np.mean(np.sqrt(abs(testRMSEscore))))"
   ]
  },
  {
   "cell_type": "code",
   "execution_count": 485,
   "id": "hearing-bulgaria",
   "metadata": {},
   "outputs": [
    {
     "name": "stdout",
     "output_type": "stream",
     "text": [
      "Average Train R2    0.9586191132703628\n",
      "Average Train RMSE  223.22322475509282\n",
      "--------------------------------------------------\n",
      "Average Test R2    0.6714463365522131\n",
      "Average Test RMSE  378.8658444540291\n"
     ]
    }
   ],
   "source": [
    "# Good for tunning\n",
    "\n",
    "rf = RandomForestRegressor(n_estimators=300)\n",
    "rf_model = rf.fit(xtrain,ytrain)\n",
    "\n",
    "kf = KFold(n_splits=10,shuffle=True,random_state=10)\n",
    "trainRMSEscore = cross_val_score(estimator=rf, X=xtrain[sfs_forward_features], y=ytrain, scoring='neg_mean_squared_error', cv=kf)\n",
    "trainr2score = cross_val_score(estimator=rf, X=xtrain[sfs_forward_features], y=ytrain, scoring='r2', cv=kf)\n",
    "\n",
    "print(\"Average Train R2   \",np.mean(trainr2score))\n",
    "print(\"Average Train RMSE \",np.mean(np.sqrt(abs(trainRMSEscore))))\n",
    "print(\"-\"*50)\n",
    "testRMSEscore = cross_val_score(estimator=rf, X=xtest[sfs_forward_features], y=ytest, scoring='neg_mean_squared_error', cv=kf)\n",
    "testr2score = cross_val_score(estimator=rf, X=xtest[sfs_forward_features], y=ytest, scoring='r2', cv=kf)\n",
    "\n",
    "print(\"Average Test R2   \",np.mean(testr2score))\n",
    "print(\"Average Test RMSE \",np.mean(np.sqrt(abs(testRMSEscore))))"
   ]
  },
  {
   "cell_type": "code",
   "execution_count": 580,
   "id": "convenient-berry",
   "metadata": {},
   "outputs": [
    {
     "name": "stdout",
     "output_type": "stream",
     "text": [
      "Average Train R2    0.9775376607278712\n",
      "Average Train RMSE  165.0665791033016\n",
      "--------------------------------------------------\n",
      "Average Test R2    0.8369557956424627\n",
      "Average Test RMSE  302.12622160143775\n"
     ]
    }
   ],
   "source": [
    "#GoOD  Model further for tunning\n",
    "\n",
    "gb = GradientBoostingRegressor(n_estimators=300,random_state=10)\n",
    "gb_model = gb.fit(xtrain[rfe_lr_features],ytrain)\n",
    "\n",
    "kf = KFold(n_splits=10,shuffle=True,random_state=10)\n",
    "trainRMSEscore = cross_val_score(estimator=gb, X=xtrain[sfs_backward_features_gb], y=ytrain, scoring='neg_mean_squared_error', cv=kf)\n",
    "trainr2score = cross_val_score(estimator=gb, X=xtrain[sfs_backward_features_gb], y=ytrain, scoring='r2', cv=kf)\n",
    "\n",
    "print(\"Average Train R2   \",np.mean(trainr2score))\n",
    "print(\"Average Train RMSE \",np.mean(np.sqrt(abs(trainRMSEscore))))\n",
    "print(\"-\"*50)\n",
    "testRMSEscore = cross_val_score(estimator=gb, X=xtest[sfs_backward_features_gb], y=ytest, scoring='neg_mean_squared_error', cv=kf)\n",
    "testr2score = cross_val_score(estimator=gb, X=xtest[sfs_backward_features_gb], y=ytest, scoring='r2', cv=kf)\n",
    "\n",
    "print(\"Average Test R2   \",np.mean(testr2score))\n",
    "print(\"Average Test RMSE \",np.mean(np.sqrt(abs(testRMSEscore))))"
   ]
  },
  {
   "cell_type": "code",
   "execution_count": 568,
   "id": "concerned-official",
   "metadata": {},
   "outputs": [
    {
     "data": {
      "text/plain": [
       "array([2894.72932436,  604.05594405, 1090.28373264, 3185.01521052,\n",
       "        656.00197765, 1102.62599412, 3704.01626719,  650.56558417,\n",
       "       1160.71382378, 3813.88624234,  716.43662957, 1153.23613783,\n",
       "       3809.85039614,  712.72633904, 1165.9137764 , 3625.92436506,\n",
       "        737.15620544, 1149.79526451, 3559.96235165,  701.39277964,\n",
       "       1132.68813432, 3486.05259017,  620.70868476, 1050.97485727,\n",
       "       3468.887613  ,  676.51634614, 1022.11256663, 3628.31073021,\n",
       "        718.38184176, 1032.5057884 , 3808.0551533 ,  750.89958697,\n",
       "       1159.49682833, 4836.19740332, 1081.12404133, 1418.42479321])"
      ]
     },
     "execution_count": 568,
     "metadata": {},
     "output_type": "execute_result"
    }
   ],
   "source": [
    "gb_model.predict(s14[rfe_lr_features])"
   ]
  },
  {
   "cell_type": "code",
   "execution_count": 569,
   "id": "informative-korean",
   "metadata": {},
   "outputs": [],
   "source": [
    "te = pd.DataFrame()\n",
    "te['Year'] = np.arange(1,37)\n",
    "te['Sales(In ThousandDollars)'] = gb_model.predict(s14[rfe_lr_features])\n",
    "te.to_csv(\"basic_model_7.csv\",index=False)"
   ]
  },
  {
   "cell_type": "code",
   "execution_count": 570,
   "id": "invisible-receptor",
   "metadata": {},
   "outputs": [
    {
     "name": "stdout",
     "output_type": "stream",
     "text": [
      "Average Train R2    0.9684141603874155\n",
      "Average Train RMSE  194.3454497546829\n",
      "--------------------------------------------------\n",
      "Average Test R2    0.8835440217851265\n",
      "Average Test RMSE  261.09724659316436\n"
     ]
    }
   ],
   "source": [
    "#Good model ----Further for tunning\n",
    "\n",
    "\n",
    "gb = GradientBoostingRegressor(n_estimators=300,random_state=10)\n",
    "gb_model = gb.fit(xtrain[sfs_backward_features],ytrain)\n",
    "\n",
    "kf = KFold(n_splits=10,shuffle=True,random_state=10)\n",
    "trainRMSEscore = cross_val_score(estimator=gb, X=xtrain[sfs_backward_features], y=ytrain, scoring='neg_mean_squared_error', cv=kf)\n",
    "trainr2score = cross_val_score(estimator=gb, X=xtrain[sfs_backward_features], y=ytrain, scoring='r2', cv=kf)\n",
    "\n",
    "print(\"Average Train R2   \",np.mean(trainr2score))\n",
    "print(\"Average Train RMSE \",np.mean(np.sqrt(abs(trainRMSEscore))))\n",
    "print(\"-\"*50)\n",
    "testRMSEscore = cross_val_score(estimator=gb, X=xtest[sfs_backward_features], y=ytest, scoring='neg_mean_squared_error', cv=kf)\n",
    "testr2score = cross_val_score(estimator=gb, X=xtest[sfs_backward_features], y=ytest, scoring='r2', cv=kf)\n",
    "\n",
    "print(\"Average Test R2   \",np.mean(testr2score))\n",
    "print(\"Average Test RMSE \",np.mean(np.sqrt(abs(testRMSEscore))))"
   ]
  },
  {
   "cell_type": "code",
   "execution_count": 576,
   "id": "fiscal-steering",
   "metadata": {},
   "outputs": [
    {
     "data": {
      "text/plain": [
       "array([2776.47193201,  606.26122741, 1141.43237837, 3072.75708162,\n",
       "        623.70764927, 1150.89717404, 3677.43803836,  700.54503168,\n",
       "       1241.31689461, 3780.08033847,  728.84449733, 1213.17543783,\n",
       "       3747.70035669,  739.21535942, 1159.15358849, 3672.79782319,\n",
       "        765.85574475, 1252.79912775, 3543.52055085,  715.33948465,\n",
       "       1182.35598093, 3682.9431288 ,  776.67634791, 1287.96924571,\n",
       "       3726.61488822,  771.10031815, 1166.72305393, 3704.18310276,\n",
       "        789.30958458, 1145.48967241, 3866.4959041 ,  833.26969991,\n",
       "       1253.31778163, 4868.29940648, 1089.02688078, 1599.69057733])"
      ]
     },
     "execution_count": 576,
     "metadata": {},
     "output_type": "execute_result"
    }
   ],
   "source": [
    "gb_model.predict(s14[sfs_backward_features])"
   ]
  },
  {
   "cell_type": "code",
   "execution_count": 572,
   "id": "meaningful-festival",
   "metadata": {},
   "outputs": [],
   "source": [
    "te = pd.DataFrame()\n",
    "te['Year'] = np.arange(1,37)\n",
    "te['Sales(In ThousandDollars)'] = gb_model.predict(s14[sfs_backward_features])\n",
    "te.to_csv(\"basic_model_5.csv\",index=False)\n",
    "\n",
    "\n",
    "#KAGGLE\n",
    "#just now\n",
    "#1 seconds\n",
    "#1 seconds\n",
    "#295.1187"
   ]
  },
  {
   "cell_type": "code",
   "execution_count": 577,
   "id": "revised-offering",
   "metadata": {},
   "outputs": [
    {
     "name": "stdout",
     "output_type": "stream",
     "text": [
      "Average Train R2    0.9673152276338713\n",
      "Average Train RMSE  190.91719240219365\n",
      "--------------------------------------------------\n",
      "Average Test R2    0.8384639486834791\n",
      "Average Test RMSE  280.31779365047333\n"
     ]
    }
   ],
   "source": [
    "gb = GradientBoostingRegressor(n_estimators=300,random_state=10)\n",
    "gb_model = gb.fit(xtrain[manual_features],ytrain)\n",
    "\n",
    "kf = KFold(n_splits=10,shuffle=True,random_state=10)\n",
    "trainRMSEscore = cross_val_score(estimator=gb, X=xtrain[manual_features], y=ytrain, scoring='neg_mean_squared_error', cv=kf)\n",
    "trainr2score = cross_val_score(estimator=gb, X=xtrain[manual_features], y=ytrain, scoring='r2', cv=kf)\n",
    "\n",
    "print(\"Average Train R2   \",np.mean(trainr2score))\n",
    "print(\"Average Train RMSE \",np.mean(np.sqrt(abs(trainRMSEscore))))\n",
    "print(\"-\"*50)\n",
    "testRMSEscore = cross_val_score(estimator=gb, X=xtest[manual_features], y=ytest, scoring='neg_mean_squared_error', cv=kf)\n",
    "testr2score = cross_val_score(estimator=gb, X=xtest[manual_features], y=ytest, scoring='r2', cv=kf)\n",
    "\n",
    "print(\"Average Test R2   \",np.mean(testr2score))\n",
    "print(\"Average Test RMSE \",np.mean(np.sqrt(abs(testRMSEscore))))"
   ]
  },
  {
   "cell_type": "code",
   "execution_count": 578,
   "id": "spatial-daily",
   "metadata": {},
   "outputs": [
    {
     "data": {
      "text/plain": [
       "array([2787.55426291,  598.02952805, 1052.94533624, 3132.82614057,\n",
       "        630.50202041, 1067.0019648 , 3675.58640921,  649.67095536,\n",
       "       1132.30519228, 4014.5398987 ,  827.0711982 , 1232.56501361,\n",
       "       3935.78375431,  847.42174965, 1254.21218024, 3598.25673848,\n",
       "        703.14693461, 1140.66173512, 3557.25294827,  652.40380366,\n",
       "       1094.14159403, 3426.23956693,  661.44362988, 1016.90827531,\n",
       "       3532.79838905,  663.5827154 ,  986.22908577, 3668.9531351 ,\n",
       "        718.90346926, 1018.89586574, 3796.88005076,  751.42591773,\n",
       "       1132.12179549, 4840.78754453, 1078.96205277, 1456.71155283])"
      ]
     },
     "execution_count": 578,
     "metadata": {},
     "output_type": "execute_result"
    }
   ],
   "source": [
    "gb_model.predict(s14[manual_features])"
   ]
  },
  {
   "cell_type": "code",
   "execution_count": 579,
   "id": "korean-situation",
   "metadata": {},
   "outputs": [],
   "source": [
    "te = pd.DataFrame()\n",
    "te['Year'] = np.arange(1,37)\n",
    "te['Sales(In ThousandDollars)'] = gb_model.predict(s14[manual_features])\n",
    "te.to_csv(\"basic_model_6.csv\",index=False)\n",
    "\n",
    "#KAGGLE\n",
    "#297.32912"
   ]
  },
  {
   "cell_type": "code",
   "execution_count": 721,
   "id": "incident-efficiency",
   "metadata": {},
   "outputs": [
    {
     "name": "stdout",
     "output_type": "stream",
     "text": [
      "Average Train R2    0.9522049725294593\n",
      "Average Train RMSE  209.46234088053524\n",
      "--------------------------------------------------\n",
      "Average Test R2    0.8266214956177684\n",
      "Average Test RMSE  329.6706105049997\n"
     ]
    }
   ],
   "source": [
    "gb = GradientBoostingRegressor(n_estimators=30,learning_rate=0.19,min_samples_leaf=1)\n",
    "gb_model = gb.fit(xtrain,ytrain)\n",
    "\n",
    "kf = KFold(n_splits=10,shuffle=True,random_state=10)\n",
    "trainRMSEscore = cross_val_score(estimator=gb, X=xtrain, y=ytrain, scoring='neg_mean_squared_error', cv=kf)\n",
    "trainr2score = cross_val_score(estimator=gb, X=xtrain, y=ytrain, scoring='r2', cv=kf)\n",
    "\n",
    "print(\"Average Train R2   \",np.mean(trainr2score))\n",
    "print(\"Average Train RMSE \",np.mean(np.sqrt(abs(trainRMSEscore))))\n",
    "print(\"-\"*50)\n",
    "testRMSEscore = cross_val_score(estimator=gb, X=xtest, y=ytest, scoring='neg_mean_squared_error', cv=kf)\n",
    "testr2score = cross_val_score(estimator=gb, X=xtest, y=ytest, scoring='r2', cv=kf)\n",
    "\n",
    "print(\"Average Test R2   \",np.mean(testr2score))\n",
    "print(\"Average Test RMSE \",np.mean(np.sqrt(abs(testRMSEscore))))"
   ]
  },
  {
   "cell_type": "code",
   "execution_count": 841,
   "id": "excited-prisoner",
   "metadata": {},
   "outputs": [
    {
     "name": "stdout",
     "output_type": "stream",
     "text": [
      "Average Train R2    0.9719304728155926\n",
      "Average Train RMSE  183.42409999143985\n",
      "--------------------------------------------------\n",
      "Average Test R2    0.9073242115646012\n",
      "Average Test RMSE  240.6054477455603\n"
     ]
    }
   ],
   "source": [
    "#br = BaggingRegressor(base_estimator=GradientBoostingRegressor(n_estimators=30,random_state=10,learning_rate=0.19,min_samples_leaf=1),n_estimators=30)\n",
    "gb=GradientBoostingRegressor(criterion= 'friedman_mse',max_depth= 2,min_samples_split= 3,n_estimators= 200, \n",
    "                                 learning_rate=0.19,random_state=208)\n",
    "\n",
    "kf = KFold(n_splits=10,shuffle=True,random_state=10)\n",
    "trainRMSEscore = cross_val_score(estimator=gb, X=xtrain[sfs_backward_features], y=ytrain, scoring='neg_mean_squared_error', cv=kf)\n",
    "trainr2score = cross_val_score(estimator=gb, X=xtrain[sfs_backward_features], y=ytrain, scoring='r2', cv=kf)\n",
    "\n",
    "print(\"Average Train R2   \",np.mean(trainr2score))\n",
    "print(\"Average Train RMSE \",np.mean(np.sqrt(abs(trainRMSEscore))))\n",
    "print(\"-\"*50)\n",
    "testRMSEscore = cross_val_score(estimator=gb, X=xtest[sfs_backward_features], y=ytest, scoring='neg_mean_squared_error', cv=kf)\n",
    "testr2score = cross_val_score(estimator=gb, X=xtest[sfs_backward_features], y=ytest, scoring='r2', cv=kf)\n",
    "\n",
    "print(\"Average Test R2   \",np.mean(testr2score))\n",
    "print(\"Average Test RMSE \",np.mean(np.sqrt(abs(testRMSEscore))))"
   ]
  },
  {
   "cell_type": "code",
   "execution_count": 759,
   "id": "buried-value",
   "metadata": {},
   "outputs": [
    {
     "data": {
      "text/plain": [
       "array([  99.92190293,  239.52811375, 1317.46664982,   91.64570779,\n",
       "        118.32513011,   22.98637074,  157.91024387,   80.39542821,\n",
       "         50.82231684,  158.3277292 ,   32.32427886,   47.6699143 ,\n",
       "         77.65194155, 1150.3540229 ,  405.95730103,  117.16127706,\n",
       "         99.71062805,   77.67122832,   81.52753374,  199.03676047])"
      ]
     },
     "execution_count": 759,
     "metadata": {},
     "output_type": "execute_result"
    }
   ],
   "source": [
    "np.sqrt(abs(testRMSEscore))"
   ]
  },
  {
   "cell_type": "markdown",
   "id": "forbidden-occasion",
   "metadata": {},
   "source": [
    "# Grid Search CV"
   ]
  },
  {
   "cell_type": "markdown",
   "id": "attractive-cycle",
   "metadata": {},
   "source": [
    "## Random Forest"
   ]
  },
  {
   "cell_type": "code",
   "execution_count": 692,
   "id": "signed-korea",
   "metadata": {},
   "outputs": [
    {
     "name": "stdout",
     "output_type": "stream",
     "text": [
      "Fitting 10 folds for each of 216 candidates, totalling 2160 fits\n"
     ]
    },
    {
     "data": {
      "text/plain": [
       "GridSearchCV(cv=KFold(n_splits=10, random_state=10, shuffle=True),\n",
       "             estimator=RandomForestRegressor(),\n",
       "             param_grid={'criterion': ['mse'],\n",
       "                         'max_depth': [2, 4, 6, 8, 10, 12, 13, 14, 15],\n",
       "                         'min_samples_split': [2, 3, 4, 5, 6, 7],\n",
       "                         'n_estimators': [50, 100, 150, 200]},\n",
       "             scoring='neg_mean_squared_error', verbose=1)"
      ]
     },
     "execution_count": 692,
     "metadata": {},
     "output_type": "execute_result"
    }
   ],
   "source": [
    "param_grid = {'criterion':['mse'],'max_depth':[2,4,6,8,10,12,13,14,15],'min_samples_split':[2,3,4,5,6,7],\n",
    "             'n_estimators':[50,100,150,200]}\n",
    "kf = KFold(n_splits=10,shuffle=True,random_state=10)\n",
    "searchrf = GridSearchCV(estimator=RandomForestRegressor(),param_grid=param_grid, scoring='neg_mean_squared_error', cv=kf, verbose=1)\n",
    "searchrf.fit(xtrain,ytrain)"
   ]
  },
  {
   "cell_type": "code",
   "execution_count": 693,
   "id": "realistic-terminal",
   "metadata": {},
   "outputs": [
    {
     "data": {
      "text/plain": [
       "{'criterion': 'mse',\n",
       " 'max_depth': 8,\n",
       " 'min_samples_split': 4,\n",
       " 'n_estimators': 150}"
      ]
     },
     "execution_count": 693,
     "metadata": {},
     "output_type": "execute_result"
    }
   ],
   "source": [
    "searchrf.best_params_"
   ]
  },
  {
   "cell_type": "code",
   "execution_count": 694,
   "id": "frequent-bryan",
   "metadata": {},
   "outputs": [
    {
     "name": "stdout",
     "output_type": "stream",
     "text": [
      "Average Train R2    0.9380133570861234\n",
      "Average Train RMSE  265.58767237855074\n",
      "--------------------------------------------------\n",
      "Average Test R2    0.6024818252589288\n",
      "Average Test RMSE  385.81737824299887\n"
     ]
    }
   ],
   "source": [
    "rf_tuned = RandomForestRegressor(criterion= 'mse',max_depth= 8,min_samples_split= 4,n_estimators= 150)\n",
    "rf_tuned_model = rf.fit(xtrain,ytrain)\n",
    "\n",
    "kf = KFold(n_splits=10,shuffle=True,random_state=10)\n",
    "trainRMSEscore = cross_val_score(estimator=rf_tuned, X=xtrain, y=ytrain, scoring='neg_mean_squared_error', cv=kf)\n",
    "trainr2score = cross_val_score(estimator=rf_tuned, X=xtrain, y=ytrain, scoring='r2', cv=kf)\n",
    "\n",
    "print(\"Average Train R2   \",np.mean(trainr2score))\n",
    "print(\"Average Train RMSE \",np.mean(np.sqrt(abs(trainRMSEscore))))\n",
    "print(\"-\"*50)\n",
    "testRMSEscore = cross_val_score(estimator=rf_tuned, X=xtest, y=ytest, scoring='neg_mean_squared_error', cv=kf)\n",
    "testr2score = cross_val_score(estimator=rf_tuned, X=xtest, y=ytest, scoring='r2', cv=kf)\n",
    "\n",
    "print(\"Average Test R2   \",np.mean(testr2score))\n",
    "print(\"Average Test RMSE \",np.mean(np.sqrt(abs(testRMSEscore))))"
   ]
  },
  {
   "cell_type": "code",
   "execution_count": null,
   "id": "equal-party",
   "metadata": {},
   "outputs": [],
   "source": []
  },
  {
   "cell_type": "markdown",
   "id": "fallen-family",
   "metadata": {},
   "source": [
    "## Gradient Boost"
   ]
  },
  {
   "cell_type": "code",
   "execution_count": null,
   "id": "lightweight-samuel",
   "metadata": {},
   "outputs": [],
   "source": [
    "# {'criterion': 'friedman_mse',\n",
    "#  'max_depth': 2,\n",
    "#  'min_samples_split': 3,\n",
    "#  'n_estimators': 200}"
   ]
  },
  {
   "cell_type": "code",
   "execution_count": null,
   "id": "unable-making",
   "metadata": {},
   "outputs": [],
   "source": [
    "param_grid = {'criterion':['mse','friedman_mse'],'n_estimators':[100,150,200,250,300],\n",
    "              'max_depth':[2,3,4,5,10],'min_samples_split':[2,3,4,5],'learning_rate':np.arange(0.1,0.3,0.01),\n",
    "             'min_samples_leaf':[1,2,3]}\n",
    "kf = KFold(n_splits=10,shuffle=True,random_state=10)\n",
    "searchgb = GridSearchCV(estimator=GradientBoostingRegressor(),param_grid=param_grid, scoring='neg_mean_squared_error', cv=kf, verbose=True)\n",
    "searchgb.fit(xtrain,ytrain)\n",
    "searchgb.best_params_"
   ]
  },
  {
   "cell_type": "code",
   "execution_count": 916,
   "id": "twenty-pleasure",
   "metadata": {},
   "outputs": [
    {
     "name": "stdout",
     "output_type": "stream",
     "text": [
      "Fitting 10 folds for each of 4000 candidates, totalling 40000 fits\n"
     ]
    },
    {
     "ename": "KeyboardInterrupt",
     "evalue": "",
     "output_type": "error",
     "traceback": [
      "\u001b[1;31m---------------------------------------------------------------------------\u001b[0m",
      "\u001b[1;31mKeyboardInterrupt\u001b[0m                         Traceback (most recent call last)",
      "\u001b[1;32m<ipython-input-916-bcb3b67caa11>\u001b[0m in \u001b[0;36m<module>\u001b[1;34m()\u001b[0m\n\u001b[0;32m      3\u001b[0m \u001b[0mkf\u001b[0m \u001b[1;33m=\u001b[0m \u001b[0mKFold\u001b[0m\u001b[1;33m(\u001b[0m\u001b[0mn_splits\u001b[0m\u001b[1;33m=\u001b[0m\u001b[1;36m10\u001b[0m\u001b[1;33m,\u001b[0m\u001b[0mshuffle\u001b[0m\u001b[1;33m=\u001b[0m\u001b[1;32mTrue\u001b[0m\u001b[1;33m,\u001b[0m\u001b[0mrandom_state\u001b[0m\u001b[1;33m=\u001b[0m\u001b[1;36m10\u001b[0m\u001b[1;33m)\u001b[0m\u001b[1;33m\u001b[0m\u001b[1;33m\u001b[0m\u001b[0m\n\u001b[0;32m      4\u001b[0m \u001b[0msearchgb\u001b[0m \u001b[1;33m=\u001b[0m \u001b[0mGridSearchCV\u001b[0m\u001b[1;33m(\u001b[0m\u001b[0mestimator\u001b[0m\u001b[1;33m=\u001b[0m\u001b[0mGradientBoostingRegressor\u001b[0m\u001b[1;33m(\u001b[0m\u001b[1;33m)\u001b[0m\u001b[1;33m,\u001b[0m\u001b[0mparam_grid\u001b[0m\u001b[1;33m=\u001b[0m\u001b[0mparam_grid\u001b[0m\u001b[1;33m,\u001b[0m \u001b[0mscoring\u001b[0m\u001b[1;33m=\u001b[0m\u001b[1;34m'neg_mean_squared_error'\u001b[0m\u001b[1;33m,\u001b[0m \u001b[0mcv\u001b[0m\u001b[1;33m=\u001b[0m\u001b[0mkf\u001b[0m\u001b[1;33m,\u001b[0m \u001b[0mverbose\u001b[0m\u001b[1;33m=\u001b[0m\u001b[1;32mTrue\u001b[0m\u001b[1;33m)\u001b[0m\u001b[1;33m\u001b[0m\u001b[1;33m\u001b[0m\u001b[0m\n\u001b[1;32m----> 5\u001b[1;33m \u001b[0msearchgb\u001b[0m\u001b[1;33m.\u001b[0m\u001b[0mfit\u001b[0m\u001b[1;33m(\u001b[0m\u001b[0mxtrain\u001b[0m\u001b[1;33m,\u001b[0m\u001b[0mytrain\u001b[0m\u001b[1;33m)\u001b[0m\u001b[1;33m\u001b[0m\u001b[1;33m\u001b[0m\u001b[0m\n\u001b[0m\u001b[0;32m      6\u001b[0m \u001b[0msearchgb\u001b[0m\u001b[1;33m.\u001b[0m\u001b[0mbest_params_\u001b[0m\u001b[1;33m\u001b[0m\u001b[1;33m\u001b[0m\u001b[0m\n",
      "\u001b[1;32mE:\\Anaconda\\lib\\site-packages\\sklearn\\utils\\validation.py\u001b[0m in \u001b[0;36minner_f\u001b[1;34m(*args, **kwargs)\u001b[0m\n\u001b[0;32m     61\u001b[0m             \u001b[0mextra_args\u001b[0m \u001b[1;33m=\u001b[0m \u001b[0mlen\u001b[0m\u001b[1;33m(\u001b[0m\u001b[0margs\u001b[0m\u001b[1;33m)\u001b[0m \u001b[1;33m-\u001b[0m \u001b[0mlen\u001b[0m\u001b[1;33m(\u001b[0m\u001b[0mall_args\u001b[0m\u001b[1;33m)\u001b[0m\u001b[1;33m\u001b[0m\u001b[1;33m\u001b[0m\u001b[0m\n\u001b[0;32m     62\u001b[0m             \u001b[1;32mif\u001b[0m \u001b[0mextra_args\u001b[0m \u001b[1;33m<=\u001b[0m \u001b[1;36m0\u001b[0m\u001b[1;33m:\u001b[0m\u001b[1;33m\u001b[0m\u001b[1;33m\u001b[0m\u001b[0m\n\u001b[1;32m---> 63\u001b[1;33m                 \u001b[1;32mreturn\u001b[0m \u001b[0mf\u001b[0m\u001b[1;33m(\u001b[0m\u001b[1;33m*\u001b[0m\u001b[0margs\u001b[0m\u001b[1;33m,\u001b[0m \u001b[1;33m**\u001b[0m\u001b[0mkwargs\u001b[0m\u001b[1;33m)\u001b[0m\u001b[1;33m\u001b[0m\u001b[1;33m\u001b[0m\u001b[0m\n\u001b[0m\u001b[0;32m     64\u001b[0m \u001b[1;33m\u001b[0m\u001b[0m\n\u001b[0;32m     65\u001b[0m             \u001b[1;31m# extra_args > 0\u001b[0m\u001b[1;33m\u001b[0m\u001b[1;33m\u001b[0m\u001b[1;33m\u001b[0m\u001b[0m\n",
      "\u001b[1;32mE:\\Anaconda\\lib\\site-packages\\sklearn\\model_selection\\_search.py\u001b[0m in \u001b[0;36mfit\u001b[1;34m(self, X, y, groups, **fit_params)\u001b[0m\n\u001b[0;32m    839\u001b[0m                 \u001b[1;32mreturn\u001b[0m \u001b[0mresults\u001b[0m\u001b[1;33m\u001b[0m\u001b[1;33m\u001b[0m\u001b[0m\n\u001b[0;32m    840\u001b[0m \u001b[1;33m\u001b[0m\u001b[0m\n\u001b[1;32m--> 841\u001b[1;33m             \u001b[0mself\u001b[0m\u001b[1;33m.\u001b[0m\u001b[0m_run_search\u001b[0m\u001b[1;33m(\u001b[0m\u001b[0mevaluate_candidates\u001b[0m\u001b[1;33m)\u001b[0m\u001b[1;33m\u001b[0m\u001b[1;33m\u001b[0m\u001b[0m\n\u001b[0m\u001b[0;32m    842\u001b[0m \u001b[1;33m\u001b[0m\u001b[0m\n\u001b[0;32m    843\u001b[0m             \u001b[1;31m# multimetric is determined here because in the case of a callable\u001b[0m\u001b[1;33m\u001b[0m\u001b[1;33m\u001b[0m\u001b[1;33m\u001b[0m\u001b[0m\n",
      "\u001b[1;32mE:\\Anaconda\\lib\\site-packages\\sklearn\\model_selection\\_search.py\u001b[0m in \u001b[0;36m_run_search\u001b[1;34m(self, evaluate_candidates)\u001b[0m\n\u001b[0;32m   1294\u001b[0m     \u001b[1;32mdef\u001b[0m \u001b[0m_run_search\u001b[0m\u001b[1;33m(\u001b[0m\u001b[0mself\u001b[0m\u001b[1;33m,\u001b[0m \u001b[0mevaluate_candidates\u001b[0m\u001b[1;33m)\u001b[0m\u001b[1;33m:\u001b[0m\u001b[1;33m\u001b[0m\u001b[1;33m\u001b[0m\u001b[0m\n\u001b[0;32m   1295\u001b[0m         \u001b[1;34m\"\"\"Search all candidates in param_grid\"\"\"\u001b[0m\u001b[1;33m\u001b[0m\u001b[1;33m\u001b[0m\u001b[0m\n\u001b[1;32m-> 1296\u001b[1;33m         \u001b[0mevaluate_candidates\u001b[0m\u001b[1;33m(\u001b[0m\u001b[0mParameterGrid\u001b[0m\u001b[1;33m(\u001b[0m\u001b[0mself\u001b[0m\u001b[1;33m.\u001b[0m\u001b[0mparam_grid\u001b[0m\u001b[1;33m)\u001b[0m\u001b[1;33m)\u001b[0m\u001b[1;33m\u001b[0m\u001b[1;33m\u001b[0m\u001b[0m\n\u001b[0m\u001b[0;32m   1297\u001b[0m \u001b[1;33m\u001b[0m\u001b[0m\n\u001b[0;32m   1298\u001b[0m \u001b[1;33m\u001b[0m\u001b[0m\n",
      "\u001b[1;32mE:\\Anaconda\\lib\\site-packages\\sklearn\\model_selection\\_search.py\u001b[0m in \u001b[0;36mevaluate_candidates\u001b[1;34m(candidate_params, cv, more_results)\u001b[0m\n\u001b[0;32m    807\u001b[0m                                    (split_idx, (train, test)) in product(\n\u001b[0;32m    808\u001b[0m                                    \u001b[0menumerate\u001b[0m\u001b[1;33m(\u001b[0m\u001b[0mcandidate_params\u001b[0m\u001b[1;33m)\u001b[0m\u001b[1;33m,\u001b[0m\u001b[1;33m\u001b[0m\u001b[1;33m\u001b[0m\u001b[0m\n\u001b[1;32m--> 809\u001b[1;33m                                    enumerate(cv.split(X, y, groups))))\n\u001b[0m\u001b[0;32m    810\u001b[0m \u001b[1;33m\u001b[0m\u001b[0m\n\u001b[0;32m    811\u001b[0m                 \u001b[1;32mif\u001b[0m \u001b[0mlen\u001b[0m\u001b[1;33m(\u001b[0m\u001b[0mout\u001b[0m\u001b[1;33m)\u001b[0m \u001b[1;33m<\u001b[0m \u001b[1;36m1\u001b[0m\u001b[1;33m:\u001b[0m\u001b[1;33m\u001b[0m\u001b[1;33m\u001b[0m\u001b[0m\n",
      "\u001b[1;32mE:\\Anaconda\\lib\\site-packages\\joblib\\parallel.py\u001b[0m in \u001b[0;36m__call__\u001b[1;34m(self, iterable)\u001b[0m\n\u001b[0;32m   1042\u001b[0m                 \u001b[0mself\u001b[0m\u001b[1;33m.\u001b[0m\u001b[0m_iterating\u001b[0m \u001b[1;33m=\u001b[0m \u001b[0mself\u001b[0m\u001b[1;33m.\u001b[0m\u001b[0m_original_iterator\u001b[0m \u001b[1;32mis\u001b[0m \u001b[1;32mnot\u001b[0m \u001b[1;32mNone\u001b[0m\u001b[1;33m\u001b[0m\u001b[1;33m\u001b[0m\u001b[0m\n\u001b[0;32m   1043\u001b[0m \u001b[1;33m\u001b[0m\u001b[0m\n\u001b[1;32m-> 1044\u001b[1;33m             \u001b[1;32mwhile\u001b[0m \u001b[0mself\u001b[0m\u001b[1;33m.\u001b[0m\u001b[0mdispatch_one_batch\u001b[0m\u001b[1;33m(\u001b[0m\u001b[0miterator\u001b[0m\u001b[1;33m)\u001b[0m\u001b[1;33m:\u001b[0m\u001b[1;33m\u001b[0m\u001b[1;33m\u001b[0m\u001b[0m\n\u001b[0m\u001b[0;32m   1045\u001b[0m                 \u001b[1;32mpass\u001b[0m\u001b[1;33m\u001b[0m\u001b[1;33m\u001b[0m\u001b[0m\n\u001b[0;32m   1046\u001b[0m \u001b[1;33m\u001b[0m\u001b[0m\n",
      "\u001b[1;32mE:\\Anaconda\\lib\\site-packages\\joblib\\parallel.py\u001b[0m in \u001b[0;36mdispatch_one_batch\u001b[1;34m(self, iterator)\u001b[0m\n\u001b[0;32m    857\u001b[0m                 \u001b[1;32mreturn\u001b[0m \u001b[1;32mFalse\u001b[0m\u001b[1;33m\u001b[0m\u001b[1;33m\u001b[0m\u001b[0m\n\u001b[0;32m    858\u001b[0m             \u001b[1;32melse\u001b[0m\u001b[1;33m:\u001b[0m\u001b[1;33m\u001b[0m\u001b[1;33m\u001b[0m\u001b[0m\n\u001b[1;32m--> 859\u001b[1;33m                 \u001b[0mself\u001b[0m\u001b[1;33m.\u001b[0m\u001b[0m_dispatch\u001b[0m\u001b[1;33m(\u001b[0m\u001b[0mtasks\u001b[0m\u001b[1;33m)\u001b[0m\u001b[1;33m\u001b[0m\u001b[1;33m\u001b[0m\u001b[0m\n\u001b[0m\u001b[0;32m    860\u001b[0m                 \u001b[1;32mreturn\u001b[0m \u001b[1;32mTrue\u001b[0m\u001b[1;33m\u001b[0m\u001b[1;33m\u001b[0m\u001b[0m\n\u001b[0;32m    861\u001b[0m \u001b[1;33m\u001b[0m\u001b[0m\n",
      "\u001b[1;32mE:\\Anaconda\\lib\\site-packages\\joblib\\parallel.py\u001b[0m in \u001b[0;36m_dispatch\u001b[1;34m(self, batch)\u001b[0m\n\u001b[0;32m    775\u001b[0m         \u001b[1;32mwith\u001b[0m \u001b[0mself\u001b[0m\u001b[1;33m.\u001b[0m\u001b[0m_lock\u001b[0m\u001b[1;33m:\u001b[0m\u001b[1;33m\u001b[0m\u001b[1;33m\u001b[0m\u001b[0m\n\u001b[0;32m    776\u001b[0m             \u001b[0mjob_idx\u001b[0m \u001b[1;33m=\u001b[0m \u001b[0mlen\u001b[0m\u001b[1;33m(\u001b[0m\u001b[0mself\u001b[0m\u001b[1;33m.\u001b[0m\u001b[0m_jobs\u001b[0m\u001b[1;33m)\u001b[0m\u001b[1;33m\u001b[0m\u001b[1;33m\u001b[0m\u001b[0m\n\u001b[1;32m--> 777\u001b[1;33m             \u001b[0mjob\u001b[0m \u001b[1;33m=\u001b[0m \u001b[0mself\u001b[0m\u001b[1;33m.\u001b[0m\u001b[0m_backend\u001b[0m\u001b[1;33m.\u001b[0m\u001b[0mapply_async\u001b[0m\u001b[1;33m(\u001b[0m\u001b[0mbatch\u001b[0m\u001b[1;33m,\u001b[0m \u001b[0mcallback\u001b[0m\u001b[1;33m=\u001b[0m\u001b[0mcb\u001b[0m\u001b[1;33m)\u001b[0m\u001b[1;33m\u001b[0m\u001b[1;33m\u001b[0m\u001b[0m\n\u001b[0m\u001b[0;32m    778\u001b[0m             \u001b[1;31m# A job can complete so quickly than its callback is\u001b[0m\u001b[1;33m\u001b[0m\u001b[1;33m\u001b[0m\u001b[1;33m\u001b[0m\u001b[0m\n\u001b[0;32m    779\u001b[0m             \u001b[1;31m# called before we get here, causing self._jobs to\u001b[0m\u001b[1;33m\u001b[0m\u001b[1;33m\u001b[0m\u001b[1;33m\u001b[0m\u001b[0m\n",
      "\u001b[1;32mE:\\Anaconda\\lib\\site-packages\\joblib\\_parallel_backends.py\u001b[0m in \u001b[0;36mapply_async\u001b[1;34m(self, func, callback)\u001b[0m\n\u001b[0;32m    206\u001b[0m     \u001b[1;32mdef\u001b[0m \u001b[0mapply_async\u001b[0m\u001b[1;33m(\u001b[0m\u001b[0mself\u001b[0m\u001b[1;33m,\u001b[0m \u001b[0mfunc\u001b[0m\u001b[1;33m,\u001b[0m \u001b[0mcallback\u001b[0m\u001b[1;33m=\u001b[0m\u001b[1;32mNone\u001b[0m\u001b[1;33m)\u001b[0m\u001b[1;33m:\u001b[0m\u001b[1;33m\u001b[0m\u001b[1;33m\u001b[0m\u001b[0m\n\u001b[0;32m    207\u001b[0m         \u001b[1;34m\"\"\"Schedule a func to be run\"\"\"\u001b[0m\u001b[1;33m\u001b[0m\u001b[1;33m\u001b[0m\u001b[0m\n\u001b[1;32m--> 208\u001b[1;33m         \u001b[0mresult\u001b[0m \u001b[1;33m=\u001b[0m \u001b[0mImmediateResult\u001b[0m\u001b[1;33m(\u001b[0m\u001b[0mfunc\u001b[0m\u001b[1;33m)\u001b[0m\u001b[1;33m\u001b[0m\u001b[1;33m\u001b[0m\u001b[0m\n\u001b[0m\u001b[0;32m    209\u001b[0m         \u001b[1;32mif\u001b[0m \u001b[0mcallback\u001b[0m\u001b[1;33m:\u001b[0m\u001b[1;33m\u001b[0m\u001b[1;33m\u001b[0m\u001b[0m\n\u001b[0;32m    210\u001b[0m             \u001b[0mcallback\u001b[0m\u001b[1;33m(\u001b[0m\u001b[0mresult\u001b[0m\u001b[1;33m)\u001b[0m\u001b[1;33m\u001b[0m\u001b[1;33m\u001b[0m\u001b[0m\n",
      "\u001b[1;32mE:\\Anaconda\\lib\\site-packages\\joblib\\_parallel_backends.py\u001b[0m in \u001b[0;36m__init__\u001b[1;34m(self, batch)\u001b[0m\n\u001b[0;32m    570\u001b[0m         \u001b[1;31m# Don't delay the application, to avoid keeping the input\u001b[0m\u001b[1;33m\u001b[0m\u001b[1;33m\u001b[0m\u001b[1;33m\u001b[0m\u001b[0m\n\u001b[0;32m    571\u001b[0m         \u001b[1;31m# arguments in memory\u001b[0m\u001b[1;33m\u001b[0m\u001b[1;33m\u001b[0m\u001b[1;33m\u001b[0m\u001b[0m\n\u001b[1;32m--> 572\u001b[1;33m         \u001b[0mself\u001b[0m\u001b[1;33m.\u001b[0m\u001b[0mresults\u001b[0m \u001b[1;33m=\u001b[0m \u001b[0mbatch\u001b[0m\u001b[1;33m(\u001b[0m\u001b[1;33m)\u001b[0m\u001b[1;33m\u001b[0m\u001b[1;33m\u001b[0m\u001b[0m\n\u001b[0m\u001b[0;32m    573\u001b[0m \u001b[1;33m\u001b[0m\u001b[0m\n\u001b[0;32m    574\u001b[0m     \u001b[1;32mdef\u001b[0m \u001b[0mget\u001b[0m\u001b[1;33m(\u001b[0m\u001b[0mself\u001b[0m\u001b[1;33m)\u001b[0m\u001b[1;33m:\u001b[0m\u001b[1;33m\u001b[0m\u001b[1;33m\u001b[0m\u001b[0m\n",
      "\u001b[1;32mE:\\Anaconda\\lib\\site-packages\\joblib\\parallel.py\u001b[0m in \u001b[0;36m__call__\u001b[1;34m(self)\u001b[0m\n\u001b[0;32m    261\u001b[0m         \u001b[1;32mwith\u001b[0m \u001b[0mparallel_backend\u001b[0m\u001b[1;33m(\u001b[0m\u001b[0mself\u001b[0m\u001b[1;33m.\u001b[0m\u001b[0m_backend\u001b[0m\u001b[1;33m,\u001b[0m \u001b[0mn_jobs\u001b[0m\u001b[1;33m=\u001b[0m\u001b[0mself\u001b[0m\u001b[1;33m.\u001b[0m\u001b[0m_n_jobs\u001b[0m\u001b[1;33m)\u001b[0m\u001b[1;33m:\u001b[0m\u001b[1;33m\u001b[0m\u001b[1;33m\u001b[0m\u001b[0m\n\u001b[0;32m    262\u001b[0m             return [func(*args, **kwargs)\n\u001b[1;32m--> 263\u001b[1;33m                     for func, args, kwargs in self.items]\n\u001b[0m\u001b[0;32m    264\u001b[0m \u001b[1;33m\u001b[0m\u001b[0m\n\u001b[0;32m    265\u001b[0m     \u001b[1;32mdef\u001b[0m \u001b[0m__reduce__\u001b[0m\u001b[1;33m(\u001b[0m\u001b[0mself\u001b[0m\u001b[1;33m)\u001b[0m\u001b[1;33m:\u001b[0m\u001b[1;33m\u001b[0m\u001b[1;33m\u001b[0m\u001b[0m\n",
      "\u001b[1;32mE:\\Anaconda\\lib\\site-packages\\joblib\\parallel.py\u001b[0m in \u001b[0;36m<listcomp>\u001b[1;34m(.0)\u001b[0m\n\u001b[0;32m    261\u001b[0m         \u001b[1;32mwith\u001b[0m \u001b[0mparallel_backend\u001b[0m\u001b[1;33m(\u001b[0m\u001b[0mself\u001b[0m\u001b[1;33m.\u001b[0m\u001b[0m_backend\u001b[0m\u001b[1;33m,\u001b[0m \u001b[0mn_jobs\u001b[0m\u001b[1;33m=\u001b[0m\u001b[0mself\u001b[0m\u001b[1;33m.\u001b[0m\u001b[0m_n_jobs\u001b[0m\u001b[1;33m)\u001b[0m\u001b[1;33m:\u001b[0m\u001b[1;33m\u001b[0m\u001b[1;33m\u001b[0m\u001b[0m\n\u001b[0;32m    262\u001b[0m             return [func(*args, **kwargs)\n\u001b[1;32m--> 263\u001b[1;33m                     for func, args, kwargs in self.items]\n\u001b[0m\u001b[0;32m    264\u001b[0m \u001b[1;33m\u001b[0m\u001b[0m\n\u001b[0;32m    265\u001b[0m     \u001b[1;32mdef\u001b[0m \u001b[0m__reduce__\u001b[0m\u001b[1;33m(\u001b[0m\u001b[0mself\u001b[0m\u001b[1;33m)\u001b[0m\u001b[1;33m:\u001b[0m\u001b[1;33m\u001b[0m\u001b[1;33m\u001b[0m\u001b[0m\n",
      "\u001b[1;32mE:\\Anaconda\\lib\\site-packages\\sklearn\\utils\\fixes.py\u001b[0m in \u001b[0;36m__call__\u001b[1;34m(self, *args, **kwargs)\u001b[0m\n\u001b[0;32m    220\u001b[0m     \u001b[1;32mdef\u001b[0m \u001b[0m__call__\u001b[0m\u001b[1;33m(\u001b[0m\u001b[0mself\u001b[0m\u001b[1;33m,\u001b[0m \u001b[1;33m*\u001b[0m\u001b[0margs\u001b[0m\u001b[1;33m,\u001b[0m \u001b[1;33m**\u001b[0m\u001b[0mkwargs\u001b[0m\u001b[1;33m)\u001b[0m\u001b[1;33m:\u001b[0m\u001b[1;33m\u001b[0m\u001b[1;33m\u001b[0m\u001b[0m\n\u001b[0;32m    221\u001b[0m         \u001b[1;32mwith\u001b[0m \u001b[0mconfig_context\u001b[0m\u001b[1;33m(\u001b[0m\u001b[1;33m**\u001b[0m\u001b[0mself\u001b[0m\u001b[1;33m.\u001b[0m\u001b[0mconfig\u001b[0m\u001b[1;33m)\u001b[0m\u001b[1;33m:\u001b[0m\u001b[1;33m\u001b[0m\u001b[1;33m\u001b[0m\u001b[0m\n\u001b[1;32m--> 222\u001b[1;33m             \u001b[1;32mreturn\u001b[0m \u001b[0mself\u001b[0m\u001b[1;33m.\u001b[0m\u001b[0mfunction\u001b[0m\u001b[1;33m(\u001b[0m\u001b[1;33m*\u001b[0m\u001b[0margs\u001b[0m\u001b[1;33m,\u001b[0m \u001b[1;33m**\u001b[0m\u001b[0mkwargs\u001b[0m\u001b[1;33m)\u001b[0m\u001b[1;33m\u001b[0m\u001b[1;33m\u001b[0m\u001b[0m\n\u001b[0m",
      "\u001b[1;32mE:\\Anaconda\\lib\\site-packages\\sklearn\\model_selection\\_validation.py\u001b[0m in \u001b[0;36m_fit_and_score\u001b[1;34m(estimator, X, y, scorer, train, test, verbose, parameters, fit_params, return_train_score, return_parameters, return_n_test_samples, return_times, return_estimator, split_progress, candidate_progress, error_score)\u001b[0m\n\u001b[0;32m    596\u001b[0m             \u001b[0mestimator\u001b[0m\u001b[1;33m.\u001b[0m\u001b[0mfit\u001b[0m\u001b[1;33m(\u001b[0m\u001b[0mX_train\u001b[0m\u001b[1;33m,\u001b[0m \u001b[1;33m**\u001b[0m\u001b[0mfit_params\u001b[0m\u001b[1;33m)\u001b[0m\u001b[1;33m\u001b[0m\u001b[1;33m\u001b[0m\u001b[0m\n\u001b[0;32m    597\u001b[0m         \u001b[1;32melse\u001b[0m\u001b[1;33m:\u001b[0m\u001b[1;33m\u001b[0m\u001b[1;33m\u001b[0m\u001b[0m\n\u001b[1;32m--> 598\u001b[1;33m             \u001b[0mestimator\u001b[0m\u001b[1;33m.\u001b[0m\u001b[0mfit\u001b[0m\u001b[1;33m(\u001b[0m\u001b[0mX_train\u001b[0m\u001b[1;33m,\u001b[0m \u001b[0my_train\u001b[0m\u001b[1;33m,\u001b[0m \u001b[1;33m**\u001b[0m\u001b[0mfit_params\u001b[0m\u001b[1;33m)\u001b[0m\u001b[1;33m\u001b[0m\u001b[1;33m\u001b[0m\u001b[0m\n\u001b[0m\u001b[0;32m    599\u001b[0m \u001b[1;33m\u001b[0m\u001b[0m\n\u001b[0;32m    600\u001b[0m     \u001b[1;32mexcept\u001b[0m \u001b[0mException\u001b[0m \u001b[1;32mas\u001b[0m \u001b[0me\u001b[0m\u001b[1;33m:\u001b[0m\u001b[1;33m\u001b[0m\u001b[1;33m\u001b[0m\u001b[0m\n",
      "\u001b[1;32mE:\\Anaconda\\lib\\site-packages\\sklearn\\ensemble\\_gb.py\u001b[0m in \u001b[0;36mfit\u001b[1;34m(self, X, y, sample_weight, monitor)\u001b[0m\n\u001b[0;32m    504\u001b[0m         n_stages = self._fit_stages(\n\u001b[0;32m    505\u001b[0m             \u001b[0mX\u001b[0m\u001b[1;33m,\u001b[0m \u001b[0my\u001b[0m\u001b[1;33m,\u001b[0m \u001b[0mraw_predictions\u001b[0m\u001b[1;33m,\u001b[0m \u001b[0msample_weight\u001b[0m\u001b[1;33m,\u001b[0m \u001b[0mself\u001b[0m\u001b[1;33m.\u001b[0m\u001b[0m_rng\u001b[0m\u001b[1;33m,\u001b[0m \u001b[0mX_val\u001b[0m\u001b[1;33m,\u001b[0m \u001b[0my_val\u001b[0m\u001b[1;33m,\u001b[0m\u001b[1;33m\u001b[0m\u001b[1;33m\u001b[0m\u001b[0m\n\u001b[1;32m--> 506\u001b[1;33m             sample_weight_val, begin_at_stage, monitor)\n\u001b[0m\u001b[0;32m    507\u001b[0m \u001b[1;33m\u001b[0m\u001b[0m\n\u001b[0;32m    508\u001b[0m         \u001b[1;31m# change shape of arrays after fit (early-stopping or additional ests)\u001b[0m\u001b[1;33m\u001b[0m\u001b[1;33m\u001b[0m\u001b[1;33m\u001b[0m\u001b[0m\n",
      "\u001b[1;32mE:\\Anaconda\\lib\\site-packages\\sklearn\\ensemble\\_gb.py\u001b[0m in \u001b[0;36m_fit_stages\u001b[1;34m(self, X, y, raw_predictions, sample_weight, random_state, X_val, y_val, sample_weight_val, begin_at_stage, monitor)\u001b[0m\n\u001b[0;32m    561\u001b[0m             raw_predictions = self._fit_stage(\n\u001b[0;32m    562\u001b[0m                 \u001b[0mi\u001b[0m\u001b[1;33m,\u001b[0m \u001b[0mX\u001b[0m\u001b[1;33m,\u001b[0m \u001b[0my\u001b[0m\u001b[1;33m,\u001b[0m \u001b[0mraw_predictions\u001b[0m\u001b[1;33m,\u001b[0m \u001b[0msample_weight\u001b[0m\u001b[1;33m,\u001b[0m \u001b[0msample_mask\u001b[0m\u001b[1;33m,\u001b[0m\u001b[1;33m\u001b[0m\u001b[1;33m\u001b[0m\u001b[0m\n\u001b[1;32m--> 563\u001b[1;33m                 random_state, X_csc, X_csr)\n\u001b[0m\u001b[0;32m    564\u001b[0m \u001b[1;33m\u001b[0m\u001b[0m\n\u001b[0;32m    565\u001b[0m             \u001b[1;31m# track deviance (= loss)\u001b[0m\u001b[1;33m\u001b[0m\u001b[1;33m\u001b[0m\u001b[1;33m\u001b[0m\u001b[0m\n",
      "\u001b[1;32mE:\\Anaconda\\lib\\site-packages\\sklearn\\ensemble\\_gb.py\u001b[0m in \u001b[0;36m_fit_stage\u001b[1;34m(self, i, X, y, raw_predictions, sample_weight, sample_mask, random_state, X_csc, X_csr)\u001b[0m\n\u001b[0;32m    213\u001b[0m             \u001b[0mX\u001b[0m \u001b[1;33m=\u001b[0m \u001b[0mX_csr\u001b[0m \u001b[1;32mif\u001b[0m \u001b[0mX_csr\u001b[0m \u001b[1;32mis\u001b[0m \u001b[1;32mnot\u001b[0m \u001b[1;32mNone\u001b[0m \u001b[1;32melse\u001b[0m \u001b[0mX\u001b[0m\u001b[1;33m\u001b[0m\u001b[1;33m\u001b[0m\u001b[0m\n\u001b[0;32m    214\u001b[0m             tree.fit(X, residual, sample_weight=sample_weight,\n\u001b[1;32m--> 215\u001b[1;33m                      check_input=False)\n\u001b[0m\u001b[0;32m    216\u001b[0m \u001b[1;33m\u001b[0m\u001b[0m\n\u001b[0;32m    217\u001b[0m             \u001b[1;31m# update tree leaves\u001b[0m\u001b[1;33m\u001b[0m\u001b[1;33m\u001b[0m\u001b[1;33m\u001b[0m\u001b[0m\n",
      "\u001b[1;32mE:\\Anaconda\\lib\\site-packages\\sklearn\\tree\\_classes.py\u001b[0m in \u001b[0;36mfit\u001b[1;34m(self, X, y, sample_weight, check_input, X_idx_sorted)\u001b[0m\n\u001b[0;32m   1254\u001b[0m             \u001b[0msample_weight\u001b[0m\u001b[1;33m=\u001b[0m\u001b[0msample_weight\u001b[0m\u001b[1;33m,\u001b[0m\u001b[1;33m\u001b[0m\u001b[1;33m\u001b[0m\u001b[0m\n\u001b[0;32m   1255\u001b[0m             \u001b[0mcheck_input\u001b[0m\u001b[1;33m=\u001b[0m\u001b[0mcheck_input\u001b[0m\u001b[1;33m,\u001b[0m\u001b[1;33m\u001b[0m\u001b[1;33m\u001b[0m\u001b[0m\n\u001b[1;32m-> 1256\u001b[1;33m             X_idx_sorted=X_idx_sorted)\n\u001b[0m\u001b[0;32m   1257\u001b[0m         \u001b[1;32mreturn\u001b[0m \u001b[0mself\u001b[0m\u001b[1;33m\u001b[0m\u001b[1;33m\u001b[0m\u001b[0m\n\u001b[0;32m   1258\u001b[0m \u001b[1;33m\u001b[0m\u001b[0m\n",
      "\u001b[1;32mE:\\Anaconda\\lib\\site-packages\\sklearn\\tree\\_classes.py\u001b[0m in \u001b[0;36mfit\u001b[1;34m(self, X, y, sample_weight, check_input, X_idx_sorted)\u001b[0m\n\u001b[0;32m    392\u001b[0m                                            min_impurity_split)\n\u001b[0;32m    393\u001b[0m \u001b[1;33m\u001b[0m\u001b[0m\n\u001b[1;32m--> 394\u001b[1;33m         \u001b[0mbuilder\u001b[0m\u001b[1;33m.\u001b[0m\u001b[0mbuild\u001b[0m\u001b[1;33m(\u001b[0m\u001b[0mself\u001b[0m\u001b[1;33m.\u001b[0m\u001b[0mtree_\u001b[0m\u001b[1;33m,\u001b[0m \u001b[0mX\u001b[0m\u001b[1;33m,\u001b[0m \u001b[0my\u001b[0m\u001b[1;33m,\u001b[0m \u001b[0msample_weight\u001b[0m\u001b[1;33m)\u001b[0m\u001b[1;33m\u001b[0m\u001b[1;33m\u001b[0m\u001b[0m\n\u001b[0m\u001b[0;32m    395\u001b[0m \u001b[1;33m\u001b[0m\u001b[0m\n\u001b[0;32m    396\u001b[0m         \u001b[1;32mif\u001b[0m \u001b[0mself\u001b[0m\u001b[1;33m.\u001b[0m\u001b[0mn_outputs_\u001b[0m \u001b[1;33m==\u001b[0m \u001b[1;36m1\u001b[0m \u001b[1;32mand\u001b[0m \u001b[0mis_classifier\u001b[0m\u001b[1;33m(\u001b[0m\u001b[0mself\u001b[0m\u001b[1;33m)\u001b[0m\u001b[1;33m:\u001b[0m\u001b[1;33m\u001b[0m\u001b[1;33m\u001b[0m\u001b[0m\n",
      "\u001b[1;31mKeyboardInterrupt\u001b[0m: "
     ]
    }
   ],
   "source": [
    "param_grid = {'criterion':['mse','friedman_mse'],'n_estimators':[100,150,200,250,300],\n",
    "              'max_depth':[2,3,4,5,10],'min_samples_split':[2,3,4,5],'learning_rate':np.arange(0.1,0.3,0.01)}\n",
    "kf = KFold(n_splits=10,shuffle=True,random_state=10)\n",
    "searchgb = GridSearchCV(estimator=GradientBoostingRegressor(),param_grid=param_grid, scoring='neg_mean_squared_error', cv=kf, verbose=True)\n",
    "searchgb.fit(xtrain,ytrain)\n",
    "searchgb.best_params_"
   ]
  },
  {
   "cell_type": "markdown",
   "id": "endangered-satellite",
   "metadata": {},
   "source": [
    "# Model Building using tunned params and feature engeering"
   ]
  },
  {
   "cell_type": "code",
   "execution_count": 1101,
   "id": "exempt-crowd",
   "metadata": {},
   "outputs": [],
   "source": [
    "LR = LinearRegression()\n",
    "LR_bag = BaggingRegressor(base_estimator=LR,n_estimators=30)\n",
    "LR_boost = AdaBoostRegressor(base_estimator=LR,n_estimators=50,learning_rate=0.19)\n",
    "\n",
    "\n",
    "RF=RandomForestRegressor(criterion= 'mse',max_depth= 8,min_samples_split= 4,n_estimators= 150)\n",
    "RF_boost=AdaBoostRegressor(base_estimator=RF,n_estimators=4,random_state=0)\n",
    "\n",
    "\n",
    "XGB = XGBRegressor(n_estimators =150,learning_rate = 0.19, gamma= 3,max_depth= 2)\n",
    "\n",
    "\n",
    "GBoost=GradientBoostingRegressor(criterion= 'friedman_mse',max_depth= 2,min_samples_split= 3,n_estimators= 66, \n",
    "                                 learning_rate=0.5099999999999998,subsample= 0.9)\n"
   ]
  },
  {
   "cell_type": "code",
   "execution_count": 772,
   "id": "confirmed-correspondence",
   "metadata": {},
   "outputs": [],
   "source": [
    "models = []\n",
    "models.append(('Linear', LR))\n",
    "models.append(('BaggedLR', LR_bag))\n",
    "models.append(('BoostedLR',LR_boost))\n",
    "\n",
    "models.append(('RF',RF))\n",
    "models.append(('BoostedRF',RF_boost))\n",
    "\n",
    "models.append(('GBoost',GBoost))"
   ]
  },
  {
   "cell_type": "code",
   "execution_count": 704,
   "id": "deluxe-cleaner",
   "metadata": {},
   "outputs": [
    {
     "name": "stdout",
     "output_type": "stream",
     "text": [
      "Linear :  R2 Score 0.8947560399252235,  RMSE 363.7002288679592\n",
      "Linear :  Bias Error = 0.10524396007477659,  Variance Error=0.03248942404722129\n",
      "--------------------------------\n",
      "BaggedLR :  R2 Score 0.8988726171022282,  RMSE 357.08974732976503\n",
      "BaggedLR :  Bias Error = 0.10112738289777168,  Variance Error=0.030494943654802792\n",
      "--------------------------------\n",
      "BoostedLR :  R2 Score 0.8813553650639279,  RMSE 381.9998325546054\n",
      "BoostedLR :  Bias Error = 0.1186446349360721,  Variance Error=0.047129379855405155\n",
      "--------------------------------\n",
      "RF :  R2 Score 0.93509425943953,  RMSE 272.74263682484417\n",
      "RF :  Bias Error = 0.0649057405604702,  Variance Error=0.05102435047556589\n",
      "--------------------------------\n",
      "BoostedRF :  R2 Score 0.9187423928584476,  RMSE 305.216345354294\n",
      "BoostedRF :  Bias Error = 0.08125760714155253,  Variance Error=0.06949961389687066\n",
      "--------------------------------\n",
      "GBoost :  R2 Score 0.9698424234686481,  RMSE 187.02792887594325\n",
      "GBoost :  Bias Error = 0.030157576531352003,  Variance Error=0.021703002386365525\n",
      "--------------------------------\n"
     ]
    },
    {
     "data": {
      "image/png": "[encoded data removed]",
      "text/plain": [
       "<Figure size 1440x576 with 1 Axes>"
      ]
     },
     "metadata": {
      "needs_background": "light"
     },
     "output_type": "display_data"
    }
   ],
   "source": [
    "#Train Dataset\n",
    "results = []\n",
    "names = []\n",
    "for name, model in models:\n",
    "    kf = KFold(n_splits=10,shuffle=True,random_state=10)\n",
    "    \n",
    "    trainRMSEscore = cross_val_score(estimator=model, X=xtrain, y=ytrain, scoring='neg_mean_squared_error', cv=kf)\n",
    "    trainr2score = cross_val_score(estimator=model, X=xtrain, y=ytrain, scoring='r2', cv=kf)\n",
    "    \n",
    "    #RMSE Plot\n",
    "    results.append(np.sqrt(abs(trainRMSEscore)))\n",
    "    names.append(name)\n",
    "    print(\"{} :  R2 Score {},  RMSE {}\".format(name, np.mean(trainr2score),np.mean(np.sqrt(abs(trainRMSEscore)))))\n",
    "    print(\"{} :  Bias Error = {},  Variance Error={}\".format(name, np.mean(1-trainr2score),np.std(trainr2score,ddof=1)))\n",
    "    print(\"-\"*32)\n",
    "   # boxplot algorithm comparison\n",
    "fig = plt.figure(figsize=(20,8))\n",
    "fig.suptitle('Algorithm Comparison')\n",
    "ax = fig.add_subplot(111)\n",
    "plt.boxplot(results)\n",
    "ax.set_xticklabels(names)\n",
    "plt.show()"
   ]
  },
  {
   "cell_type": "code",
   "execution_count": 727,
   "id": "least-floor",
   "metadata": {},
   "outputs": [
    {
     "name": "stdout",
     "output_type": "stream",
     "text": [
      "Linear :  R2 Score -1.2844388988273303,  RMSE 668.0049016863032\n",
      "Linear :  Bias Error = 2.2844388988273305,  Variance Error=3.855640754105721\n",
      "--------------------------------\n",
      "BaggedLR :  R2 Score -0.17066828857765642,  RMSE 664.2148338733601\n",
      "BaggedLR :  Bias Error = 1.1706682885776565,  Variance Error=1.350553936076025\n",
      "--------------------------------\n",
      "BoostedLR :  R2 Score -0.5018918056367352,  RMSE 566.4579837073052\n",
      "BoostedLR :  Bias Error = 1.5018918056367352,  Variance Error=1.9135558830817694\n",
      "--------------------------------\n",
      "RF :  R2 Score 0.6438500703318334,  RMSE 377.82299033734233\n",
      "RF :  Bias Error = 0.3561499296681666,  Variance Error=0.42676708986315215\n",
      "--------------------------------\n",
      "BoostedRF :  R2 Score 0.6833313371532188,  RMSE 393.03990970242296\n",
      "BoostedRF :  Bias Error = 0.31666866284678125,  Variance Error=0.250296060662388\n",
      "--------------------------------\n",
      "GBoost :  R2 Score 0.8445777002040554,  RMSE 284.5779929200886\n",
      "GBoost :  Bias Error = 0.15542229979594455,  Variance Error=0.191540472722684\n",
      "--------------------------------\n"
     ]
    },
    {
     "data": {
      "image/png": "[encoded data removed]",
      "text/plain": [
       "<Figure size 1440x576 with 1 Axes>"
      ]
     },
     "metadata": {
      "needs_background": "light"
     },
     "output_type": "display_data"
    }
   ],
   "source": [
    "#Test Dataset\n",
    "results = []\n",
    "names = []\n",
    "for name, model in models:\n",
    "    kf = KFold(n_splits=10,shuffle=True,random_state=10)\n",
    "    \n",
    "    testRMSEscore = cross_val_score(estimator=model, X=xtest, y=ytest, scoring='neg_mean_squared_error', cv=kf)\n",
    "    testr2score = cross_val_score(estimator=model, X=xtest, y=ytest, scoring='r2', cv=kf)\n",
    "    \n",
    "    \n",
    "    #RMSE Plot\n",
    "    results.append(np.sqrt(abs(testRMSEscore)))\n",
    "    names.append(name)\n",
    "    print(\"{} :  R2 Score {},  RMSE {}\".format(name, np.mean(testr2score),np.mean(np.sqrt(abs(testRMSEscore)))))\n",
    "    print(\"{} :  Bias Error = {},  Variance Error={}\".format(name, np.mean(1-testr2score),np.std(testr2score,ddof=1)))\n",
    "    print(\"-\"*32)\n",
    "   # boxplot algorithm comparison\n",
    "fig = plt.figure(figsize=(20,8))\n",
    "fig.suptitle('Algorithm Comparison')\n",
    "ax = fig.add_subplot(111)\n",
    "plt.boxplot(results)\n",
    "ax.set_xticklabels(names)\n",
    "plt.show()"
   ]
  },
  {
   "cell_type": "code",
   "execution_count": 766,
   "id": "nuclear-camel",
   "metadata": {},
   "outputs": [
    {
     "name": "stdout",
     "output_type": "stream",
     "text": [
      "Linear :  R2 Score 0.8866981893494887,  RMSE 360.7884146897849\n",
      "Linear :  Bias Error = 0.11330181065051129,  Variance Error=0.04594888892849369\n",
      "--------------------------------\n",
      "BaggedLR :  R2 Score 0.8880221381776663,  RMSE 359.106887894779\n",
      "BaggedLR :  Bias Error = 0.11197786182233382,  Variance Error=0.04606409897572384\n",
      "--------------------------------\n",
      "BoostedLR :  R2 Score 0.8691631286998213,  RMSE 384.6927501813653\n",
      "BoostedLR :  Bias Error = 0.13083687130017868,  Variance Error=0.04827898508311901\n",
      "--------------------------------\n",
      "RF :  R2 Score 0.9629077565974328,  RMSE 210.75972697756634\n",
      "RF :  Bias Error = 0.03709224340256726,  Variance Error=0.018351739343131637\n",
      "--------------------------------\n",
      "BoostedRF :  R2 Score 0.947732678874452,  RMSE 235.9220108991423\n",
      "BoostedRF :  Bias Error = 0.052267321125547904,  Variance Error=0.03848722982704759\n",
      "--------------------------------\n",
      "GBoost :  R2 Score 0.9751689650545229,  RMSE 170.83881465403593\n",
      "GBoost :  Bias Error = 0.024831034945476983,  Variance Error=0.013244550270662724\n",
      "--------------------------------\n"
     ]
    },
    {
     "data": {
      "image/png": "[encoded data removed]",
      "text/plain": [
       "<Figure size 1440x576 with 1 Axes>"
      ]
     },
     "metadata": {
      "needs_background": "light"
     },
     "output_type": "display_data"
    }
   ],
   "source": [
    "#Entire Dataset\n",
    "results = []\n",
    "names = []\n",
    "for name, model in models:\n",
    "    kf = KFold(n_splits=10,shuffle=True,random_state=10)\n",
    "    \n",
    "    trainRMSEscore = cross_val_score(estimator=model, X=X, y=y, scoring='neg_mean_squared_error', cv=kf)\n",
    "    trainr2score = cross_val_score(estimator=model, X=X, y=y, scoring='r2', cv=kf)\n",
    "    \n",
    "    #RMSE Plot\n",
    "    results.append(np.sqrt(abs(trainRMSEscore)))\n",
    "    names.append(name)\n",
    "    print(\"{} :  R2 Score {},  RMSE {}\".format(name, np.mean(trainr2score),np.mean(np.sqrt(abs(trainRMSEscore)))))\n",
    "    print(\"{} :  Bias Error = {},  Variance Error={}\".format(name, np.mean(1-trainr2score),np.std(trainr2score,ddof=1)))\n",
    "    print(\"-\"*32)\n",
    "   # boxplot algorithm comparison\n",
    "fig = plt.figure(figsize=(20,8))\n",
    "fig.suptitle('Algorithm Comparison')\n",
    "ax = fig.add_subplot(111)\n",
    "plt.boxplot(results)\n",
    "ax.set_xticklabels(names)\n",
    "plt.show()"
   ]
  },
  {
   "cell_type": "markdown",
   "id": "secure-samba",
   "metadata": {},
   "source": [
    "# Trials with different features"
   ]
  },
  {
   "cell_type": "code",
   "execution_count": 780,
   "id": "middle-future",
   "metadata": {},
   "outputs": [
    {
     "name": "stdout",
     "output_type": "stream",
     "text": [
      "['Month', 'Day', 'Dew Point avg (°C)', 'Visibility\\xa0(km) avg', 'unemployment rate', 'CommercialBankInterestRateonCreditCardPlans', 'Change(in%)', 'Average upland planted(million acres)', 'Production (in  480-lb netweright in million bales)', 'Mill use  (in  480-lb netweright in million bales)', 'Exports', 'ProductCategory_MenClothing', 'ProductCategory_OtherClothing', 'ProductCategory_WomenClothing']\n",
      "--------------------------------------------------\n",
      "['Year', 'Month', 'Day', 'Temp avg (°C)', 'Monthly Real GDP Index (inMillion$)', 'Change(in%)', 'Average upland planted(million acres)', 'Production (in  480-lb netweright in million bales)', 'Exports', 'ProductCategory_MenClothing', 'ProductCategory_OtherClothing', 'ProductCategory_WomenClothing']\n",
      "--------------------------------------------------\n",
      "['Year', 'Month', 'Event', 'Day', 'Temp avg (°C)', 'Visibility\\xa0(km) avg', 'CPI', 'unemployment rate', 'CommercialBankInterestRateonCreditCardPlans', 'Finance Rate on Personal Loans at Commercial Banks, 24 Month Loan', 'Earnings or wages  in dollars per hour', 'Average upland planted(million acres)', 'Average upland harvested(million acres)', 'Production (in  480-lb netweright in million bales)', 'Mill use  (in  480-lb netweright in million bales)', 'Exports', 'ProductCategory_MenClothing', 'ProductCategory_OtherClothing', 'ProductCategory_WomenClothing']\n",
      "--------------------------------------------------\n",
      "['Year', 'Month', 'Temp avg (°C)', 'Monthly Real GDP Index (inMillion$)', 'unemployment rate', 'Average upland planted(million acres)', 'Average upland harvested(million acres)', 'Production (in  480-lb netweright in million bales)', 'Mill use  (in  480-lb netweright in million bales)', 'Exports', 'ProductCategory_OtherClothing', 'ProductCategory_WomenClothing']\n",
      "--------------------------------------------------\n",
      "['Year', 'Month', 'Temp avg (°C)', 'Monthly Real GDP Index (inMillion$)', 'unemployment rate', 'Average upland harvested(million acres)', 'ProductCategory_MenClothing', 'ProductCategory_OtherClothing', 'ProductCategory_WomenClothing']\n",
      "--------------------------------------------------\n",
      "Index(['Year', 'Month', 'Event', 'Day', 'Temp avg (°C)', 'Visibility (km) avg',\n",
      "       'unemployment rate', 'Earnings or wages  in dollars per hour',\n",
      "       'ProductCategory_MenClothing', 'ProductCategory_OtherClothing',\n",
      "       'ProductCategory_WomenClothing'],\n",
      "      dtype='object')\n",
      "--------------------------------------------------\n",
      "Index(['Year', 'Month', 'Event', 'Day', 'Temp avg (°C)', 'Dew Point avg (°C)',\n",
      "       'Humidity (%) avg', 'Visibility (km) avg', 'WeatherEvent', 'CPI',\n",
      "       'unemployment rate', 'CommercialBankInterestRateonCreditCardPlans',\n",
      "       'Earnings or wages  in dollars per hour',\n",
      "       'Average upland harvested(million acres)',\n",
      "       'Production (in  480-lb netweright in million bales)',\n",
      "       'Mill use  (in  480-lb netweright in million bales)', 'Exports',\n",
      "       'ProductCategory_MenClothing', 'ProductCategory_OtherClothing',\n",
      "       'ProductCategory_WomenClothing'],\n",
      "      dtype='object')\n"
     ]
    }
   ],
   "source": [
    "print(sfs_backward_features)\n",
    "print(\"-\"*50)\n",
    "print(sfs_forward_features)\n",
    "print(\"-\"*50)\n",
    "print(rfe_lr_features)\n",
    "print(\"-\"*50)\n",
    "print(sfs_backward_features_gb)\n",
    "print(\"-\"*50)\n",
    "print(sfs_forward_features_gb)\n",
    "print(\"-\"*50)\n",
    "print(manual_features_1)\n",
    "print(\"-\"*50)\n",
    "print(manual_features)"
   ]
  },
  {
   "cell_type": "markdown",
   "id": "adult-pharmaceutical",
   "metadata": {},
   "source": [
    "## [sfs_backward_features]"
   ]
  },
  {
   "cell_type": "code",
   "execution_count": 826,
   "id": "proof-speed",
   "metadata": {},
   "outputs": [
    {
     "name": "stdout",
     "output_type": "stream",
     "text": [
      "Linear :  R2 Score 0.5682100191414585,  RMSE 328.397526072794\n",
      "Linear :  Bias Error = 0.43178998085854153,  Variance Error=0.5935388647831432\n",
      "--------------------------------\n",
      "BaggedLR :  R2 Score 0.5285557602231328,  RMSE 351.4081582059568\n",
      "BaggedLR :  Bias Error = 0.4714442397768671,  Variance Error=0.61883219988732\n",
      "--------------------------------\n",
      "BoostedLR :  R2 Score 0.41426269867546905,  RMSE 372.61175137226405\n",
      "BoostedLR :  Bias Error = 0.585737301324531,  Variance Error=0.9093405882297045\n",
      "--------------------------------\n",
      "RF :  R2 Score 0.7220437950302537,  RMSE 353.853340084023\n",
      "RF :  Bias Error = 0.27795620496974627,  Variance Error=0.3006807657426803\n",
      "--------------------------------\n",
      "BoostedRF :  R2 Score 0.7595137933278727,  RMSE 346.9292315581468\n",
      "BoostedRF :  Bias Error = 0.2404862066721273,  Variance Error=0.19087354811136212\n",
      "--------------------------------\n",
      "GBoost :  R2 Score 0.9073242115646012,  RMSE 240.6054477455603\n",
      "GBoost :  Bias Error = 0.0926757884353988,  Variance Error=0.09322740209967327\n",
      "--------------------------------\n"
     ]
    },
    {
     "data": {
      "image/png": "[encoded data removed]",
      "text/plain": [
       "<Figure size 1440x576 with 1 Axes>"
      ]
     },
     "metadata": {
      "needs_background": "light"
     },
     "output_type": "display_data"
    }
   ],
   "source": [
    "#Entire Dataset\n",
    "results = []\n",
    "names = []\n",
    "for name, model in models:\n",
    "    kf = KFold(n_splits=10,shuffle=True,random_state=10)\n",
    "    \n",
    "    trainRMSEscore = cross_val_score(estimator=model, X=xtest[sfs_backward_features], y=ytest, scoring='neg_mean_squared_error', cv=kf)\n",
    "    trainr2score = cross_val_score(estimator=model, X=xtest[sfs_backward_features], y=ytest, scoring='r2', cv=kf)\n",
    "    \n",
    "    \n",
    "    #RMSE Plot\n",
    "    results.append(np.sqrt(abs(trainRMSEscore)))\n",
    "    names.append(name)\n",
    "    print(\"{} :  R2 Score {},  RMSE {}\".format(name, np.mean(trainr2score),np.mean(np.sqrt(abs(trainRMSEscore)))))\n",
    "    print(\"{} :  Bias Error = {},  Variance Error={}\".format(name, np.mean(1-trainr2score),np.std(trainr2score,ddof=1)))\n",
    "    print(\"-\"*32)\n",
    "   # boxplot algorithm comparison\n",
    "fig = plt.figure(figsize=(20,8))\n",
    "fig.suptitle('Algorithm Comparison')\n",
    "ax = fig.add_subplot(111)\n",
    "plt.boxplot(results)\n",
    "ax.set_xticklabels(names)\n",
    "plt.show()"
   ]
  },
  {
   "cell_type": "markdown",
   "id": "grand-biography",
   "metadata": {},
   "source": [
    "## sfs_forward_features"
   ]
  },
  {
   "cell_type": "code",
   "execution_count": 827,
   "id": "satisfactory-worse",
   "metadata": {},
   "outputs": [
    {
     "name": "stdout",
     "output_type": "stream",
     "text": [
      "Linear :  R2 Score 0.23994235740581718,  RMSE 416.8582491546379\n",
      "Linear :  Bias Error = 0.7600576425941828,  Variance Error=0.9103960029236224\n",
      "--------------------------------\n",
      "BaggedLR :  R2 Score 0.30268461905669086,  RMSE 404.8266945537869\n",
      "BaggedLR :  Bias Error = 0.6973153809433091,  Variance Error=0.8155281240583634\n",
      "--------------------------------\n",
      "BoostedLR :  R2 Score 0.2639917531663835,  RMSE 421.5809206507009\n",
      "BoostedLR :  Bias Error = 0.7360082468336164,  Variance Error=0.8784538482321035\n",
      "--------------------------------\n",
      "RF :  R2 Score 0.6326510160782449,  RMSE 369.51239118117144\n",
      "RF :  Bias Error = 0.3673489839217551,  Variance Error=0.476375411787334\n",
      "--------------------------------\n",
      "BoostedRF :  R2 Score 0.7024393207366904,  RMSE 383.83020788765765\n",
      "BoostedRF :  Bias Error = 0.2975606792633097,  Variance Error=0.27160919558101604\n",
      "--------------------------------\n",
      "GBoost :  R2 Score 0.8088700006678181,  RMSE 327.2509963977904\n",
      "GBoost :  Bias Error = 0.19112999933218194,  Variance Error=0.22233628160785587\n",
      "--------------------------------\n"
     ]
    },
    {
     "data": {
      "image/png": "[encoded data removed]",
      "text/plain": [
       "<Figure size 1440x576 with 1 Axes>"
      ]
     },
     "metadata": {
      "needs_background": "light"
     },
     "output_type": "display_data"
    }
   ],
   "source": [
    "#Entire Dataset\n",
    "results = []\n",
    "names = []\n",
    "for name, model in models:\n",
    "    kf = KFold(n_splits=10,shuffle=True,random_state=10)\n",
    "    \n",
    "    trainRMSEscore = cross_val_score(estimator=model, X=xtest[sfs_forward_features], y=ytest, scoring='neg_mean_squared_error', cv=kf)\n",
    "    trainr2score = cross_val_score(estimator=model, X=xtest[sfs_forward_features], y=ytest, scoring='r2', cv=kf)\n",
    "    \n",
    "    #RMSE Plot\n",
    "    results.append(np.sqrt(abs(trainRMSEscore)))\n",
    "    names.append(name)\n",
    "    print(\"{} :  R2 Score {},  RMSE {}\".format(name, np.mean(trainr2score),np.mean(np.sqrt(abs(trainRMSEscore)))))\n",
    "    print(\"{} :  Bias Error = {},  Variance Error={}\".format(name, np.mean(1-trainr2score),np.std(trainr2score,ddof=1)))\n",
    "    print(\"-\"*32)\n",
    "   # boxplot algorithm comparison\n",
    "fig = plt.figure(figsize=(20,8))\n",
    "fig.suptitle('Algorithm Comparison')\n",
    "ax = fig.add_subplot(111)\n",
    "plt.boxplot(results)\n",
    "ax.set_xticklabels(names)\n",
    "plt.show()"
   ]
  },
  {
   "cell_type": "markdown",
   "id": "prompt-reach",
   "metadata": {},
   "source": [
    "## rfe_lr_features"
   ]
  },
  {
   "cell_type": "code",
   "execution_count": 828,
   "id": "hindu-working",
   "metadata": {},
   "outputs": [
    {
     "name": "stdout",
     "output_type": "stream",
     "text": [
      "Linear :  R2 Score 0.16506188974881394,  RMSE 483.02240531954703\n",
      "Linear :  Bias Error = 0.8349381102511861,  Variance Error=1.0255971907498933\n",
      "--------------------------------\n",
      "BaggedLR :  R2 Score -4.947464500297511e+17,  RMSE 134263012970.39473\n",
      "BaggedLR :  Bias Error = 4.947464500297511e+17,  Variance Error=9.811850099165449e+17\n",
      "--------------------------------\n",
      "BoostedLR :  R2 Score -0.06685141501329721,  RMSE 515.8250576526392\n",
      "BoostedLR :  Bias Error = 1.0668514150132973,  Variance Error=1.3331322825623821\n",
      "--------------------------------\n",
      "RF :  R2 Score 0.623091171798585,  RMSE 369.20292671634314\n",
      "RF :  Bias Error = 0.37690882820141497,  Variance Error=0.5032440023246745\n",
      "--------------------------------\n",
      "BoostedRF :  R2 Score 0.6790694244499615,  RMSE 365.99281067714344\n",
      "BoostedRF :  Bias Error = 0.32093057555003845,  Variance Error=0.3666922932895443\n",
      "--------------------------------\n",
      "GBoost :  R2 Score 0.8347492642443968,  RMSE 289.62566693042993\n",
      "GBoost :  Bias Error = 0.1652507357556034,  Variance Error=0.21784166601580127\n",
      "--------------------------------\n"
     ]
    },
    {
     "data": {
      "image/png": "[encoded data removed]",
      "text/plain": [
       "<Figure size 1440x576 with 1 Axes>"
      ]
     },
     "metadata": {
      "needs_background": "light"
     },
     "output_type": "display_data"
    }
   ],
   "source": [
    "#Entire Dataset\n",
    "results = []\n",
    "names = []\n",
    "for name, model in models:\n",
    "    kf = KFold(n_splits=10,shuffle=True,random_state=10)\n",
    "    \n",
    "    trainRMSEscore = cross_val_score(estimator=model, X=xtest[rfe_lr_features], y=ytest, scoring='neg_mean_squared_error', cv=kf)\n",
    "    trainr2score = cross_val_score(estimator=model, X=xtest[rfe_lr_features], y=ytest, scoring='r2', cv=kf)\n",
    "    \n",
    "    #RMSE Plot\n",
    "    results.append(np.sqrt(abs(trainRMSEscore)))\n",
    "    names.append(name)\n",
    "    print(\"{} :  R2 Score {},  RMSE {}\".format(name, np.mean(trainr2score),np.mean(np.sqrt(abs(trainRMSEscore)))))\n",
    "    print(\"{} :  Bias Error = {},  Variance Error={}\".format(name, np.mean(1-trainr2score),np.std(trainr2score,ddof=1)))\n",
    "    print(\"-\"*32)\n",
    "   # boxplot algorithm comparison\n",
    "fig = plt.figure(figsize=(20,8))\n",
    "fig.suptitle('Algorithm Comparison')\n",
    "ax = fig.add_subplot(111)\n",
    "plt.boxplot(results)\n",
    "ax.set_xticklabels(names)\n",
    "plt.show()"
   ]
  },
  {
   "cell_type": "markdown",
   "id": "central-triple",
   "metadata": {},
   "source": [
    "## sfs_backward_features_gb"
   ]
  },
  {
   "cell_type": "code",
   "execution_count": 830,
   "id": "valid-kruger",
   "metadata": {},
   "outputs": [],
   "source": [
    "sfs_bck_gb_untunned_features=['Year', 'Month', 'Temp avg (°C)', 'Monthly Real GDP Index (inMillion$)', 'unemployment rate', 'Average upland planted(million acres)', 'Average upland harvested(million acres)', 'Production (in  480-lb netweright in million bales)', 'Mill use  (in  480-lb netweright in million bales)', 'Exports', 'ProductCategory_OtherClothing', 'ProductCategory_WomenClothing']"
   ]
  },
  {
   "cell_type": "code",
   "execution_count": 831,
   "id": "secret-clause",
   "metadata": {},
   "outputs": [
    {
     "name": "stdout",
     "output_type": "stream",
     "text": [
      "Linear :  R2 Score 0.49064197042556595,  RMSE 385.526364946972\n",
      "Linear :  Bias Error = 0.509358029574434,  Variance Error=0.6295472206250756\n",
      "--------------------------------\n",
      "BaggedLR :  R2 Score 0.4821030689730745,  RMSE 393.09914059178675\n",
      "BaggedLR :  Bias Error = 0.5178969310269255,  Variance Error=0.6072594431561785\n",
      "--------------------------------\n",
      "BoostedLR :  R2 Score 0.412380352199348,  RMSE 387.89774125968734\n",
      "BoostedLR :  Bias Error = 0.5876196478006519,  Variance Error=0.8069919406236353\n",
      "--------------------------------\n",
      "RF :  R2 Score 0.6568579858584863,  RMSE 373.61415174914987\n",
      "RF :  Bias Error = 0.34314201414151363,  Variance Error=0.424711136728151\n",
      "--------------------------------\n",
      "BoostedRF :  R2 Score 0.7172215101993855,  RMSE 365.6958349690615\n",
      "BoostedRF :  Bias Error = 0.2827784898006144,  Variance Error=0.2837057134717779\n",
      "--------------------------------\n",
      "GBoost :  R2 Score 0.8602263954937325,  RMSE 283.5577109514643\n",
      "GBoost :  Bias Error = 0.13977360450626755,  Variance Error=0.17429128735507118\n",
      "--------------------------------\n"
     ]
    },
    {
     "data": {
      "image/png": "[encoded data removed]",
      "text/plain": [
       "<Figure size 1440x576 with 1 Axes>"
      ]
     },
     "metadata": {
      "needs_background": "light"
     },
     "output_type": "display_data"
    }
   ],
   "source": [
    "#Entire Dataset\n",
    "results = []\n",
    "names = []\n",
    "for name, model in models:\n",
    "    kf = KFold(n_splits=10,shuffle=True,random_state=10)\n",
    "    \n",
    "    trainRMSEscore = cross_val_score(estimator=model, X=xtest[sfs_bck_gb_untunned_features], y=ytest, scoring='neg_mean_squared_error', cv=kf)\n",
    "    trainr2score = cross_val_score(estimator=model, X=xtest[sfs_bck_gb_untunned_features], y=ytest, scoring='r2', cv=kf)\n",
    "    \n",
    "    #RMSE Plot\n",
    "    results.append(np.sqrt(abs(trainRMSEscore)))\n",
    "    names.append(name)\n",
    "    print(\"{} :  R2 Score {},  RMSE {}\".format(name, np.mean(trainr2score),np.mean(np.sqrt(abs(trainRMSEscore)))))\n",
    "    print(\"{} :  Bias Error = {},  Variance Error={}\".format(name, np.mean(1-trainr2score),np.std(trainr2score,ddof=1)))\n",
    "    print(\"-\"*32)\n",
    "   # boxplot algorithm comparison\n",
    "fig = plt.figure(figsize=(20,8))\n",
    "fig.suptitle('Algorithm Comparison')\n",
    "ax = fig.add_subplot(111)\n",
    "plt.boxplot(results)\n",
    "ax.set_xticklabels(names)\n",
    "plt.show()"
   ]
  },
  {
   "cell_type": "markdown",
   "id": "strange-adrian",
   "metadata": {},
   "source": [
    "## sfs_forward_features_gb"
   ]
  },
  {
   "cell_type": "code",
   "execution_count": 832,
   "id": "alleged-contamination",
   "metadata": {},
   "outputs": [],
   "source": [
    "sfs_fwd_gb_untunned_features = ['Year', 'Month', 'Temp avg (°C)', 'Monthly Real GDP Index (inMillion$)', 'unemployment rate', 'Average upland harvested(million acres)', 'ProductCategory_MenClothing', 'ProductCategory_OtherClothing', 'ProductCategory_WomenClothing']"
   ]
  },
  {
   "cell_type": "code",
   "execution_count": 833,
   "id": "better-conditions",
   "metadata": {},
   "outputs": [
    {
     "name": "stdout",
     "output_type": "stream",
     "text": [
      "Linear :  R2 Score 0.5302725663936273,  RMSE 358.8403587002725\n",
      "Linear :  Bias Error = 0.4697274336063727,  Variance Error=0.6278762655142559\n",
      "--------------------------------\n",
      "BaggedLR :  R2 Score 0.4810245296800959,  RMSE 368.4958892102266\n",
      "BaggedLR :  Bias Error = 0.5189754703199041,  Variance Error=0.6571191688505603\n",
      "--------------------------------\n",
      "BoostedLR :  R2 Score 0.6529810003633184,  RMSE 359.944489675581\n",
      "BoostedLR :  Bias Error = 0.3470189996366816,  Variance Error=0.4510922082910718\n",
      "--------------------------------\n",
      "RF :  R2 Score 0.71238843956317,  RMSE 346.1866813441662\n",
      "RF :  Bias Error = 0.2876115604368301,  Variance Error=0.38855310844771146\n",
      "--------------------------------\n",
      "BoostedRF :  R2 Score 0.6776731984542397,  RMSE 364.6797934566565\n",
      "BoostedRF :  Bias Error = 0.32232680154576043,  Variance Error=0.4506262809074202\n",
      "--------------------------------\n",
      "GBoost :  R2 Score 0.8046012188446209,  RMSE 279.66872393005167\n",
      "GBoost :  Bias Error = 0.19539878115537893,  Variance Error=0.34221002886913227\n",
      "--------------------------------\n"
     ]
    },
    {
     "data": {
      "image/png": "[encoded data removed]",
      "text/plain": [
       "<Figure size 1440x576 with 1 Axes>"
      ]
     },
     "metadata": {
      "needs_background": "light"
     },
     "output_type": "display_data"
    }
   ],
   "source": [
    "#Entire Dataset\n",
    "results = []\n",
    "names = []\n",
    "for name, model in models:\n",
    "    kf = KFold(n_splits=10,shuffle=True,random_state=10)\n",
    "    \n",
    "    trainRMSEscore = cross_val_score(estimator=model, X=xtest[sfs_fwd_gb_untunned_features], y=ytest, scoring='neg_mean_squared_error', cv=kf)\n",
    "    trainr2score = cross_val_score(estimator=model, X=xtest[sfs_fwd_gb_untunned_features], y=ytest, scoring='r2', cv=kf)\n",
    "    \n",
    "    #RMSE Plot\n",
    "    results.append(np.sqrt(abs(trainRMSEscore)))\n",
    "    names.append(name)\n",
    "    print(\"{} :  R2 Score {},  RMSE {}\".format(name, np.mean(trainr2score),np.mean(np.sqrt(abs(trainRMSEscore)))))\n",
    "    print(\"{} :  Bias Error = {},  Variance Error={}\".format(name, np.mean(1-trainr2score),np.std(trainr2score,ddof=1)))\n",
    "    print(\"-\"*32)\n",
    "   # boxplot algorithm comparison\n",
    "fig = plt.figure(figsize=(20,8))\n",
    "fig.suptitle('Algorithm Comparison')\n",
    "ax = fig.add_subplot(111)\n",
    "plt.boxplot(results)\n",
    "ax.set_xticklabels(names)\n",
    "plt.show()"
   ]
  },
  {
   "cell_type": "markdown",
   "id": "british-savage",
   "metadata": {},
   "source": [
    "## manual_features_1"
   ]
  },
  {
   "cell_type": "code",
   "execution_count": 834,
   "id": "compliant-alarm",
   "metadata": {},
   "outputs": [
    {
     "name": "stdout",
     "output_type": "stream",
     "text": [
      "Linear :  R2 Score 0.3213542748966801,  RMSE 442.4797792457815\n",
      "Linear :  Bias Error = 0.6786457251033198,  Variance Error=0.8499795299356221\n",
      "--------------------------------\n",
      "BaggedLR :  R2 Score 0.18692823183592555,  RMSE 435.509843828436\n",
      "BaggedLR :  Bias Error = 0.8130717681640744,  Variance Error=1.0870353720599195\n",
      "--------------------------------\n",
      "BoostedLR :  R2 Score 0.23441614490386523,  RMSE 454.85024729436043\n",
      "BoostedLR :  Bias Error = 0.7655838550961348,  Variance Error=1.022384654096843\n",
      "--------------------------------\n",
      "RF :  R2 Score 0.6361289806672548,  RMSE 350.1144942700054\n",
      "RF :  Bias Error = 0.36387101933274524,  Variance Error=0.589073541148362\n",
      "--------------------------------\n",
      "BoostedRF :  R2 Score 0.6381411302519845,  RMSE 356.90833206149966\n",
      "BoostedRF :  Bias Error = 0.3618588697480155,  Variance Error=0.5187165950487506\n",
      "--------------------------------\n",
      "GBoost :  R2 Score 0.8116123033099221,  RMSE 264.3367238847108\n",
      "GBoost :  Bias Error = 0.18838769669007793,  Variance Error=0.34502938494822966\n",
      "--------------------------------\n"
     ]
    },
    {
     "data": {
      "image/png": "[encoded data removed]",
      "text/plain": [
       "<Figure size 1440x576 with 1 Axes>"
      ]
     },
     "metadata": {
      "needs_background": "light"
     },
     "output_type": "display_data"
    }
   ],
   "source": [
    "#Entire Dataset\n",
    "results = []\n",
    "names = []\n",
    "for name, model in models:\n",
    "    kf = KFold(n_splits=10,shuffle=True,random_state=10)\n",
    "    \n",
    "    trainRMSEscore = cross_val_score(estimator=model, X=xtest[manual_features_1], y=ytest, scoring='neg_mean_squared_error', cv=kf)\n",
    "    trainr2score = cross_val_score(estimator=model, X=xtest[manual_features_1], y=ytest, scoring='r2', cv=kf)\n",
    "    \n",
    "    #RMSE Plot\n",
    "    results.append(np.sqrt(abs(trainRMSEscore)))\n",
    "    names.append(name)\n",
    "    print(\"{} :  R2 Score {},  RMSE {}\".format(name, np.mean(trainr2score),np.mean(np.sqrt(abs(trainRMSEscore)))))\n",
    "    print(\"{} :  Bias Error = {},  Variance Error={}\".format(name, np.mean(1-trainr2score),np.std(trainr2score,ddof=1)))\n",
    "    print(\"-\"*32)\n",
    "   # boxplot algorithm comparison\n",
    "fig = plt.figure(figsize=(20,8))\n",
    "fig.suptitle('Algorithm Comparison')\n",
    "ax = fig.add_subplot(111)\n",
    "plt.boxplot(results)\n",
    "ax.set_xticklabels(names)\n",
    "plt.show()"
   ]
  },
  {
   "cell_type": "markdown",
   "id": "ultimate-reminder",
   "metadata": {},
   "source": [
    "## manual_features"
   ]
  },
  {
   "cell_type": "code",
   "execution_count": 835,
   "id": "promotional-palace",
   "metadata": {},
   "outputs": [
    {
     "name": "stdout",
     "output_type": "stream",
     "text": [
      "Linear :  R2 Score -0.10802561960225518,  RMSE 533.2947535907928\n",
      "Linear :  Bias Error = 1.1080256196022549,  Variance Error=1.6158649345987937\n",
      "--------------------------------\n",
      "BaggedLR :  R2 Score -5.174847459849473e+18,  RMSE 454495937645.2887\n",
      "BaggedLR :  Bias Error = 5.174847459849473e+18,  Variance Error=1.0848120784246577e+19\n",
      "--------------------------------\n",
      "BoostedLR :  R2 Score -0.2440404922489951,  RMSE 560.7508297880753\n",
      "BoostedLR :  Bias Error = 1.2440404922489952,  Variance Error=1.8815890080385573\n",
      "--------------------------------\n",
      "RF :  R2 Score 0.6116468006722438,  RMSE 362.2507484676882\n",
      "RF :  Bias Error = 0.3883531993277562,  Variance Error=0.5041155171747397\n",
      "--------------------------------\n",
      "BoostedRF :  R2 Score 0.6759143300568333,  RMSE 390.8341637578388\n",
      "BoostedRF :  Bias Error = 0.32408566994316673,  Variance Error=0.3297928397549683\n",
      "--------------------------------\n",
      "GBoost :  R2 Score 0.7797035562527528,  RMSE 285.28499115674765\n",
      "GBoost :  Bias Error = 0.22029644374724722,  Variance Error=0.3808445095751125\n",
      "--------------------------------\n"
     ]
    },
    {
     "data": {
      "image/png": "[encoded data removed]",
      "text/plain": [
       "<Figure size 1440x576 with 1 Axes>"
      ]
     },
     "metadata": {
      "needs_background": "light"
     },
     "output_type": "display_data"
    }
   ],
   "source": [
    "#Entire Dataset\n",
    "results = []\n",
    "names = []\n",
    "for name, model in models:\n",
    "    kf = KFold(n_splits=10,shuffle=True,random_state=10)\n",
    "    \n",
    "    trainRMSEscore = cross_val_score(estimator=model, X=xtest[manual_features], y=ytest, scoring='neg_mean_squared_error', cv=kf)\n",
    "    trainr2score = cross_val_score(estimator=model, X=xtest[manual_features], y=ytest, scoring='r2', cv=kf)\n",
    "    \n",
    "    #RMSE Plot\n",
    "    results.append(np.sqrt(abs(trainRMSEscore)))\n",
    "    names.append(name)\n",
    "    print(\"{} :  R2 Score {},  RMSE {}\".format(name, np.mean(trainr2score),np.mean(np.sqrt(abs(trainRMSEscore)))))\n",
    "    print(\"{} :  Bias Error = {},  Variance Error={}\".format(name, np.mean(1-trainr2score),np.std(trainr2score,ddof=1)))\n",
    "    print(\"-\"*32)\n",
    "   # boxplot algorithm comparison\n",
    "fig = plt.figure(figsize=(20,8))\n",
    "fig.suptitle('Algorithm Comparison')\n",
    "ax = fig.add_subplot(111)\n",
    "plt.boxplot(results)\n",
    "ax.set_xticklabels(names)\n",
    "plt.show()"
   ]
  },
  {
   "cell_type": "markdown",
   "id": "responsible-backing",
   "metadata": {},
   "source": [
    "# Feature selection from hypertunned Gradient Boost Model"
   ]
  },
  {
   "cell_type": "code",
   "execution_count": 785,
   "id": "historical-healthcare",
   "metadata": {},
   "outputs": [
    {
     "name": "stdout",
     "output_type": "stream",
     "text": [
      "['Month', 'Temp avg (°C)', 'CommercialBankInterestRateonCreditCardPlans', 'Earnings or wages  in dollars per hour', 'Cotton Monthly Price - US cents per Pound(lbs)', 'Change(in%)', 'yieldperharvested acre', 'Production (in  480-lb netweright in million bales)', 'Mill use  (in  480-lb netweright in million bales)', 'Exports', 'ProductCategory_MenClothing', 'ProductCategory_WomenClothing']\n",
      "--------------------------------------------------\n",
      "['Year', 'Month', 'ProductCategory_MenClothing', 'ProductCategory_WomenClothing']\n",
      "--------------------------------------------------\n",
      "['Year', 'Month', 'Event', 'Day', 'Temp avg (°C)', 'Visibility\\xa0(km) avg', 'CPI', 'unemployment rate', 'CommercialBankInterestRateonCreditCardPlans', 'Finance Rate on Personal Loans at Commercial Banks, 24 Month Loan', 'Earnings or wages  in dollars per hour', 'Average upland planted(million acres)', 'Average upland harvested(million acres)', 'Production (in  480-lb netweright in million bales)', 'Mill use  (in  480-lb netweright in million bales)', 'Exports', 'ProductCategory_MenClothing', 'ProductCategory_OtherClothing', 'ProductCategory_WomenClothing']\n"
     ]
    }
   ],
   "source": [
    "print(sfs_backward_features_gb)\n",
    "print(\"-\"*50)\n",
    "print(sfs_forward_features_gb)\n",
    "print(\"-\"*50)\n",
    "print(rfe_gb_features)"
   ]
  },
  {
   "cell_type": "code",
   "execution_count": 786,
   "id": "adjusted-prague",
   "metadata": {},
   "outputs": [
    {
     "name": "stdout",
     "output_type": "stream",
     "text": [
      "Linear :  R2 Score 0.8961045447215165,  RMSE 348.0400464596546\n",
      "Linear :  Bias Error = 0.10389545527848343,  Variance Error=0.03808981558246685\n",
      "--------------------------------\n",
      "BaggedLR :  R2 Score 0.8952188086722535,  RMSE 347.41394165576446\n",
      "BaggedLR :  Bias Error = 0.1047811913277465,  Variance Error=0.03663672175611502\n",
      "--------------------------------\n",
      "BoostedLR :  R2 Score 0.8893873328234878,  RMSE 364.223617726194\n",
      "BoostedLR :  Bias Error = 0.11061266717651226,  Variance Error=0.037399394462733236\n",
      "--------------------------------\n",
      "RF :  R2 Score 0.9730291540579895,  RMSE 185.06156086152197\n",
      "RF :  Bias Error = 0.026970845942010536,  Variance Error=0.009546654455591034\n",
      "--------------------------------\n",
      "BoostedRF :  R2 Score 0.9593349818285605,  RMSE 217.71933762909788\n",
      "BoostedRF :  Bias Error = 0.04066501817143951,  Variance Error=0.01886459060677731\n",
      "--------------------------------\n",
      "GBoost :  R2 Score 0.9840409410651547,  RMSE 138.09840871134708\n",
      "GBoost :  Bias Error = 0.015959058934845262,  Variance Error=0.005578501531612998\n",
      "--------------------------------\n"
     ]
    },
    {
     "data": {
      "image/png": "[encoded data removed]",
      "text/plain": [
       "<Figure size 1440x576 with 1 Axes>"
      ]
     },
     "metadata": {
      "needs_background": "light"
     },
     "output_type": "display_data"
    }
   ],
   "source": [
    "#Entire Dataset\n",
    "results = []\n",
    "names = []\n",
    "for name, model in models:\n",
    "    kf = KFold(n_splits=10,shuffle=True,random_state=10)\n",
    "    \n",
    "    trainRMSEscore = cross_val_score(estimator=model, X=X[sfs_backward_features_gb], y=y, scoring='neg_mean_squared_error', cv=kf)\n",
    "    trainr2score = cross_val_score(estimator=model, X=X[sfs_backward_features_gb], y=y, scoring='r2', cv=kf)\n",
    "    \n",
    "    #RMSE Plot\n",
    "    results.append(np.sqrt(abs(trainRMSEscore)))\n",
    "    names.append(name)\n",
    "    print(\"{} :  R2 Score {},  RMSE {}\".format(name, np.mean(trainr2score),np.mean(np.sqrt(abs(trainRMSEscore)))))\n",
    "    print(\"{} :  Bias Error = {},  Variance Error={}\".format(name, np.mean(1-trainr2score),np.std(trainr2score,ddof=1)))\n",
    "    print(\"-\"*32)\n",
    "   # boxplot algorithm comparison\n",
    "fig = plt.figure(figsize=(20,8))\n",
    "fig.suptitle('Algorithm Comparison')\n",
    "ax = fig.add_subplot(111)\n",
    "plt.boxplot(results)\n",
    "ax.set_xticklabels(names)\n",
    "plt.show()"
   ]
  },
  {
   "cell_type": "code",
   "execution_count": 787,
   "id": "decent-barbados",
   "metadata": {},
   "outputs": [
    {
     "name": "stdout",
     "output_type": "stream",
     "text": [
      "Linear :  R2 Score 0.9017266680191962,  RMSE 341.90272613942545\n",
      "Linear :  Bias Error = 0.09827333198080376,  Variance Error=0.037491939443520805\n",
      "--------------------------------\n",
      "BaggedLR :  R2 Score 0.9002318186417687,  RMSE 343.30493943190805\n",
      "BaggedLR :  Bias Error = 0.09976818135823122,  Variance Error=0.038450335364283356\n",
      "--------------------------------\n",
      "BoostedLR :  R2 Score 0.8977276400338156,  RMSE 347.646699145692\n",
      "BoostedLR :  Bias Error = 0.10227235996618451,  Variance Error=0.03250024727959952\n",
      "--------------------------------\n",
      "RF :  R2 Score 0.9826814689682666,  RMSE 144.26273738969942\n",
      "RF :  Bias Error = 0.01731853103173343,  Variance Error=0.0058345335935255545\n",
      "--------------------------------\n",
      "BoostedRF :  R2 Score 0.9777895675402737,  RMSE 155.91836692111912\n",
      "BoostedRF :  Bias Error = 0.022210432459726294,  Variance Error=0.01762633888522072\n",
      "--------------------------------\n",
      "GBoost :  R2 Score 0.9883871886610889,  RMSE 117.68167965436547\n",
      "GBoost :  Bias Error = 0.011612811338911112,  Variance Error=0.004231416245601272\n",
      "--------------------------------\n"
     ]
    },
    {
     "data": {
      "image/png": "[encoded data removed]",
      "text/plain": [
       "<Figure size 1440x576 with 1 Axes>"
      ]
     },
     "metadata": {
      "needs_background": "light"
     },
     "output_type": "display_data"
    }
   ],
   "source": [
    "#Entire Dataset-------------------------So far the best\n",
    "results = []\n",
    "names = []\n",
    "for name, model in models:\n",
    "    kf = KFold(n_splits=10,shuffle=True,random_state=10)\n",
    "    \n",
    "    trainRMSEscore = cross_val_score(estimator=model, X=X[sfs_forward_features_gb], y=y, scoring='neg_mean_squared_error', cv=kf)\n",
    "    trainr2score = cross_val_score(estimator=model, X=X[sfs_forward_features_gb], y=y, scoring='r2', cv=kf)\n",
    "    \n",
    "    #RMSE Plot\n",
    "    results.append(np.sqrt(abs(trainRMSEscore)))\n",
    "    names.append(name)\n",
    "    print(\"{} :  R2 Score {},  RMSE {}\".format(name, np.mean(trainr2score),np.mean(np.sqrt(abs(trainRMSEscore)))))\n",
    "    print(\"{} :  Bias Error = {},  Variance Error={}\".format(name, np.mean(1-trainr2score),np.std(trainr2score,ddof=1)))\n",
    "    print(\"-\"*32)\n",
    "   # boxplot algorithm comparison\n",
    "fig = plt.figure(figsize=(20,8))\n",
    "fig.suptitle('Algorithm Comparison')\n",
    "ax = fig.add_subplot(111)\n",
    "plt.boxplot(results)\n",
    "ax.set_xticklabels(names)\n",
    "plt.show()"
   ]
  },
  {
   "cell_type": "code",
   "execution_count": 788,
   "id": "satellite-halloween",
   "metadata": {},
   "outputs": [
    {
     "name": "stdout",
     "output_type": "stream",
     "text": [
      "Linear :  R2 Score 0.8996225842862764,  RMSE 342.1106633587003\n",
      "Linear :  Bias Error = 0.10037741571372347,  Variance Error=0.037910976117589784\n",
      "--------------------------------\n",
      "BaggedLR :  R2 Score 0.9020043576448273,  RMSE 339.5663251412394\n",
      "BaggedLR :  Bias Error = 0.09799564235517272,  Variance Error=0.034727897158463854\n",
      "--------------------------------\n",
      "BoostedLR :  R2 Score 0.8861772621956658,  RMSE 358.27870152214183\n",
      "BoostedLR :  Bias Error = 0.11382273780433408,  Variance Error=0.042018761551727964\n",
      "--------------------------------\n",
      "RF :  R2 Score 0.9650505209593023,  RMSE 205.24444283718168\n",
      "RF :  Bias Error = 0.034949479040697715,  Variance Error=0.01880119562759777\n",
      "--------------------------------\n",
      "BoostedRF :  R2 Score 0.9452118190559882,  RMSE 251.074081058461\n",
      "BoostedRF :  Bias Error = 0.05478818094401174,  Variance Error=0.026362091466723452\n",
      "--------------------------------\n",
      "GBoost :  R2 Score 0.9755340717351034,  RMSE 169.46871527817103\n",
      "GBoost :  Bias Error = 0.024465928264896762,  Variance Error=0.009254442707914952\n",
      "--------------------------------\n"
     ]
    },
    {
     "data": {
      "image/png": "[encoded data removed]",
      "text/plain": [
       "<Figure size 1440x576 with 1 Axes>"
      ]
     },
     "metadata": {
      "needs_background": "light"
     },
     "output_type": "display_data"
    }
   ],
   "source": [
    "#Entire Dataset\n",
    "results = []\n",
    "names = []\n",
    "for name, model in models:\n",
    "    kf = KFold(n_splits=10,shuffle=True,random_state=10)\n",
    "    \n",
    "    trainRMSEscore = cross_val_score(estimator=model, X=X[rfe_gb_features], y=y, scoring='neg_mean_squared_error', cv=kf)\n",
    "    trainr2score = cross_val_score(estimator=model, X=X[rfe_gb_features], y=y, scoring='r2', cv=kf)\n",
    "    \n",
    "    #RMSE Plot\n",
    "    results.append(np.sqrt(abs(trainRMSEscore)))\n",
    "    names.append(name)\n",
    "    print(\"{} :  R2 Score {},  RMSE {}\".format(name, np.mean(trainr2score),np.mean(np.sqrt(abs(trainRMSEscore)))))\n",
    "    print(\"{} :  Bias Error = {},  Variance Error={}\".format(name, np.mean(1-trainr2score),np.std(trainr2score,ddof=1)))\n",
    "    print(\"-\"*32)\n",
    "   # boxplot algorithm comparison\n",
    "fig = plt.figure(figsize=(20,8))\n",
    "fig.suptitle('Algorithm Comparison')\n",
    "ax = fig.add_subplot(111)\n",
    "plt.boxplot(results)\n",
    "ax.set_xticklabels(names)\n",
    "plt.show()"
   ]
  },
  {
   "cell_type": "markdown",
   "id": "reflected-marketplace",
   "metadata": {},
   "source": [
    "# Final Model Building"
   ]
  },
  {
   "cell_type": "markdown",
   "id": "increasing-trout",
   "metadata": {},
   "source": [
    "## 1. GB + sfs_forward_features "
   ]
  },
  {
   "cell_type": "code",
   "execution_count": 813,
   "id": "naughty-spare",
   "metadata": {},
   "outputs": [
    {
     "name": "stdout",
     "output_type": "stream",
     "text": [
      "Average Train R2    0.9814829587574596\n",
      "Average Train RMSE  148.93878704028907\n"
     ]
    }
   ],
   "source": [
    "GBoost=GradientBoostingRegressor(criterion= 'friedman_mse',max_depth= 2,min_samples_split= 3,n_estimators= 200, \n",
    "                                 learning_rate=0.19,random_state=208)\n",
    "GB_model_Tunned_v1 = GBoost.fit(X[sfs_forward_features],y)\n",
    "\n",
    "kf = KFold(n_splits=10,shuffle=True,random_state=10)\n",
    "trainRMSEscore = cross_val_score(estimator=GBoost, X=X[sfs_forward_features], y=y, scoring='neg_mean_squared_error', cv=kf)\n",
    "trainr2score = cross_val_score(estimator=GBoost, X=X[sfs_forward_features], y=y, scoring='r2', cv=kf)\n",
    "\n",
    "print(\"Average Train R2   \",np.mean(trainr2score))\n",
    "print(\"Average Train RMSE \",np.mean(np.sqrt(abs(trainRMSEscore))))\n"
   ]
  },
  {
   "cell_type": "code",
   "execution_count": 814,
   "id": "psychological-compound",
   "metadata": {},
   "outputs": [
    {
     "data": {
      "text/plain": [
       "array([2799.22520514,  586.81110291, 1132.22403856, 3038.23718641,\n",
       "        535.23599058, 1067.80063209, 3722.55689026,  719.89022835,\n",
       "       1227.61890709, 3746.46064154,  722.72214467, 1196.20290645,\n",
       "       3818.21563282,  786.45516802, 1272.46394637, 3648.751788  ,\n",
       "        730.70732288, 1214.09788907, 3484.50812223,  611.07819024,\n",
       "       1081.94073986, 3578.25915861,  651.85165848, 1122.7142081 ,\n",
       "       3539.80826566,  645.0732704 , 1107.44979854, 3645.91462969,\n",
       "        674.35403345, 1124.20254501, 3788.85125378,  721.71821847,\n",
       "       1171.56673003, 4804.03176003, 1057.6023622 , 1523.43698803])"
      ]
     },
     "execution_count": 814,
     "metadata": {},
     "output_type": "execute_result"
    }
   ],
   "source": [
    "GB_model_Tunned_v1.predict(s14[sfs_forward_features])"
   ]
  },
  {
   "cell_type": "code",
   "execution_count": 815,
   "id": "sound-storage",
   "metadata": {},
   "outputs": [],
   "source": [
    "te = pd.DataFrame()\n",
    "te['Year'] = np.arange(1,37)\n",
    "te['Sales(In ThousandDollars)'] = GB_model_Tunned_v1.predict(s14[sfs_forward_features])\n",
    "te.to_csv(\"GB_tunned_FeatureSet_v1.csv\",index=False)\n",
    "\n",
    "#Kaggle\n",
    "313.78568"
   ]
  },
  {
   "cell_type": "markdown",
   "id": "ancient-qatar",
   "metadata": {},
   "source": [
    "## 2. GB + sfs_forward_features_gb"
   ]
  },
  {
   "cell_type": "code",
   "execution_count": 816,
   "id": "afraid-mortgage",
   "metadata": {},
   "outputs": [],
   "source": [
    "sfs_fwd_gb_untunned_features = ['Year', 'Month', 'Temp avg (°C)', 'Monthly Real GDP Index (inMillion$)', 'unemployment rate', 'Average upland harvested(million acres)', 'ProductCategory_MenClothing', 'ProductCategory_OtherClothing', 'ProductCategory_WomenClothing']"
   ]
  },
  {
   "cell_type": "code",
   "execution_count": 865,
   "id": "listed-preliminary",
   "metadata": {},
   "outputs": [
    {
     "name": "stdout",
     "output_type": "stream",
     "text": [
      "Average Train R2    0.9808241557725124\n",
      "Average Train RMSE  149.29438715391876\n"
     ]
    },
    {
     "data": {
      "text/plain": [
       "array([2959.51749065,  624.66932501, 1201.02091462, 3209.05724789,\n",
       "        605.43242375, 1181.78401336, 3730.63408319,  723.07870579,\n",
       "       1262.8343677 , 3849.41661514,  792.02446393, 1233.37524085,\n",
       "       3919.53460694,  767.29571942, 1192.80068954, 3649.33149783,\n",
       "        803.41301895, 1229.35638575, 3599.88906   ,  789.27582005,\n",
       "       1206.53472072, 3505.60635159,  728.55960146, 1137.18989105,\n",
       "       3582.4962952 ,  736.57781632, 1162.52118312, 3722.8742384 ,\n",
       "        783.40248747, 1193.70594319, 3818.75489631,  781.02141196,\n",
       "       1232.4570208 , 4879.64308702, 1131.87003432, 1595.0829221 ])"
      ]
     },
     "execution_count": 865,
     "metadata": {},
     "output_type": "execute_result"
    }
   ],
   "source": [
    "GBoost=GradientBoostingRegressor(criterion= 'friedman_mse',max_depth= 2,min_samples_split= 3,n_estimators= 200, \n",
    "                                 learning_rate=0.19,random_state=208)\n",
    "GB_model_Tunned_v2 = GBoost.fit(X[sfs_fwd_gb_untunned_features],y)\n",
    "\n",
    "kf = KFold(n_splits=10,shuffle=True,random_state=10)\n",
    "trainRMSEscore = cross_val_score(estimator=GBoost, X=X[sfs_fwd_gb_untunned_features], y=y, scoring='neg_mean_squared_error', cv=kf)\n",
    "trainr2score = cross_val_score(estimator=GBoost, X=X[sfs_fwd_gb_untunned_features], y=y, scoring='r2', cv=kf)\n",
    "\n",
    "print(\"Average Train R2   \",np.mean(trainr2score))\n",
    "print(\"Average Train RMSE \",np.mean(np.sqrt(abs(trainRMSEscore))))\n",
    "\n",
    "GB_model_Tunned_v2.predict(s14[sfs_fwd_gb_untunned_features])"
   ]
  },
  {
   "cell_type": "code",
   "execution_count": 818,
   "id": "renewable-pierce",
   "metadata": {},
   "outputs": [],
   "source": [
    "te = pd.DataFrame()\n",
    "te['Year'] = np.arange(1,37)\n",
    "te['Sales(In ThousandDollars)'] = GB_model_Tunned_v2.predict(s14[sfs_fwd_gb_untunned_features])\n",
    "te.to_csv(\"GB_tunned_FeatureSet_v2.csv\",index=False)\n",
    "\n",
    "#Kaggle\n",
    "271.54052"
   ]
  },
  {
   "cell_type": "markdown",
   "id": "changing-place",
   "metadata": {},
   "source": [
    "## 3.GB + sfs_forward_features_gb"
   ]
  },
  {
   "cell_type": "code",
   "execution_count": 819,
   "id": "distributed-durham",
   "metadata": {},
   "outputs": [
    {
     "data": {
      "text/plain": [
       "['Year',\n",
       " 'Month',\n",
       " 'ProductCategory_MenClothing',\n",
       " 'ProductCategory_WomenClothing']"
      ]
     },
     "execution_count": 819,
     "metadata": {},
     "output_type": "execute_result"
    }
   ],
   "source": [
    "sfs_forward_features_gb"
   ]
  },
  {
   "cell_type": "code",
   "execution_count": 820,
   "id": "daily-claim",
   "metadata": {},
   "outputs": [
    {
     "name": "stdout",
     "output_type": "stream",
     "text": [
      "Average Train R2    0.9883871886610889\n",
      "Average Train RMSE  117.68167965436547\n"
     ]
    },
    {
     "data": {
      "text/plain": [
       "array([2625.37662548,  482.84257849, 1037.00049333, 2872.23027842,\n",
       "        603.39615886, 1178.45090476, 3624.04349843,  729.03970737,\n",
       "       1304.09445327, 3738.0729408 ,  793.734203  , 1324.11141561,\n",
       "       3796.05046421,  815.20605394, 1345.58326655, 3417.20816915,\n",
       "        743.6268716 , 1242.3278142 , 3294.27892347,  657.73836587,\n",
       "       1156.43930848, 3476.50274858,  707.9430488 , 1206.64399141,\n",
       "       3507.04668299,  713.16482275, 1211.86576535, 3598.56025591,\n",
       "        761.62855294, 1263.57446919, 3750.9433726 ,  798.88407865,\n",
       "       1300.8299949 , 4836.66811435, 1111.6321528 , 1644.99629405])"
      ]
     },
     "execution_count": 820,
     "metadata": {},
     "output_type": "execute_result"
    }
   ],
   "source": [
    "GBoost=GradientBoostingRegressor(criterion= 'friedman_mse',max_depth= 2,min_samples_split= 3,n_estimators= 200, \n",
    "                                 learning_rate=0.19,random_state=208)\n",
    "GB_model_Tunned_v3 = GBoost.fit(X[sfs_forward_features_gb],y)\n",
    "\n",
    "kf = KFold(n_splits=10,shuffle=True,random_state=10)\n",
    "trainRMSEscore = cross_val_score(estimator=GBoost, X=X[sfs_forward_features_gb], y=y, scoring='neg_mean_squared_error', cv=kf)\n",
    "trainr2score = cross_val_score(estimator=GBoost, X=X[sfs_forward_features_gb], y=y, scoring='r2', cv=kf)\n",
    "\n",
    "print(\"Average Train R2   \",np.mean(trainr2score))\n",
    "print(\"Average Train RMSE \",np.mean(np.sqrt(abs(trainRMSEscore))))\n",
    "\n",
    "GB_model_Tunned_v3.predict(s14[sfs_forward_features_gb])"
   ]
  },
  {
   "cell_type": "code",
   "execution_count": 821,
   "id": "gentle-thumb",
   "metadata": {},
   "outputs": [],
   "source": [
    "te = pd.DataFrame()\n",
    "te['Year'] = np.arange(1,37)\n",
    "te['Sales(In ThousandDollars)'] = GB_model_Tunned_v3.predict(s14[sfs_forward_features_gb])\n",
    "te.to_csv(\"GB_tunned_FeatureSet_v3.csv\",index=False)\n",
    "\n",
    "#KAggle\n",
    "324.23764"
   ]
  },
  {
   "cell_type": "markdown",
   "id": "packed-clock",
   "metadata": {},
   "source": [
    "## 4.GB + sfs_backward_features_gb"
   ]
  },
  {
   "cell_type": "code",
   "execution_count": 822,
   "id": "agricultural-basis",
   "metadata": {},
   "outputs": [
    {
     "data": {
      "text/plain": [
       "['Month',\n",
       " 'Temp avg (°C)',\n",
       " 'CommercialBankInterestRateonCreditCardPlans',\n",
       " 'Earnings or wages  in dollars per hour',\n",
       " 'Cotton Monthly Price - US cents per Pound(lbs)',\n",
       " 'Change(in%)',\n",
       " 'yieldperharvested acre',\n",
       " 'Production (in  480-lb netweright in million bales)',\n",
       " 'Mill use  (in  480-lb netweright in million bales)',\n",
       " 'Exports',\n",
       " 'ProductCategory_MenClothing',\n",
       " 'ProductCategory_WomenClothing']"
      ]
     },
     "execution_count": 822,
     "metadata": {},
     "output_type": "execute_result"
    }
   ],
   "source": [
    "sfs_backward_features_gb"
   ]
  },
  {
   "cell_type": "code",
   "execution_count": null,
   "id": "expected-intake",
   "metadata": {},
   "outputs": [],
   "source": [
    "0.2899999999999999"
   ]
  },
  {
   "cell_type": "code",
   "execution_count": 1087,
   "id": "designed-sierra",
   "metadata": {},
   "outputs": [
    {
     "name": "stdout",
     "output_type": "stream",
     "text": [
      "Average Train R2    0.9784347606237409\n",
      "Average Train RMSE  160.08598106990004\n"
     ]
    },
    {
     "data": {
      "text/plain": [
       "array([2748.10863385,  376.94918902, 1017.9183445 , 3120.03083688,\n",
       "        409.70089379, 1020.50571596, 3726.06004443,  614.85614443,\n",
       "       1225.6609666 , 3827.4833863 ,  641.56375795, 1189.67813239,\n",
       "       3928.92502441,  615.07637407, 1148.16939807, 3575.01027989,\n",
       "        676.94653692, 1161.19312439, 3575.05645585,  686.47768065,\n",
       "       1170.72426811, 3477.37438386,  684.93954451, 1168.2664366 ,\n",
       "       3499.91535578,  672.22015024, 1130.47628763, 3651.99571602,\n",
       "        766.21370575, 1220.58230273, 3828.1763476 ,  806.87751285,\n",
       "       1297.66917238, 4832.55598213, 1045.64432213, 1603.77649693])"
      ]
     },
     "execution_count": 1087,
     "metadata": {},
     "output_type": "execute_result"
    }
   ],
   "source": [
    "GBoost=GradientBoostingRegressor(criterion= 'friedman_mse',max_depth= 2,min_samples_split= 3,n_estimators= 270, \n",
    "                                 learning_rate=0.5099999999999998,subsample= 0.9)\n",
    "GB_model_Tunned_v4 = GBoost.fit(X[sfs_fwd_gb_untunned_features],y)\n",
    "\n",
    "kf = KFold(n_splits=10,shuffle=True)\n",
    "trainRMSEscore = cross_val_score(estimator=GBoost, X=X[sfs_fwd_gb_untunned_features], y=y, scoring='neg_mean_squared_error', cv=kf)\n",
    "trainr2score = cross_val_score(estimator=GBoost, X=X[sfs_fwd_gb_untunned_features], y=y, scoring='r2', cv=kf)\n",
    "\n",
    "print(\"Average Train R2   \",np.mean(trainr2score))\n",
    "print(\"Average Train RMSE \",np.mean(np.sqrt(abs(trainRMSEscore))))\n",
    "\n",
    "GB_model_Tunned_v4.predict(s14[sfs_fwd_gb_untunned_features])"
   ]
  },
  {
   "cell_type": "code",
   "execution_count": 1080,
   "id": "ancient-chambers",
   "metadata": {},
   "outputs": [],
   "source": [
    "te = pd.DataFrame()\n",
    "te['Year'] = np.arange(1,37)\n",
    "te['Sales(In ThousandDollars)'] = GB_model_Tunned_v4.predict(s14[sfs_fwd_gb_untunned_features])\n",
    "te.to_csv(\"GB_tunned_FeatureSet_v4.csv\",index=False)\n",
    "\n",
    "#Kaggle\n",
    "#387.66145"
   ]
  },
  {
   "cell_type": "markdown",
   "id": "postal-delicious",
   "metadata": {},
   "source": [
    "## 5. GB and sfsBackward Feature"
   ]
  },
  {
   "cell_type": "code",
   "execution_count": 1060,
   "id": "creative-termination",
   "metadata": {},
   "outputs": [
    {
     "name": "stdout",
     "output_type": "stream",
     "text": [
      "Average Train R2    0.9757200073158536\n",
      "Average Train RMSE  199.0212445589737\n",
      "--------------------------------------------------\n",
      "Average Test R2    0.2564237591921555\n",
      "Average Test RMSE  164.13767667973886\n"
     ]
    }
   ],
   "source": [
    "#br = BaggingRegressor(base_estimator=GradientBoostingRegressor(n_estimators=30,random_state=10,learning_rate=0.19,min_samples_leaf=1),n_estimators=30)\n",
    "gb=GradientBoostingRegressor(criterion= 'friedman_mse',max_depth= 2,min_samples_split= 3,n_estimators= 300, \n",
    "                                 learning_rate=0.2899999999999999,subsample= 0.9)\n",
    "\n",
    "GB_model_Tunned_v5 = gb.fit(xtrain[sfs_backward_features], ytrain)\n",
    "kf = KFold(n_splits=10,shuffle=True,random_state=10)\n",
    "trainRMSEscore = cross_val_score(estimator=gb, X=xtrain[sfs_backward_features], y=ytrain, scoring='neg_mean_squared_error', cv=kf)\n",
    "trainr2score = cross_val_score(estimator=gb, X=xtrain[sfs_backward_features], y=ytrain, scoring='r2', cv=kf)\n",
    "\n",
    "print(\"Average Train R2   \",np.mean(trainr2score))\n",
    "print(\"Average Train RMSE \",np.mean(np.sqrt(abs(trainRMSEscore))))\n",
    "print(\"-\"*50)\n",
    "testRMSEscore = cross_val_score(estimator=gb, X=xtest[sfs_backward_features], y=ytest, scoring='neg_mean_squared_error', cv=kf)\n",
    "testr2score = cross_val_score(estimator=gb, X=xtest[sfs_backward_features], y=ytest, scoring='r2', cv=kf)\n",
    "\n",
    "print(\"Average Test R2   \",np.mean(testr2score))\n",
    "print(\"Average Test RMSE \",np.mean(np.sqrt(abs(testRMSEscore))))"
   ]
  },
  {
   "cell_type": "code",
   "execution_count": 1061,
   "id": "universal-boutique",
   "metadata": {},
   "outputs": [
    {
     "data": {
      "text/plain": [
       "array([3115.82057034,  886.30574085, 1062.31282537, 3301.08226792,\n",
       "        696.90769753, 1107.36587123, 3780.15304919,  785.93405727,\n",
       "       1204.95453191, 3736.2058713 ,  747.96178532, 1116.94928339,\n",
       "       3787.15969953,  843.23291228, 1172.57620191, 3784.63900597,\n",
       "        946.12290971, 1265.4211241 , 3611.89327559,  699.21902541,\n",
       "       1085.65350627, 3703.57731602,  612.4254485 , 1036.07143872,\n",
       "       3748.90145236,  874.63446332, 1229.68357048, 3662.25134393,\n",
       "        779.42205395, 1143.03346206, 3718.9189049 ,  757.02785176,\n",
       "       1166.94853743, 4806.64118855, 1130.44634386, 1465.68506189])"
      ]
     },
     "execution_count": 1061,
     "metadata": {},
     "output_type": "execute_result"
    }
   ],
   "source": [
    "GB_model_Tunned_v5.predict(s14[sfs_backward_features])"
   ]
  },
  {
   "cell_type": "code",
   "execution_count": 844,
   "id": "behavioral-integrity",
   "metadata": {},
   "outputs": [],
   "source": [
    "te = pd.DataFrame()\n",
    "te['Year'] = np.arange(1,37)\n",
    "te['Sales(In ThousandDollars)'] = GB_model_Tunned_v5.predict(s14[sfs_backward_features])\n",
    "te.to_csv(\"GB_tunned_FeatureSet_v5.csv\",index=False)"
   ]
  },
  {
   "cell_type": "code",
   "execution_count": 853,
   "id": "specialized-casting",
   "metadata": {},
   "outputs": [],
   "source": [
    "te = pd.DataFrame()\n",
    "te['Year'] = np.arange(1,37)\n",
    "te['Sales(In ThousandDollars)'] = GB_model_Tunned_v5.predict(s14[sfs_backward_features])\n",
    "te.to_csv(\"GB_tunned_FeatureSet_v6.csv\",index=False)"
   ]
  },
  {
   "cell_type": "code",
   "execution_count": null,
   "id": "emotional-detail",
   "metadata": {},
   "outputs": [],
   "source": []
  },
  {
   "cell_type": "code",
   "execution_count": null,
   "id": "opposed-marking",
   "metadata": {},
   "outputs": [],
   "source": []
  },
  {
   "cell_type": "code",
   "execution_count": 949,
   "id": "crude-pitch",
   "metadata": {},
   "outputs": [
    {
     "name": "stdout",
     "output_type": "stream",
     "text": [
      "Average Train R2    0.9808245865712883\n",
      "Average Train RMSE  149.55420151155099\n"
     ]
    },
    {
     "data": {
      "text/plain": [
       "array([2959.51749065,  624.66932501, 1201.02091462, 3209.05724789,\n",
       "        605.43242375, 1181.78401336, 3730.63408319,  723.07870579,\n",
       "       1262.8343677 , 3849.41661514,  792.02446393, 1233.37524085,\n",
       "       3919.53460694,  767.29571942, 1192.80068954, 3649.33149783,\n",
       "        803.41301895, 1229.35638575, 3599.88906   ,  789.27582005,\n",
       "       1206.53472072, 3505.60635159,  728.55960146, 1137.18989105,\n",
       "       3582.4962952 ,  736.57781632, 1162.52118312, 3722.8742384 ,\n",
       "        783.40248747, 1193.70594319, 3818.75489631,  781.02141196,\n",
       "       1232.4570208 , 4879.64308702, 1131.87003432, 1595.0829221 ])"
      ]
     },
     "execution_count": 949,
     "metadata": {},
     "output_type": "execute_result"
    }
   ],
   "source": [
    "GBoost=GradientBoostingRegressor(criterion= 'friedman_mse',max_depth= 2,min_samples_split= 3,n_estimators= 200, \n",
    "                                 learning_rate=0.19)\n",
    "GB_model_Tunned_v2 = GBoost.fit(X[sfs_fwd_gb_untunned_features],y)\n",
    "\n",
    "kf = KFold(n_splits=10,shuffle=True,random_state=10)\n",
    "trainRMSEscore = cross_val_score(estimator=GBoost, X=X[sfs_fwd_gb_untunned_features], y=y, scoring='neg_mean_squared_error', cv=kf)\n",
    "trainr2score = cross_val_score(estimator=GBoost, X=X[sfs_fwd_gb_untunned_features], y=y, scoring='r2', cv=kf)\n",
    "\n",
    "print(\"Average Train R2   \",np.mean(trainr2score))\n",
    "print(\"Average Train RMSE \",np.mean(np.sqrt(abs(trainRMSEscore))))\n",
    "\n",
    "GB_model_Tunned_v2.predict(s14[sfs_fwd_gb_untunned_features])"
   ]
  },
  {
   "cell_type": "code",
   "execution_count": 915,
   "id": "beginning-protest",
   "metadata": {},
   "outputs": [],
   "source": [
    "te = pd.DataFrame()\n",
    "te['Year'] = np.arange(1,37)\n",
    "te['Sales(In ThousandDollars)'] = GB_model_Tunned_v2.predict(s14[sfs_fwd_gb_untunned_features])\n",
    "te.to_csv(\"GB_tunned_FeatureSet_v11.csv\",index=False)"
   ]
  },
  {
   "cell_type": "code",
   "execution_count": 940,
   "id": "efficient-bradford",
   "metadata": {},
   "outputs": [
    {
     "data": {
      "text/plain": [
       "Index(['Month', 'Event', 'Day', 'Temp avg (°C)', 'WeatherEvent', 'CPI',\n",
       "       'unemployment rate', 'ProductCategory_MenClothing',\n",
       "       'ProductCategory_OtherClothing', 'ProductCategory_WomenClothing'],\n",
       "      dtype='object')"
      ]
     },
     "execution_count": 940,
     "metadata": {},
     "output_type": "execute_result"
    }
   ],
   "source": [
    "features_set"
   ]
  },
  {
   "cell_type": "code",
   "execution_count": 1143,
   "id": "elegant-juice",
   "metadata": {},
   "outputs": [
    {
     "name": "stdout",
     "output_type": "stream",
     "text": [
      "Average Train R2    0.9003949801190819\n",
      "Average Train RMSE  317.56747111623525\n",
      "--------------------------------------------------\n",
      "Average Test R2    -1.9479329561287095\n",
      "Average Test RMSE  490.7975642943694\n"
     ]
    },
    {
     "data": {
      "text/plain": [
       "array([3397.45470831,  891.22250236, 1306.67468063, 3424.99328943,\n",
       "        918.76108347, 1334.21326175, 3454.3111785 ,  948.07897254,\n",
       "       1363.53115082, 3457.99502594,  951.76281999, 1367.21499826,\n",
       "       3457.9527706 ,  951.72056464, 1367.17274292, 3480.32866226,\n",
       "        974.09645631, 1389.54863458, 3505.00279975,  998.77059379,\n",
       "       1414.22277207, 3592.16390167, 1085.93169571, 1501.38387399,\n",
       "       3678.4401722 , 1172.20796624, 1587.66014451, 3809.03038395,\n",
       "       1302.798178  , 1718.25035627, 3949.20518484, 1442.97297889,\n",
       "       1858.42515716, 4043.55254975, 1537.32034379, 1952.77252206])"
      ]
     },
     "execution_count": 1143,
     "metadata": {},
     "output_type": "execute_result"
    }
   ],
   "source": [
    "\n",
    "xtrain, xtest, ytrain, ytest = train_test_split(X,y, test_size=0.2)\n",
    "GBoost=GradientBoostingRegressor(criterion= 'friedman_mse',max_depth= 2,min_samples_split= 3,n_estimators= 66, \n",
    "                                 learning_rate=0.5099999999999998,subsample= 0.9)\n",
    "lr = LinearRegression()\n",
    "\n",
    "GB_model_Tunned_v5 = lr.fit(xtrain[sfs_fwd_gb_untunned_features], ytrain)\n",
    "kf = KFold(n_splits=10,shuffle=True)\n",
    "trainRMSEscore = cross_val_score(estimator=lr, X=xtrain[sfs_fwd_gb_untunned_features], y=ytrain, scoring='neg_mean_squared_error', cv=kf)\n",
    "trainr2score = cross_val_score(estimator=lr, X=xtrain[sfs_fwd_gb_untunned_features], y=ytrain, scoring='r2', cv=kf)\n",
    "\n",
    "print(\"Average Train R2   \",np.mean(trainr2score))\n",
    "print(\"Average Train RMSE \",np.mean(np.sqrt(abs(trainRMSEscore))))\n",
    "print(\"-\"*50)\n",
    "testRMSEscore = cross_val_score(estimator=lr, X=xtest[sfs_fwd_gb_untunned_features], y=ytest, scoring='neg_mean_squared_error', cv=kf)\n",
    "testr2score = cross_val_score(estimator=lr, X=xtest[sfs_fwd_gb_untunned_features], y=ytest, scoring='r2', cv=kf)\n",
    "\n",
    "print(\"Average Test R2   \",np.mean(testr2score))\n",
    "print(\"Average Test RMSE \",np.mean(np.sqrt(abs(testRMSEscore))))\n",
    "GB_model_Tunned_v5.predict(s14[sfs_fwd_gb_untunned_features])"
   ]
  },
  {
   "cell_type": "code",
   "execution_count": 1109,
   "id": "olive-controversy",
   "metadata": {},
   "outputs": [],
   "source": [
    "te = pd.DataFrame()\n",
    "te['Year'] = np.arange(1,37)\n",
    "te['Sales(In ThousandDollars)'] = GB_model_Tunned_v5.predict(s14[sfs_fwd_gb_untunned_features])\n",
    "te.to_csv(\"GB_tunned_FeatureSet_v12.csv\",index=False)"
   ]
  },
  {
   "cell_type": "code",
   "execution_count": null,
   "id": "alpine-archives",
   "metadata": {},
   "outputs": [],
   "source": [
    "'learning_rate': 0.2899999999999999"
   ]
  },
  {
   "cell_type": "code",
   "execution_count": 1054,
   "id": "revolutionary-brazil",
   "metadata": {},
   "outputs": [
    {
     "name": "stdout",
     "output_type": "stream",
     "text": [
      "Average Train R2    0.9710386325528295\n",
      "Average Train RMSE  203.13462253442424\n",
      "--------------------------------------------------\n",
      "Average Test R2    0.8467649030350085\n",
      "Average Test RMSE  169.35447436471216\n"
     ]
    }
   ],
   "source": [
    "xtrain, xtest, ytrain, ytest = train_test_split(X,y, test_size=0.25,random_state=208)\n",
    "gb=GradientBoostingRegressor(criterion= 'friedman_mse',max_depth= 2,min_samples_split= 3,n_estimators= 300, \n",
    "                                 learning_rate=0.2899999999999999,subsample= 0.9)\n",
    "\n",
    "GB_model_Tunned_v6 = gb.fit(xtrain[sfs_backward_features], ytrain)\n",
    "kf = KFold(n_splits=10,shuffle=True)\n",
    "trainRMSEscore = cross_val_score(estimator=gb, X=xtrain[sfs_backward_features], y=ytrain, scoring='neg_mean_squared_error', cv=kf)\n",
    "trainr2score = cross_val_score(estimator=gb, X=xtrain[sfs_backward_features], y=ytrain, scoring='r2', cv=kf)\n",
    "\n",
    "print(\"Average Train R2   \",np.mean(trainr2score))\n",
    "print(\"Average Train RMSE \",np.mean(np.sqrt(abs(trainRMSEscore))))\n",
    "print(\"-\"*50)\n",
    "testRMSEscore = cross_val_score(estimator=gb, X=xtest[sfs_backward_features], y=ytest, scoring='neg_mean_squared_error', cv=kf)\n",
    "testr2score = cross_val_score(estimator=gb, X=xtest[sfs_backward_features], y=ytest, scoring='r2', cv=kf)\n",
    "\n",
    "print(\"Average Test R2   \",np.mean(testr2score))\n",
    "print(\"Average Test RMSE \",np.mean(np.sqrt(abs(testRMSEscore))))"
   ]
  },
  {
   "cell_type": "code",
   "execution_count": 1055,
   "id": "documented-nirvana",
   "metadata": {},
   "outputs": [
    {
     "data": {
      "text/plain": [
       "array([2812.53126761,  748.61265582,  994.27422628, 3072.20931314,\n",
       "        584.02647979,  999.45644556, 3645.40615469,  826.60741397,\n",
       "       1186.20704173, 3716.31765908,  826.77822305, 1141.34819759,\n",
       "       3791.92023649,  861.50577867, 1173.28580185, 3659.80901816,\n",
       "        864.52906974, 1223.59811986, 3553.6807843 ,  801.98777408,\n",
       "       1196.02966949, 3722.99803958,  896.22503375, 1338.6905762 ,\n",
       "       3758.34512241,  875.70940804, 1226.30228763, 3560.92847573,\n",
       "        678.29276136, 1028.88564095, 3708.88720495,  812.66862237,\n",
       "       1304.31988358, 4827.54658168, 1027.96560538, 1492.04502163])"
      ]
     },
     "execution_count": 1055,
     "metadata": {},
     "output_type": "execute_result"
    }
   ],
   "source": [
    "GB_model_Tunned_v6.predict(s14[sfs_backward_features])"
   ]
  },
  {
   "cell_type": "code",
   "execution_count": 1009,
   "id": "mature-container",
   "metadata": {},
   "outputs": [
    {
     "data": {
      "text/plain": [
       "<sklearn.linear_model._sgd_fast.Huber at 0x9d5b182f10>"
      ]
     },
     "execution_count": 1009,
     "metadata": {},
     "output_type": "execute_result"
    }
   ],
   "source": [
    "{'max_depth': 3, 'min_samples_split': 2, 'n_estimators': 300, 'subsample': 0.9}"
   ]
  },
  {
   "cell_type": "code",
   "execution_count": null,
   "id": "still-celebrity",
   "metadata": {},
   "outputs": [],
   "source": []
  }
 ],
 "metadata": {
  "kernelspec": {
   "display_name": "Python 3",
   "language": "python",
   "name": "python3"
  },
  "language_info": {
   "codemirror_mode": {
    "name": "ipython",
    "version": 3
   },
   "file_extension": ".py",
   "mimetype": "text/x-python",
   "name": "python",
   "nbconvert_exporter": "python",
   "pygments_lexer": "ipython3",
   "version": "3.7.4"
  }
 },
 "nbformat": 4,
 "nbformat_minor": 5
}
